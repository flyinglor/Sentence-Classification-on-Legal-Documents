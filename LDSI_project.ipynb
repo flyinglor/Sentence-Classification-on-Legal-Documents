{
 "cells": [
  {
   "cell_type": "markdown",
   "id": "2568939f",
   "metadata": {},
   "source": [
    "# LDSI Code & Experiment"
   ]
  },
  {
   "cell_type": "markdown",
   "id": "0a7333a0",
   "metadata": {},
   "source": [
    "## Import dependency"
   ]
  },
  {
   "cell_type": "code",
   "execution_count": 1,
   "id": "processed-running",
   "metadata": {},
   "outputs": [],
   "source": [
    "import spacy\n",
    "import json\n",
    "import random\n",
    "import re\n",
    "import os\n",
    "import pandas as pd\n",
    "import numpy as np\n",
    "from sklearn import model_selection\n",
    "from spacy.tokenizer import Tokenizer\n",
    "from spacy.lang.en import English\n",
    "from spacy.symbols import ORTH\n",
    "from sklearn.feature_extraction import DictVectorizer\n",
    "from sklearn.feature_extraction.text import TfidfVectorizer\n",
    "from sklearn.svm import SVC\n",
    "from sklearn.ensemble import RandomForestClassifier\n",
    "from sklearn.naive_bayes import GaussianNB\n",
    "from sklearn.linear_model import LogisticRegression\n",
    "from sklearn.metrics import classification_report, confusion_matrix\n",
    "from sklearn import tree\n",
    "import matplotlib.pyplot as plt\n",
    "import fasttext\n",
    "from sklearn.model_selection import cross_validate\n",
    "from sklearn.model_selection import train_test_split\n",
    "import pickle\n",
    "from spacy.lang.char_classes import ALPHA, ALPHA_LOWER, ALPHA_UPPER, HYPHENS\n",
    "from spacy.lang.char_classes import CONCAT_QUOTES, LIST_ELLIPSES, LIST_ICONS\n",
    "from spacy.util import compile_infix_regex\n",
    "\n",
    "%load_ext autoreload\n",
    "%autoreload 2"
   ]
  },
  {
   "cell_type": "markdown",
   "id": "eecc0e90",
   "metadata": {},
   "source": [
    "## Phase 7: Code Deliverable & Instructions"
   ]
  },
  {
   "cell_type": "markdown",
   "id": "afd0f40e",
   "metadata": {},
   "source": [
    "### Set up tokenizer"
   ]
  },
  {
   "cell_type": "code",
   "execution_count": 2,
   "id": "0b53863f",
   "metadata": {},
   "outputs": [],
   "source": [
    "standard_segmenter = spacy.load(\"en_core_web_sm\")\n",
    "standard_segmenter.disable_pipes('parser')\n",
    "\n",
    "standard_segmenter.tokenizer.add_special_case('Vet.App.', [{ORTH: 'Vet.App.'}])\n",
    "standard_segmenter.tokenizer.add_special_case('Vet. App.', [{ORTH: 'Vet. App.'}])\n",
    "standard_segmenter.tokenizer.add_special_case('Fed. Cir.', [{ORTH: 'Fed. Cir.'}])\n",
    "standard_segmenter.tokenizer.add_special_case('Fed.Cir.', [{ORTH: 'Fed.Cir.'}])\n",
    "standard_segmenter.tokenizer.add_special_case(\"service'-\", [{ORTH: \"service\"}, {ORTH: \"'\"}, {ORTH: \"-\"}])\n",
    "standard_segmenter.tokenizer.add_special_case(\"service'-the\", [{ORTH: \"service\"}, {ORTH: \"'\"}, {ORTH: \"-\"}, {ORTH: \"the\"}])\n",
    "standard_segmenter.tokenizer.add_special_case(\"service'--the\", [{ORTH: \"service\"}, {ORTH: \"'\"}, {ORTH: \"--\"}, {ORTH: \"the\"}])\n",
    "standard_segmenter.tokenizer.add_special_case('service\"-', [{ORTH: 'service'}, {ORTH: '\"'}, {ORTH: '-'}])\n",
    "standard_segmenter.tokenizer.add_special_case('service\"-the', [{ORTH: 'service'}, {ORTH: '\"'}, {ORTH: '-'}, {ORTH: 'the'}])\n",
    "standard_segmenter.tokenizer.add_special_case('service\"--the', [{ORTH: 'service'}, {ORTH: '\"'}, {ORTH: '--'}, {ORTH: 'the'}])\n",
    "\n",
    "# Modify tokenizer infix patterns to not seperate on '-'\n",
    "infixes = (\n",
    "    LIST_ELLIPSES\n",
    "    + LIST_ICONS\n",
    "    + [\n",
    "        r\"(?<=[0-9])[+\\-\\*^](?=[0-9-])\",\n",
    "        r\"(?<=[{al}{q}])\\.(?=[{au}{q}])\".format(\n",
    "            al=ALPHA_LOWER, au=ALPHA_UPPER, q=CONCAT_QUOTES\n",
    "        ),\n",
    "        r\"(?<=[{a}]),(?=[{a}])\".format(a=ALPHA),\n",
    "        r\"(?<=[{a}])(?:{h})(?=[{a}])\".format(a=ALPHA, h=HYPHENS),\n",
    "        r\"(?<=[{a}0-9])[:<>=/](?=[{a}])\".format(a=ALPHA),\n",
    "    ]\n",
    ")\n",
    "\n",
    "infix_re = compile_infix_regex(infixes)\n",
    "standard_segmenter.tokenizer.infix_finditer = infix_re.finditer"
   ]
  },
  {
   "cell_type": "markdown",
   "id": "715b4331",
   "metadata": {},
   "source": [
    "### Some helper functions to run *analyze(str)*"
   ]
  },
  {
   "cell_type": "code",
   "execution_count": 3,
   "id": "3d5867c6",
   "metadata": {},
   "outputs": [],
   "source": [
    "from luima_sbd.sbd_utils import text2sentences\n",
    "luima_segmenter = text2sentences\n",
    "\n",
    "def spacy_tokenize(txt):\n",
    "    doc = standard_segmenter(txt)\n",
    "    tokens = list(doc)\n",
    "    clean_tokens = []\n",
    "    for t in tokens:\n",
    "        #remove punctuation\n",
    "        if t.pos_ == 'PUNCT':\n",
    "            pass\n",
    "        #remove space, i.e., \\r', '\\t', '\\n'\n",
    "        elif t.pos_ == 'SPACE':\n",
    "            pass\n",
    "        #'three'-NUM5\n",
    "        elif t.pos_ == 'NUM' and t.is_digit == True:\n",
    "            clean_tokens.append(f'<NUM{len(t)}>')\n",
    "        else:\n",
    "            clean_tokens.append(t.lemma_.lower())\n",
    "    return clean_tokens\n",
    "\n",
    "def get_word_emdedding(spans, model):\n",
    "    embedding_list = []\n",
    "    for s in spans:\n",
    "        tokens = spacy_tokenize(s)\n",
    "        embedding = 0\n",
    "        for t in tokens:\n",
    "            embedding = embedding + model.get_word_vector(t)\n",
    "        embedding_list.append(embedding/len(tokens))\n",
    "    return np.array(embedding_list)\n",
    "\n",
    "def make_features(spans, model):\n",
    "    sentence_embedding = get_word_emdedding(spans, model)\n",
    "    mean = 21.48538961038961\n",
    "    std = 16.075128094247717\n",
    "    num_tokens = np.array([len(spacy_tokenize(s)) for s in spans])\n",
    "    num_tokens_normalized = np.array([ (n-mean)/std for n in num_tokens ])\n",
    "    start_mean = 0.44916800443681015\n",
    "    starts_normalized = start_mean*np.ones(len(spans))\n",
    "    \n",
    "    features = np.concatenate((sentence_embedding, np.expand_dims(starts_normalized, axis=1), \n",
    "                        np.expand_dims(num_tokens_normalized, axis=1)), axis=1)\n",
    "    return features\n",
    "\n",
    "def analyze(str):\n",
    "    '''\n",
    "    input: single text strin\n",
    "    return: a list of split sentences along with the name of types they have been classified as\n",
    "    '''\n",
    "    sents = luima_segmenter(str, offsets=False)\n",
    "    features = make_features(sents, embeddings)\n",
    "    pred = clf.predict(features)\n",
    "    for i in range(len(sents)):\n",
    "        print('[',i+1,']',sents[i], '\\t\\tPredict: ', pred[i])\n",
    "\n",
    "def setup(clf_path, embedding_path):\n",
    "    clf = pickle.load(open(clf_path, 'rb'))\n",
    "    #uncomment the line below to avoid warning\n",
    "    #fasttext.FastText.eprint = lambda x: None\n",
    "    embeddings = fasttext.load_model(embedding_path)\n",
    "    return clf, embeddings\n"
   ]
  },
  {
   "cell_type": "markdown",
   "id": "676fb934",
   "metadata": {},
   "source": [
    "### Analyze the work"
   ]
  },
  {
   "cell_type": "code",
   "execution_count": 5,
   "id": "65fe1f7d",
   "metadata": {},
   "outputs": [
    {
     "name": "stderr",
     "output_type": "stream",
     "text": [
      "Warning : `load_model` does not return WordVectorModel or SupervisedModel any more, but a `FastText` object which is very similar.\n"
     ]
    }
   ],
   "source": [
    "#set model path\n",
    "clf_path = './model/embedding_clf_rf.p'\n",
    "\n",
    "#use the full path if model can't be loaded\n",
    "embedding_path = './model/fasttext_cbow.bin'\n",
    "#embedding_path = '/Users/xiuxiu/Desktop/LDSI/Project/code/model/fasttext_cbow.bin'\n",
    "\n",
    "clf, embeddings = setup(clf_path, embedding_path)"
   ]
  },
  {
   "cell_type": "code",
   "execution_count": 6,
   "id": "185aa521",
   "metadata": {},
   "outputs": [
    {
     "name": "stdout",
     "output_type": "stream",
     "text": [
      "[ 1 ] REASONS AND BASES FOR FINDINGS AND CONCLUSION \t\tPredict:  Header\n",
      "[ 2 ] Initially, the Board finds that each of the four content \r\n",
      "requirements        of a duty to assist notice has been fully \r\n",
      "satisfied. \t\tPredict:  EvidenceBased/Intermediate Finding\n",
      "[ 3 ] See 38 U.S.C.A. � 5103(a); 38 C.F.R. � 3.159(b). \t\tPredict:  Citation\n"
     ]
    }
   ],
   "source": [
    "#analyze(str) => [(str, str)]\n",
    "txt = \"REASONS AND BASES FOR FINDINGS AND CONCLUSION\\r\\n\\r\\n \\\n",
    "       Initially, the Board finds that each of the four content \\r\\nrequirements \\\n",
    "       of a duty to assist notice has been fully \\r\\nsatisfied. \\\n",
    "       See 38 U.S.C.A. � 5103(a); 38 C.F.R. � 3.159(b).\"\n",
    "analyze(txt)"
   ]
  },
  {
   "cell_type": "markdown",
   "id": "74d3e636",
   "metadata": {},
   "source": [
    "## Phase 1 - Dataset Splitting"
   ]
  },
  {
   "cell_type": "code",
   "execution_count": 2,
   "id": "a5d470d8",
   "metadata": {},
   "outputs": [],
   "source": [
    "#load data\n",
    "annotated_corpus_fpath = './data/ldsi_bva_sentence_corpus_v1.json'\n",
    "annotated_data = json.load(open(annotated_corpus_fpath))"
   ]
  },
  {
   "cell_type": "code",
   "execution_count": 4,
   "id": "b17f8fd7",
   "metadata": {},
   "outputs": [],
   "source": [
    "annotations = annotated_data['annotations']\n",
    "documents_by_id = {d['_id']: d for d in annotated_data['documents']}\n",
    "types_by_id = {t['_id']: t for t in annotated_data['types']}\n",
    "type_ids_by_name = {t['name']: t['_id'] for t in annotated_data['types']}\n",
    "type_names_by_id = {t['_id']: t['name'] for t in annotated_data['types']}\n",
    "doc_id_by_name = {d['name']: d['_id'] for d in annotated_data['documents']}\n",
    "doc_name_by_id = {d['_id']: d['name'] for d in annotated_data['documents']}"
   ]
  },
  {
   "cell_type": "code",
   "execution_count": 6,
   "id": "c4cf7905",
   "metadata": {},
   "outputs": [
    {
     "data": {
      "text/plain": [
       "9240"
      ]
     },
     "execution_count": 6,
     "metadata": {},
     "output_type": "execute_result"
    }
   ],
   "source": [
    "len(annotations)"
   ]
  },
  {
   "cell_type": "code",
   "execution_count": 7,
   "id": "fc88c398",
   "metadata": {},
   "outputs": [],
   "source": [
    "def get_name_from_txt(fpath):\n",
    "    name = []\n",
    "    f = open(fpath, \"r\")\n",
    "    for line in f.readlines():\n",
    "        line = line.strip('\\n') \n",
    "        name.append(line)\n",
    "    return name"
   ]
  },
  {
   "cell_type": "code",
   "execution_count": 8,
   "id": "20bf3faa",
   "metadata": {},
   "outputs": [],
   "source": [
    "affirmed_fpath = './data/affirmed_ids.txt'\n",
    "denied_fpath = './data/denied_ids.txt'\n",
    "remanded_fpath = './data/remanded_ids.txt'\n",
    "\n",
    "affirmed_name = get_name_from_txt(affirmed_fpath)\n",
    "denied_name = get_name_from_txt(denied_fpath)\n",
    "remanded_name= get_name_from_txt(remanded_fpath)"
   ]
  },
  {
   "cell_type": "code",
   "execution_count": 22,
   "id": "5e7ca5fa",
   "metadata": {},
   "outputs": [],
   "source": [
    "def split_id(documents_name, train_name, val_name, test_name):\n",
    "    index = np.arange(len(documents_name))\n",
    "    random.seed(10)\n",
    "    random.shuffle(index)\n",
    "    for i in range(len(documents_name)):\n",
    "        if i<3:\n",
    "            val_name.append(documents_name[index[i]])\n",
    "        elif i<6:\n",
    "            test_name.append(documents_name[index[i]])\n",
    "        else:\n",
    "            train_name.append(documents_name[index[i]])\n",
    "        \n",
    "    return train_name, val_name, test_name         "
   ]
  },
  {
   "cell_type": "code",
   "execution_count": 23,
   "id": "aa0c38c7",
   "metadata": {},
   "outputs": [],
   "source": [
    "train_name, val_name, test_name = [], [], []\n",
    "train_name, val_name, test_name = split_id(affirmed_name, train_name, val_name, test_name)\n",
    "train_name, val_name, test_name = split_id(denied_name, train_name, val_name, test_name)\n",
    "train_name, val_name, test_name = split_id(remanded_name, train_name, val_name, test_name)"
   ]
  },
  {
   "cell_type": "code",
   "execution_count": 24,
   "id": "fb29cb43",
   "metadata": {},
   "outputs": [
    {
     "name": "stdout",
     "output_type": "stream",
     "text": [
      "81\n",
      "9\n",
      "9\n"
     ]
    }
   ],
   "source": [
    "print(len(train_name))\n",
    "print(len(val_name))\n",
    "print(len(test_name))"
   ]
  },
  {
   "cell_type": "code",
   "execution_count": 25,
   "id": "d061429f",
   "metadata": {},
   "outputs": [
    {
     "name": "stdout",
     "output_type": "stream",
     "text": [
      " val doc: ['1114333.txt', '1518035.txt', '1330601.txt', '0806464.txt', '0824445.txt', '1101324.txt', '0824226.txt', '1103561.txt', '0916279.txt']; \n",
      "\n",
      " test doc: ['1418226.txt', '1100174.txt', '1048193.txt', '1641334.txt', '0709343.txt', '1205178.txt', '0836575.txt', '0831180.txt', '1638605.txt']\n"
     ]
    }
   ],
   "source": [
    "print(f' val doc: {val_name}; \\n\\n test doc: {test_name}')"
   ]
  },
  {
   "cell_type": "code",
   "execution_count": 26,
   "id": "c7d937ca",
   "metadata": {},
   "outputs": [],
   "source": [
    "def split_documents(train_name, val_name, test_name):\n",
    "    train_documents_by_id = {d['_id']: d for d in annotated_data['documents'] if d['name'] in train_name}\n",
    "    val_documents_by_id = {d['_id']: d for d in annotated_data['documents'] if d['name'] in val_name}\n",
    "    test_documents_by_id = {d['_id']: d for d in annotated_data['documents'] if d['name'] in test_name}\n",
    "    return train_documents_by_id, val_documents_by_id, test_documents_by_id"
   ]
  },
  {
   "cell_type": "code",
   "execution_count": 27,
   "id": "12787f4d",
   "metadata": {},
   "outputs": [],
   "source": [
    "train_documents_by_id, val_documents_by_id, test_documents_by_id = split_documents(train_name, val_name, test_name)"
   ]
  },
  {
   "cell_type": "code",
   "execution_count": 30,
   "id": "62eebb88",
   "metadata": {},
   "outputs": [],
   "source": [
    "train_doc_id = [doc_id_by_name[name] for name in train_name]\n",
    "val_doc_id = [doc_id_by_name[name] for name in val_name]\n",
    "test_doc_id = [doc_id_by_name[name] for name in test_name]"
   ]
  },
  {
   "cell_type": "code",
   "execution_count": 31,
   "id": "e46cbf10",
   "metadata": {},
   "outputs": [],
   "source": [
    "# get all sentences assuming every annotation is a sentence\n",
    "def make_span_data(documents_by_id, types_by_id, annotations, id_list):\n",
    "    span_data = []\n",
    "    for a in annotations:\n",
    "        if a['document'] in id_list:\n",
    "            start = a['start']\n",
    "            end = a['end']\n",
    "            document_txt = documents_by_id[a['document']]['plainText']\n",
    "            atype = a['type']\n",
    "            sd = {'txt': document_txt[start:end],\n",
    "                  'document': a['document'],\n",
    "                  'type': types_by_id[atype]['name'],\n",
    "                  'start': a['start'],\n",
    "                  'start_normalized': a['start'] / len(document_txt),\n",
    "                  'end': a['end']}\n",
    "            span_data.append(sd)\n",
    "    return span_data"
   ]
  },
  {
   "cell_type": "code",
   "execution_count": 32,
   "id": "6137b904",
   "metadata": {},
   "outputs": [],
   "source": [
    "train_spans = make_span_data(train_documents_by_id, types_by_id, annotations, train_doc_id)\n",
    "train_spans_labels = [s['type'] for s in train_spans]\n",
    "\n",
    "val_spans = make_span_data(val_documents_by_id, types_by_id, annotations, val_doc_id)\n",
    "val_spans_labels = [s['type'] for s in val_spans]\n",
    "\n",
    "test_spans = make_span_data(test_documents_by_id, types_by_id, annotations, test_doc_id)\n",
    "test_spans_labels = [s['type'] for s in test_spans]"
   ]
  },
  {
   "cell_type": "code",
   "execution_count": 33,
   "id": "8199c059",
   "metadata": {},
   "outputs": [
    {
     "name": "stdout",
     "output_type": "stream",
     "text": [
      "train: 7602; val: 816; test: 822\n"
     ]
    }
   ],
   "source": [
    "print(f'train: {len(train_spans)}; val: {len(val_spans)}; test: {len(test_spans)}')"
   ]
  },
  {
   "cell_type": "code",
   "execution_count": 34,
   "id": "0d4fbb92",
   "metadata": {},
   "outputs": [],
   "source": [
    "train_spans_txt = [s['txt'] for s in train_spans]\n",
    "val_spans_txt = [s['txt'] for s in val_spans]\n",
    "test_spans_txt = [s['txt'] for s in test_spans]"
   ]
  },
  {
   "cell_type": "code",
   "execution_count": 35,
   "id": "ecaaf978",
   "metadata": {},
   "outputs": [
    {
     "data": {
      "text/plain": [
       "{'txt': 'Citation Nr: 0634451\\t\\r\\nDecision Date: 11/07/06    Archive Date: 11/16/06\\r\\n\\r\\nDOCKET NO.  03-11 289\\t)\\tDATE\\r\\n\\t)\\r\\n\\t)',\n",
       " 'document': '60b60661f8611168dd279c99',\n",
       " 'type': 'CaseHeader',\n",
       " 'start': 0,\n",
       " 'start_normalized': 0.0,\n",
       " 'end': 112}"
      ]
     },
     "execution_count": 35,
     "metadata": {},
     "output_type": "execute_result"
    }
   ],
   "source": [
    "train_spans[0]"
   ]
  },
  {
   "cell_type": "code",
   "execution_count": 218,
   "id": "74ce24bf",
   "metadata": {},
   "outputs": [
    {
     "data": {
      "image/png": "[encoded data removed]",
      "text/plain": [
       "<Figure size 432x288 with 1 Axes>"
      ]
     },
     "metadata": {
      "needs_background": "light"
     },
     "output_type": "display_data"
    }
   ],
   "source": [
    "doc_lengths = [len(d['plainText']) for d in documents_by_id.values()]\n",
    "plt.hist(doc_lengths, bins=50)\n",
    "plt.show()"
   ]
  },
  {
   "cell_type": "code",
   "execution_count": 26,
   "id": "d9e98877",
   "metadata": {},
   "outputs": [
    {
     "data": {
      "image/png": "[encoded data removed]",
      "text/plain": [
       "<Figure size 432x288 with 1 Axes>"
      ]
     },
     "metadata": {
      "needs_background": "light"
     },
     "output_type": "display_data"
    }
   ],
   "source": [
    "doc_num_annos = [len([a for a in annotations if a['document'] == doc_id])\n",
    "                 for doc_id in documents_by_id]\n",
    "plt.hist(doc_num_annos, bins=50)\n",
    "plt.show()"
   ]
  },
  {
   "cell_type": "markdown",
   "id": "b32c6f19",
   "metadata": {},
   "source": [
    "## Phase 2 - Deciding on a Sentence Segmenter"
   ]
  },
  {
   "cell_type": "markdown",
   "id": "52de8eea",
   "metadata": {},
   "source": [
    "### Step 2.1 (Standard segmentation analysis):\n",
    "Apply the standard English sentence segmenter included with the library of your choice on the training set documents, report error metrics, and conduct an error analysis. Discuss your findings in the report and give three different examples of errors you observe."
   ]
  },
  {
   "cell_type": "code",
   "execution_count": 25,
   "id": "d6c0875c",
   "metadata": {},
   "outputs": [],
   "source": [
    "def get_seg_positions(train_spans, id_list):\n",
    "    '''\n",
    "    return a list of dict containing doc id and each document's sentence start and end index\n",
    "    '''\n",
    "    seg_labels = []\n",
    "    for doc_id in id_list:\n",
    "        start = []\n",
    "        end = []\n",
    "        for a in train_spans:\n",
    "            if a['document'] == doc_id:\n",
    "                start.append(a['start'])\n",
    "                end.append(a['end'])\n",
    "        start.sort()\n",
    "        end.sort()\n",
    "        sd = {'document': doc_id,\n",
    "              'start': start,\n",
    "              'end': end,\n",
    "             }\n",
    "            \n",
    "        seg_labels.append(sd) \n",
    "    return seg_labels\n",
    "\n",
    "def make_seg_labels(documents_by_id, id_list, seg_positions):\n",
    "    '''\n",
    "    input: each document's sentence start and end index\n",
    "    return: a list of dict containing doc id and a label sequence with start - 'S', end - 'E', others - 'I'\n",
    "            for each charater in the document text\n",
    "    '''\n",
    "    seg_labels = []\n",
    "    for i in range(len(seg_positions)):\n",
    "        doc_id = seg_positions[i]['document']\n",
    "        text = documents_by_id[doc_id]['plainText']\n",
    "        length = len(text)\n",
    "        label = ['I' for i in range(length)]\n",
    "        # start - 'S', end - 'E', others - 'I'\n",
    "        for j in seg_positions[i]['start']:\n",
    "            label[j] = 'S'\n",
    "        for k in seg_positions[i]['end']:\n",
    "            label[k-1] = 'E'\n",
    "\n",
    "        sd = {'document': doc_id,\n",
    "              'label': label,\n",
    "             }\n",
    "        seg_labels.append(sd)\n",
    "    return seg_labels\n",
    "\n",
    "def get_label_sequence(seg_labels):\n",
    "    '''\n",
    "    merge labels of all documents given\n",
    "    '''\n",
    "    all_labels = []\n",
    "    for i in range(len(seg_labels)):\n",
    "        all_labels.extend(seg_labels[i]['label'])\n",
    "    return all_labels"
   ]
  },
  {
   "cell_type": "code",
   "execution_count": 39,
   "id": "fe9f96d6",
   "metadata": {},
   "outputs": [],
   "source": [
    "anno_seg_positions = get_seg_positions(train_spans, train_doc_id)\n",
    "anno_seg_labels = make_seg_labels(documents_by_id, train_doc_id, anno_seg_positions)"
   ]
  },
  {
   "cell_type": "code",
   "execution_count": 31,
   "id": "f264022c",
   "metadata": {},
   "outputs": [],
   "source": [
    "# basic English pipeline provided by spacy\n",
    "standard_segmenter = spacy.load(\"en_core_web_sm\")"
   ]
  },
  {
   "cell_type": "code",
   "execution_count": 26,
   "id": "d77b42b3",
   "metadata": {},
   "outputs": [],
   "source": [
    "def get_standard_segmenter_results (documents_by_id, id_list, standard_segmenter):\n",
    "    seg_results = []\n",
    "    for doc_id in id_list:\n",
    "        text = documents_by_id[doc_id]['plainText']\n",
    "        \n",
    "        #manually replace line break characters (i.e. \\t, \\r, and \\n)\n",
    "        text = text.replace('\\r',' ')\n",
    "        text = text.replace('\\t',' ')\n",
    "        text = text.replace('\\n',' ')\n",
    "        \n",
    "    \n",
    "        start = []\n",
    "        end = []\n",
    "        doc = standard_segmenter(text)\n",
    "        for sent in doc.sents:\n",
    "            start.append(sent.start_char)\n",
    "            end.append(sent.end_char)\n",
    "\n",
    "        start.sort()\n",
    "        end.sort()\n",
    "        sd = {'document': doc_id,\n",
    "              'start': start,\n",
    "              'end': end,}\n",
    "        seg_results.append(sd)\n",
    "    return seg_results"
   ]
  },
  {
   "cell_type": "code",
   "execution_count": 37,
   "id": "3f326065",
   "metadata": {},
   "outputs": [],
   "source": [
    "import prettytable as pt\n",
    "\n",
    "def strict(anno_seg_labels, predicted_seg_labels, mode):\n",
    "    TP, FP, FN = 0, 0, 0\n",
    "    for i in range(len(anno_seg_labels)):\n",
    "        if anno_seg_labels[i]==mode:\n",
    "            if predicted_seg_labels[i]==mode:\n",
    "                TP = TP + 1\n",
    "            else:\n",
    "                FN = FN + 1\n",
    "    FP = predicted_seg_labels.count(mode) - TP\n",
    "    return TP, FP, FN\n",
    "    \n",
    "def lenient(anno_seg_labels, predicted_seg_labels, mode):\n",
    "    TP, FP, FN = 0, 0, 0\n",
    "    for i in range(len(anno_seg_labels)):\n",
    "        if anno_seg_labels[i]==mode:\n",
    "            if mode in predicted_seg_labels[i-3:i+3]:\n",
    "                TP = TP + 1\n",
    "            else:\n",
    "                FN = FN + 1\n",
    "    FP = predicted_seg_labels.count(mode) - TP\n",
    "    return TP, FP, FN\n",
    "\n",
    "def error_metrics(anno_seg_labels, predicted_seg_labels, mode):\n",
    "    table = pt.PrettyTable(['Label','Precision','Recall','F1-score'])\n",
    "    for tag in ['S', 'E', 'I']:\n",
    "        TP, FP, FN = mode(anno_seg_labels, predicted_seg_labels, tag)\n",
    "        precision = TP/(TP+FP)\n",
    "        recall = TP/(TP+FN)\n",
    "        F = (2*precision*recall) / (precision+recall)\n",
    "        table.add_row([tag, precision, recall, F])\n",
    "    print(table)\n"
   ]
  },
  {
   "cell_type": "code",
   "execution_count": 60,
   "id": "e896b184",
   "metadata": {},
   "outputs": [],
   "source": [
    "standard_seg_results = get_standard_segmenter_results (documents_by_id, train_doc_id, standard_segmenter)\n",
    "standard_seg_labels = make_seg_labels(documents_by_id, train_doc_id, standard_seg_results)"
   ]
  },
  {
   "cell_type": "markdown",
   "id": "60052d4f",
   "metadata": {},
   "source": [
    "Boundary Evaluation"
   ]
  },
  {
   "cell_type": "code",
   "execution_count": 61,
   "id": "86f8afe9",
   "metadata": {},
   "outputs": [
    {
     "name": "stdout",
     "output_type": "stream",
     "text": [
      "Error Metrics - strict:\n",
      "+-------+---------------------+---------------------+---------------------+\n",
      "| Label |      Precision      |        Recall       |       F1-score      |\n",
      "+-------+---------------------+---------------------+---------------------+\n",
      "|   S   | 0.16921881935197514 | 0.20491803278688525 | 0.18536526072687493 |\n",
      "|   E   | 0.41832627118644067 |  0.5304231027535259 |  0.4677524429967427 |\n",
      "|   I   |  0.9914575526261736 |  0.9879959493551875 |  0.9897237242216269 |\n",
      "+-------+---------------------+---------------------+---------------------+\n",
      "Error Metrics - lenient:\n",
      "+-------+--------------------+--------------------+--------------------+\n",
      "| Label |     Precision      |       Recall       |      F1-score      |\n",
      "+-------+--------------------+--------------------+--------------------+\n",
      "|   S   | 0.6475810031069685 | 0.7841977962913196 | 0.7093715813783884 |\n",
      "|   E   | 0.6701271186440678 | 0.8496977837474815 | 0.7493041160793603 |\n",
      "|   I   | 1.0035016958114293 | 0.9999980412742686 | 1.0017468050048588 |\n",
      "+-------+--------------------+--------------------+--------------------+\n"
     ]
    }
   ],
   "source": [
    "print('Error Metrics - strict:')\n",
    "error_metrics(get_label_sequence(anno_seg_labels), get_label_sequence(standard_seg_labels), strict)\n",
    "print('Error Metrics - lenient:')\n",
    "error_metrics(get_label_sequence(anno_seg_labels), get_label_sequence(standard_seg_labels), lenient)"
   ]
  },
  {
   "cell_type": "code",
   "execution_count": 27,
   "id": "b9904739",
   "metadata": {},
   "outputs": [],
   "source": [
    "def count_seg_labels(seg_labels):\n",
    "    count_s, count_e, count_i = 0, 0, 0\n",
    "    for i in range(len(anno_seg_labels)):\n",
    "        count_s = count_s + seg_labels[i]['label'].count('S')\n",
    "        count_e = count_e + seg_labels[i]['label'].count('E')\n",
    "        count_i = count_i + seg_labels[i]['label'].count('I')    \n",
    "    print('[\\'S\\': ', count_s, ', \\'E\\': ', count_e, ', \\'I\\': ', count_i, ']')"
   ]
  },
  {
   "cell_type": "code",
   "execution_count": 63,
   "id": "21fa1861",
   "metadata": {},
   "outputs": [
    {
     "name": "stdout",
     "output_type": "stream",
     "text": [
      "['S':  7442 , 'E':  7445 , 'I':  1021072 ]\n"
     ]
    }
   ],
   "source": [
    "count_seg_labels(anno_seg_labels)"
   ]
  },
  {
   "cell_type": "code",
   "execution_count": 64,
   "id": "2d24b820",
   "metadata": {},
   "outputs": [
    {
     "name": "stdout",
     "output_type": "stream",
     "text": [
      "['S':  9012 , 'E':  9440 , 'I':  1017507 ]\n"
     ]
    }
   ],
   "source": [
    "count_seg_labels(standard_seg_labels)"
   ]
  },
  {
   "cell_type": "markdown",
   "id": "022f8e02",
   "metadata": {},
   "source": [
    "Sentence Level Evaluation"
   ]
  },
  {
   "cell_type": "code",
   "execution_count": 28,
   "id": "23936de2",
   "metadata": {},
   "outputs": [],
   "source": [
    "def sentence_level_evaluation(train_spans, segmenter):\n",
    "    total = len(train_spans)\n",
    "    TP, FP, FN = 0, 0, 0\n",
    "    \n",
    "    for i in range(len(train_spans)):\n",
    "        doc = segmenter(train_spans[i]['txt'])\n",
    "        if len(list(doc.sents)) > 1:\n",
    "            FN = FN + 1\n",
    "            FP = FP + len(list(doc.sents))\n",
    "        else:\n",
    "            TP = TP + 1\n",
    "    \n",
    "    precision = TP/(TP+FP)\n",
    "    recall = TP/(TP+FN)\n",
    "    F = (2*precision*recall) / (precision+recall)\n",
    "    table = pt.PrettyTable(['Precision','Recall','F1-score'])\n",
    "    table.add_row([precision, recall, F])\n",
    "    print(table)"
   ]
  },
  {
   "cell_type": "code",
   "execution_count": 301,
   "id": "9ecd41a7",
   "metadata": {},
   "outputs": [],
   "source": [
    "def segmentation_errors(eval_spans, segmenter):\n",
    "    for i in range(len(eval_spans)):\n",
    "        doc = segmenter(eval_spans[i]['txt'])\n",
    "        if len(list(doc.sents)) > 1:\n",
    "            doc_name = documents_by_id[eval_spans[i]['document']]['name']\n",
    "            print(\"-----------------------------------------------------\")\n",
    "            print('sentence # '+str(i)+' / case '+doc_name+' / @'+str(eval_spans[i]['start']))\n",
    "            print('original text: \\n'+eval_spans[i]['txt'])\n",
    "            print('segmentation result: ', len(list(doc.sents)), 'sentences: ')\n",
    "            i = 1\n",
    "            for sent in doc.sents:\n",
    "                print('[',i,'] ',sent)\n",
    "                i = i+1\n",
    "            print(\"-----------------------------------------------------\")\n",
    "        "
   ]
  },
  {
   "cell_type": "code",
   "execution_count": 67,
   "id": "39ccc3b5",
   "metadata": {},
   "outputs": [
    {
     "name": "stdout",
     "output_type": "stream",
     "text": [
      "+--------------------+--------------------+--------------------+\n",
      "|     Precision      |       Recall       |      F1-score      |\n",
      "+--------------------+--------------------+--------------------+\n",
      "| 0.5294401544401545 | 0.7363404483823331 | 0.6159806839238587 |\n",
      "+--------------------+--------------------+--------------------+\n"
     ]
    }
   ],
   "source": [
    "sentence_level_evaluation(train_spans, standard_segmenter)"
   ]
  },
  {
   "cell_type": "code",
   "execution_count": 303,
   "id": "8cdbd0f5",
   "metadata": {
    "scrolled": true
   },
   "outputs": [
    {
     "name": "stdout",
     "output_type": "stream",
     "text": [
      "-----------------------------------------------------\n",
      "sentence # 0 / case 0826479.txt / @10077\n",
      "original text: \n",
      "After the veteran's \n",
      "June 1998 right foot and right ankle injuries, subsequent \n",
      "SMRs, including a June 2000 health assessment report, were \n",
      "silent for any complaints, findings, treatment, or diagnosis \n",
      "relating to a right ankle disability.  \n",
      "segmentation result:  2 sentences: \n",
      "[ 1 ]  After the veteran's \n",
      "June 1998 right foot and right ankle injuries, subsequent \n",
      "SMRs, including a June 2000 health assessment report, were \n",
      "silent for any complaints, findings, treatment, or diagnosis \n",
      "relating to a right ankle disability.\n",
      "[ 2 ]   \n",
      "-----------------------------------------------------\n",
      "-----------------------------------------------------\n",
      "sentence # 1 / case 1118746.txt / @844\n",
      "original text: \n",
      "However, the RO denied his remaining claims for service connection for a sleep condition and a left shoulder condition.\n",
      "segmentation result:  2 sentences: \n",
      "[ 1 ]  However, the RO denied his remaining claims for service connection for a sleep condition and a left shoulder condition.\n",
      "[ 2 ]  \n",
      "-----------------------------------------------------\n",
      "-----------------------------------------------------\n",
      "sentence # 2 / case 1242876.txt / @3450\n",
      "original text: \n",
      "In May 2004, the Veteran made her intent more apparent by writing to VA and observing that the issues of depression, anxiety, and insomnia had not been addressed in the March 2004 rating action.  \n",
      "segmentation result:  2 sentences: \n",
      "[ 1 ]  In May 2004, the Veteran made her intent more apparent by writing to VA and observing that the issues of depression, anxiety, and insomnia had not been addressed in the March 2004 rating action.\n",
      "[ 2 ]   \n",
      "-----------------------------------------------------\n",
      "-----------------------------------------------------\n",
      "sentence # 3 / case 1631703.txt / @11485\n",
      "original text: \n",
      "There was no evidence of back or spine injury in service.  Examination at the time of head injury was only abnormal for a bruise on the occiput.\n",
      "segmentation result:  2 sentences: \n",
      "[ 1 ]  There was no evidence of back or spine injury in service.\n",
      "[ 2 ]   Examination at the time of head injury was only abnormal for a bruise on the occiput.\n",
      "-----------------------------------------------------\n",
      "-----------------------------------------------------\n",
      "sentence # 4 / case 1623087.txt / @2680\n",
      "original text: \n",
      "Establishing service connection generally requires medical or, in certain circumstances, lay evidence of (1) a current disability; (2) an in-service incurrence or aggravation of a disease or injury; and (3) a nexus between the claimed in-service disease or injury and the present disability.  \n",
      "segmentation result:  2 sentences: \n",
      "[ 1 ]  Establishing service connection generally requires medical or, in certain circumstances, lay evidence of (1) a current disability; (2) an in-service incurrence or aggravation of a disease or injury; and (3) a nexus between the claimed in-service disease or injury and the present disability.\n",
      "[ 2 ]   \n",
      "-----------------------------------------------------\n",
      "-----------------------------------------------------\n",
      "sentence # 9 / case 0904806.txt / @3489\n",
      "original text: \n",
      "Review the claims file and ensure \n",
      "that all notification and development \n",
      "action required by the Veterans Claims \n",
      "Assistance Act of 2000 (VCAA) is \n",
      "completed.  \n",
      "segmentation result:  2 sentences: \n",
      "[ 1 ]  Review the claims file and ensure \n",
      "that all notification and development \n",
      "action required by the Veterans Claims \n",
      "Assistance Act of 2000 (VCAA) is \n",
      "completed.\n",
      "[ 2 ]   \n",
      "-----------------------------------------------------\n",
      "-----------------------------------------------------\n",
      "sentence # 10 / case 0843259.txt / @8574\n",
      "original text: \n",
      "See 38 \n",
      "U.S.C.A. �� 5109B, 7112 (West Supp. 2007).\n",
      "segmentation result:  2 sentences: \n",
      "[ 1 ]  See 38 \n",
      "U.S.C.A. �� 5109B, 7112 (West Supp. 2007).\n",
      "[ 2 ]  \n",
      "-----------------------------------------------------\n",
      "-----------------------------------------------------\n",
      "sentence # 14 / case 1635686.txt / @2927\n",
      "original text: \n",
      "See Barr v. Nicholson, 21 Vet. App. 303, 312 (2007) (stating that when VA undertakes to provide a VA examination or obtain a VA opinion, it must ensure that the examination or opinion is adequate).\n",
      "segmentation result:  2 sentences: \n",
      "[ 1 ]  See Barr v. Nicholson, 21 Vet.\n",
      "[ 2 ]  App. 303, 312 (2007) (stating that when VA undertakes to provide a VA examination or obtain a VA opinion, it must ensure that the examination or opinion is adequate).\n",
      "-----------------------------------------------------\n",
      "-----------------------------------------------------\n",
      "sentence # 16 / case 1204131.txt / @19416\n",
      "original text: \n",
      "_________________________________\n",
      "MARK F. HALSEY\n",
      "Veterans Law Judge, Board of Veterans' Appeals\n",
      "\n",
      "\n",
      "Department of Veterans Affairs\n",
      "segmentation result:  2 sentences: \n",
      "[ 1 ]  _________________________________\n",
      "[ 2 ]  \n",
      "MARK F. HALSEY\n",
      "Veterans Law Judge, Board of Veterans' Appeals\n",
      "\n",
      "\n",
      "Department of Veterans Affairs\n",
      "-----------------------------------------------------\n",
      "-----------------------------------------------------\n",
      "sentence # 20 / case 0619915.txt / @6972\n",
      "original text: \n",
      "____________________________________________\n",
      "J. E. DAY\n",
      "Veterans Law Judge, Board of Veterans' Appeals\n",
      "\n",
      "\n",
      " Department of Veterans Affairs\n",
      "segmentation result:  2 sentences: \n",
      "[ 1 ]  ____________________________________________\n",
      "J. E. DAY\n",
      "Veterans Law Judge, Board of Veterans'\n",
      "[ 2 ]  Appeals\n",
      "\n",
      "\n",
      " Department of Veterans Affairs\n",
      "-----------------------------------------------------\n",
      "-----------------------------------------------------\n",
      "sentence # 21 / case 1438207.txt / @1798\n",
      "original text: \n",
      "1.  Request that the Veteran provide the names and addresses of any and all health care providers who have provided treatment for his sleep apnea.\n",
      "segmentation result:  2 sentences: \n",
      "[ 1 ]  1.\n",
      "[ 2 ]   Request that the Veteran provide the names and addresses of any and all health care providers who have provided treatment for his sleep apnea.\n",
      "-----------------------------------------------------\n",
      "-----------------------------------------------------\n",
      "sentence # 23 / case 0843259.txt / @1813\n",
      "original text: \n",
      "Finally, he reports that the PTSD \n",
      "is related to mortar shelling that was incurred while \n",
      "stationed, at least in part, at Tan Son Nhut Air Force Base.  \n",
      "segmentation result:  2 sentences: \n",
      "[ 1 ]  Finally, he reports that the PTSD \n",
      "is related to mortar shelling that was incurred while \n",
      "stationed, at least in part, at Tan Son Nhut Air Force Base.\n",
      "[ 2 ]   \n",
      "-----------------------------------------------------\n",
      "-----------------------------------------------------\n",
      "sentence # 28 / case 0617470.txt / @880\n",
      "original text: \n",
      "3.  The veteran's currently demonstrated bilateral hearing \n",
      "loss disability is not shown to be due to noise exposure or \n",
      "other event or incident during his period of active service.  \n",
      "segmentation result:  3 sentences: \n",
      "[ 1 ]  3.\n",
      "[ 2 ]   The veteran's currently demonstrated bilateral hearing \n",
      "loss disability is not shown to be due to noise exposure or \n",
      "other event or incident during his period of active service.\n",
      "[ 3 ]   \n",
      "-----------------------------------------------------\n",
      "-----------------------------------------------------\n",
      "sentence # 30 / case 1221850.txt / @3016\n",
      "original text: \n",
      " See Hickson v. West, 12 Vet. App. 247, 253 (1999).\n",
      "segmentation result:  2 sentences: \n",
      "[ 1 ]   See Hickson v. West, 12 Vet.\n",
      "[ 2 ]  App. 247, 253 (1999).\n",
      "-----------------------------------------------------\n",
      "-----------------------------------------------------\n",
      "sentence # 31 / case 1242876.txt / @14112\n",
      "original text: \n",
      "Consequently, any error in the sequence of events or content of the notice is not shown to prejudice the Veteran or to have any effect on the appeal.  \n",
      "segmentation result:  2 sentences: \n",
      "[ 1 ]  Consequently, any error in the sequence of events or content of the notice is not shown to prejudice the Veteran or to have any effect on the appeal.\n",
      "[ 2 ]   \n",
      "-----------------------------------------------------\n",
      "-----------------------------------------------------\n",
      "sentence # 34 / case 1002616.txt / @23190\n",
      "original text: \n",
      "The preponderance of the evidence weighs against this claim.  \n",
      "segmentation result:  2 sentences: \n",
      "[ 1 ]  The preponderance of the evidence weighs against this claim.\n",
      "[ 2 ]   \n",
      "-----------------------------------------------------\n",
      "-----------------------------------------------------\n",
      "sentence # 35 / case 0936047.txt / @1041\n",
      "original text: \n",
      "The Board remanded the case in December 2008 to the RO, via \n",
      "the Appeals Management Center (AMC), in Washington, DC, for \n",
      "additional development.  \n",
      "segmentation result:  2 sentences: \n",
      "[ 1 ]  The Board remanded the case in December 2008 to the RO, via \n",
      "the Appeals Management Center (AMC), in Washington, DC, for \n",
      "additional development.\n",
      "[ 2 ]   \n",
      "-----------------------------------------------------\n",
      "-----------------------------------------------------\n",
      "sentence # 41 / case 1127550.txt / @19602\n",
      "original text: \n",
      "See Maxson v. Gober, 230 F.3d 1330, 1333 (Fed. Cir. 2000).  \n",
      "segmentation result:  3 sentences: \n",
      "[ 1 ]  See Maxson v. Gober, 230 F.3d 1330, 1333 (Fed.\n",
      "[ 2 ]  Cir. 2000).\n",
      "[ 3 ]   \n",
      "-----------------------------------------------------\n",
      "-----------------------------------------------------\n",
      "sentence # 45 / case 1242876.txt / @19044\n",
      "original text: \n",
      "August 2001 and November 2002 treatment notes reflect renewal of her prescription medication for anxiety.  \n",
      "segmentation result:  2 sentences: \n",
      "[ 1 ]  August 2001 and November 2002 treatment notes reflect renewal of her prescription medication for anxiety.\n",
      "[ 2 ]   \n",
      "-----------------------------------------------------\n",
      "-----------------------------------------------------\n",
      "sentence # 51 / case 1631703.txt / @25169\n",
      "original text: \n",
      "He noted that these injections were referred to by Dr. S. in a 1993 report.  \n",
      "segmentation result:  2 sentences: \n",
      "[ 1 ]  He noted that these injections were referred to by Dr. S. in a 1993 report.\n",
      "[ 2 ]   \n",
      "-----------------------------------------------------\n",
      "-----------------------------------------------------\n",
      "sentence # 58 / case 0734568.txt / @8607\n",
      "original text: \n",
      "If \n",
      "chronicity in service is not established, a showing of \n",
      "continuity of symptoms after discharge is required to support \n",
      "the claim.  Id.  Service connection may be granted for any \n",
      "disease diagnosed after discharge, when all of the evidence \n",
      "establishes that the disease was incurred in service. \n",
      "segmentation result:  2 sentences: \n",
      "[ 1 ]  If \n",
      "chronicity in service is not established, a showing of \n",
      "continuity of symptoms after discharge is required to support \n",
      "the claim.\n",
      "[ 2 ]   Id.  Service connection may be granted for any \n",
      "disease diagnosed after discharge, when all of the evidence \n",
      "establishes that the disease was incurred in service.\n",
      "-----------------------------------------------------\n",
      "-----------------------------------------------------\n",
      "sentence # 61 / case 1631703.txt / @7152\n",
      "original text: \n",
      "An unnamed orthopedist initiated physical therapy which did not provide relief, so an anesthesiologist performed an epidural injection.\n",
      "\n",
      "segmentation result:  2 sentences: \n",
      "[ 1 ]  An unnamed orthopedist initiated physical therapy which did not provide relief, so an anesthesiologist performed an epidural injection.\n",
      "[ 2 ]  \n",
      "\n",
      "-----------------------------------------------------\n"
     ]
    },
    {
     "name": "stdout",
     "output_type": "stream",
     "text": [
      "-----------------------------------------------------\n",
      "sentence # 67 / case 1002616.txt / @27044\n",
      "original text: \n",
      "The remaining lay evidence, the appellant's ex-wife's \r\n",
      "statement, does not address whether the appellant had \r\n",
      "symptoms of a psychiatric disability during service.  \n",
      "segmentation result:  2 sentences: \n",
      "[ 1 ]  The remaining lay evidence, the appellant's ex-wife's \r\n",
      "statement, does not address whether the appellant had \r\n",
      "symptoms of a psychiatric disability during service.\n",
      "[ 2 ]   \n",
      "-----------------------------------------------------\n",
      "-----------------------------------------------------\n",
      "sentence # 70 / case 1623087.txt / @5699\n",
      "original text: \n",
      "Given the extensive VA treatment records noting a diagnosis of PTSD, including notations of PTSD rendered by multiple VA psychologists, and after resolving any reasonable doubt in favor of the Veteran, the Board finds that the Veteran has a current diagnosis of PTSD.  \n",
      "segmentation result:  2 sentences: \n",
      "[ 1 ]  Given the extensive VA treatment records noting a diagnosis of PTSD, including notations of PTSD rendered by multiple VA psychologists, and after resolving any reasonable doubt in favor of the Veteran, the Board finds that the Veteran has a current diagnosis of PTSD.\n",
      "[ 2 ]   \n",
      "-----------------------------------------------------\n",
      "-----------------------------------------------------\n",
      "sentence # 71 / case 1244158.txt / @11884\n",
      "original text: \n",
      "The Veteran reported when he was reexamined, a doctor told him that he had torn cartridge in his left knee which would require surgery.  \n",
      "segmentation result:  2 sentences: \n",
      "[ 1 ]  The Veteran reported when he was reexamined, a doctor told him that he had torn cartridge in his left knee which would require surgery.\n",
      "[ 2 ]   \n",
      "-----------------------------------------------------\n",
      "-----------------------------------------------------\n",
      "sentence # 72 / case 0636017.txt / @15807\n",
      "original text: \n",
      "____________________________________________\r\n",
      "WAYNE M. BRAEUER\r\n",
      "Veterans Law Judge, Board of Veterans' Appeals\r\n",
      "\r\n",
      "\r\n",
      "\r\n",
      "\r\n",
      " Department of Veterans Affairs\n",
      "segmentation result:  2 sentences: \n",
      "[ 1 ]  ____________________________________________\r\n",
      "WAYNE M. BRAEUER\r\n",
      "Veterans Law Judge, Board of Veterans'\n",
      "[ 2 ]  Appeals\r\n",
      "\r\n",
      "\r\n",
      "\r\n",
      "\r\n",
      " Department of Veterans Affairs\n",
      "-----------------------------------------------------\n",
      "-----------------------------------------------------\n",
      "sentence # 73 / case 1018283.txt / @2722\n",
      "original text: \n",
      "A review of the Veteran's post-service medical records \r\n",
      "reveals that he has received treatment for pain in his right \r\n",
      "wrist.  \n",
      "segmentation result:  2 sentences: \n",
      "[ 1 ]  A review of the Veteran's post-service medical records \r\n",
      "reveals that he has received treatment for pain in his right \r\n",
      "wrist.\n",
      "[ 2 ]   \n",
      "-----------------------------------------------------\n",
      "-----------------------------------------------------\n",
      "sentence # 87 / case 1117919.txt / @6209\n",
      "original text: \n",
      "Thereafter, the case should be returned to the Board for appellate review, if otherwise in order.\r\n",
      "segmentation result:  2 sentences: \n",
      "[ 1 ]  Thereafter, the case should be returned to the Board for appellate review, if otherwise in order.\n",
      "[ 2 ]  \r\n",
      "-----------------------------------------------------\n",
      "-----------------------------------------------------\n",
      "sentence # 91 / case 1117919.txt / @228\n",
      "original text: \n",
      "Entitlement to service connection for an acquired psychiatric disability.\r\n",
      "segmentation result:  2 sentences: \n",
      "[ 1 ]  Entitlement to service connection for an acquired psychiatric disability.\n",
      "[ 2 ]  \r\n",
      "-----------------------------------------------------\n",
      "-----------------------------------------------------\n",
      "sentence # 98 / case 1524153.txt / @5889\n",
      "original text: \n",
      "_________________________________________________\r\n",
      "GAYLE E. STROMMEN\r\n",
      "Veterans Law Judge, Board of Veterans' Appeals\r\n",
      "\r\n",
      "Under 38 U.S.C.A. � 7252 (West 2014), only a decision of the Board of Veterans' Appeals is appealable to the United States Court of Appeals for Veterans Claims.  This remand is in the nature of a preliminary order and does not constitute a decision of the Board on the merits of your appeal.  38 C.F.R. � 20.1100(b) (2014).\n",
      "segmentation result:  5 sentences: \n",
      "[ 1 ]  _________________________________________________\n",
      "[ 2 ]  \r\n",
      "GAYLE E. STROMMEN\r\n",
      "Veterans Law Judge, Board of Veterans' Appeals\r\n",
      "\r\n",
      "\n",
      "[ 3 ]  Under 38 U.S.C.A. � 7252 (West 2014), only a decision of the Board of Veterans' Appeals is appealable to the United States Court of Appeals for Veterans Claims.\n",
      "[ 4 ]   This remand is in the nature of a preliminary order and does not constitute a decision of the Board on the merits of your appeal.\n",
      "[ 5 ]   38 C.F.R. � 20.1100(b) (2014).\n",
      "-----------------------------------------------------\n"
     ]
    }
   ],
   "source": [
    "standard_segmenter = spacy.load(\"en_core_web_sm\")\n",
    "segmentation_errors(random.sample(train_spans, 100), standard_segmenter)"
   ]
  },
  {
   "cell_type": "markdown",
   "id": "4c970d40",
   "metadata": {},
   "source": [
    "### Step 2.2 (Improved segmentation analysis): \n",
    "Based on your error analysis, add some exceptions/extensions to the standard sentence splitter to prevent the most dominant instances of oversplitting. Apply the improved segmenter on the training data. In the report, explain your changes to the segmenter and report the metrics. A full error analysis is not necessary at this step because you know what you are fixing."
   ]
  },
  {
   "cell_type": "code",
   "execution_count": 304,
   "id": "bdab8ea3",
   "metadata": {},
   "outputs": [
    {
     "data": {
      "text/plain": [
       "<function __main__.set_custom_boundaries(doc)>"
      ]
     },
     "execution_count": 304,
     "metadata": {},
     "output_type": "execute_result"
    }
   ],
   "source": [
    "from spacy.language import Language\n",
    "\n",
    "@Language.component(\"set_custom_boundaries\")\n",
    "def set_custom_boundaries(doc):\n",
    "    for token in doc[:-1]:\n",
    "        if token.is_space == True and doc[token.i - 1].is_punct == False:\n",
    "            doc[token.i + 1].is_sent_start = False\n",
    "        elif token.text == ';':\n",
    "            doc[token.i + 1].is_sent_start = False\n",
    "        \n",
    "    return doc\n",
    "\n",
    "improved_segmenter = spacy.load(\"en_core_web_sm\")\n",
    "improved_segmenter.add_pipe(\"set_custom_boundaries\", before=\"parser\")"
   ]
  },
  {
   "cell_type": "code",
   "execution_count": 305,
   "id": "9792334b",
   "metadata": {},
   "outputs": [],
   "source": [
    "improved_segmenter.tokenizer.add_special_case('Vet. App.', [{ORTH: 'Vet. App.'}])\n",
    "improved_segmenter.tokenizer.add_special_case('Fed. Cir.', [{ORTH: 'Fed. Cir.'}])\n",
    "improved_segmenter.tokenizer.add_special_case('Vet.App.', [{ORTH: 'Vet.App.'}])\n",
    "improved_segmenter.tokenizer.add_special_case('Fed.Cir.', [{ORTH: 'Fed.Cir.'}])\n",
    "improved_segmenter.tokenizer.add_special_case('I.  ', [{ORTH: 'I.  '}])\n",
    "improved_segmenter.tokenizer.add_special_case('II.  ', [{ORTH: 'II.  '}])\n",
    "improved_segmenter.tokenizer.add_special_case('III.  ', [{ORTH: 'III.  '}])\n",
    "improved_segmenter.tokenizer.add_special_case('IV.  ', [{ORTH: 'IV.  '}])\n",
    "improved_segmenter.tokenizer.add_special_case('V.  ', [{ORTH: 'V.  '}])\n",
    "improved_segmenter.tokenizer.add_special_case('1.  ', [{ORTH: '1.  '}])\n",
    "improved_segmenter.tokenizer.add_special_case('2.  ', [{ORTH: '2.  '}])\n",
    "improved_segmenter.tokenizer.add_special_case('3.  ', [{ORTH: '3.  '}])\n",
    "improved_segmenter.tokenizer.add_special_case('4.  ', [{ORTH: '4.  '}])\n",
    "improved_segmenter.tokenizer.add_special_case('5.  ', [{ORTH: '5.  '}])"
   ]
  },
  {
   "cell_type": "code",
   "execution_count": 50,
   "id": "4fc3ce1e",
   "metadata": {},
   "outputs": [],
   "source": [
    "improved_seg_results = get_standard_segmenter_results (documents_by_id, train_doc_id, improved_segmenter)\n",
    "improved_seg_labels = make_seg_labels(documents_by_id, train_doc_id, improved_seg_results)"
   ]
  },
  {
   "cell_type": "code",
   "execution_count": 51,
   "id": "730c21a9",
   "metadata": {},
   "outputs": [
    {
     "name": "stdout",
     "output_type": "stream",
     "text": [
      "Error Metrics - strict:\n",
      "+-------+---------------------+---------------------+---------------------+\n",
      "| Label |      Precision      |        Recall       |       F1-score      |\n",
      "+-------+---------------------+---------------------+---------------------+\n",
      "|   S   | 0.17898339460007606 | 0.18784089397365972 | 0.18330520576398804 |\n",
      "|   E   |  0.4778124250419765 |  0.5297872340425532 |  0.5024593265228907 |\n",
      "|   I   |  0.9914041358970697 |  0.9902668823369507 |  0.990835182789974  |\n",
      "+-------+---------------------+---------------------+---------------------+\n",
      "Error Metrics - lenient:\n",
      "+-------+--------------------+--------------------+--------------------+\n",
      "| Label |     Precision      |       Recall       |      F1-score      |\n",
      "+-------+--------------------+--------------------+--------------------+\n",
      "|   S   | 0.7330460134364305 | 0.7693228681654916 | 0.7507464624172401 |\n",
      "|   E   | 0.7705684816502758 | 0.8543882978723404 | 0.810316559465254  |\n",
      "|   I   | 1.0011465012410778 | 0.9999980720773174 | 1.0005719571253993 |\n",
      "+-------+--------------------+--------------------+--------------------+\n",
      "Error Metrics - sentence level:\n",
      "+--------------------+-------------------+--------------------+\n",
      "|     Precision      |       Recall      |      F1-score      |\n",
      "+--------------------+-------------------+--------------------+\n",
      "| 0.6267598179316185 | 0.786843853820598 | 0.6977374499175112 |\n",
      "+--------------------+-------------------+--------------------+\n"
     ]
    }
   ],
   "source": [
    "print('Error Metrics - strict:')\n",
    "error_metrics(get_label_sequence(anno_seg_labels), get_label_sequence(improved_seg_labels), strict)\n",
    "print('Error Metrics - lenient:')\n",
    "error_metrics(get_label_sequence(anno_seg_labels), get_label_sequence(improved_seg_labels), lenient)\n",
    "print('Error Metrics - sentence level:')\n",
    "sentence_level_evaluation(train_spans, improved_segmenter)"
   ]
  },
  {
   "cell_type": "code",
   "execution_count": 52,
   "id": "6a3a32e4",
   "metadata": {},
   "outputs": [
    {
     "name": "stdout",
     "output_type": "stream",
     "text": [
      "['S':  7517 , 'E':  7520 , 'I':  1037386 ]\n",
      "['S':  7889 , 'E':  8338 , 'I':  1036196 ]\n"
     ]
    }
   ],
   "source": [
    "count_seg_labels(anno_seg_labels)\n",
    "count_seg_labels(improved_seg_labels)"
   ]
  },
  {
   "cell_type": "code",
   "execution_count": 307,
   "id": "b746778e",
   "metadata": {
    "scrolled": true
   },
   "outputs": [
    {
     "name": "stdout",
     "output_type": "stream",
     "text": [
      "-----------------------------------------------------\n",
      "sentence # 5 / case 0626988.txt / @23730\n",
      "original text: \n",
      "See Espiritu v. Derwinski, 2 \n",
      "Vet. App. 492, 495 (1992).  See also Routen v. Brown, 10 Vet. \n",
      "App. 183, 186 (1997) (\"a layperson is generally not capable \n",
      "of opining on matters requiring medical knowledge\"), aff'd \n",
      "sub nom. Routen v. West, 142 F.3d 1434 (Fed. Cir. 1998), \n",
      "cert. denied, 119 S. Ct. 404 (1998).\n",
      "segmentation result:  5 sentences: \n",
      "[ 1 ]  See Espiritu v. Derwinski, 2 \n",
      "Vet. App. 492, 495 (1992).\n",
      "[ 2 ]   See also Routen v. Brown, 10 Vet.\n",
      "[ 3 ]  \n",
      "App. 183, 186 (1997) (\"a layperson is generally not capable \n",
      "of opining on matters requiring medical knowledge\"), aff'd \n",
      "sub nom.\n",
      "[ 4 ]  Routen v. West, 142 F.3d 1434 (Fed. Cir. 1998), \n",
      "cert.\n",
      "[ 5 ]  denied, 119 S. Ct. 404 (1998).\n",
      "-----------------------------------------------------\n",
      "-----------------------------------------------------\n",
      "sentence # 7 / case 1634413.txt / @4298\n",
      "original text: \n",
      "The Veteran has not asserted that his right shoulder disorder is related to his active service.  \n",
      "segmentation result:  2 sentences: \n",
      "[ 1 ]  The Veteran has not asserted that his right shoulder disorder is related to his active service.\n",
      "[ 2 ]   \n",
      "-----------------------------------------------------\n",
      "-----------------------------------------------------\n",
      "sentence # 8 / case 1428531.txt / @20535\n",
      "original text: \n",
      "See also Davidson v. Shinseki, 581 F.3d 1313, 1316 (Fed. Cir. 2009) (Board's categorical statement that \"a valid medical opinion\" was required to establish nexus, and that a layperson was \"not competent\" to provide testimony as to nexus because she was a layperson, conflicts with Jandreau; lay witnesses may, in some circumstances, opine on questions of diagnosis and etiology).  \n",
      "segmentation result:  2 sentences: \n",
      "[ 1 ]  See also Davidson v. Shinseki, 581 F.3d 1313, 1316 (Fed. Cir. 2009) (Board's categorical statement that \"a valid medical opinion\" was required to establish nexus, and that a layperson was \"not competent\" to provide testimony as to nexus because she was a layperson, conflicts with Jandreau; lay witnesses may, in some circumstances, opine on questions of diagnosis and etiology).\n",
      "[ 2 ]   \n",
      "-----------------------------------------------------\n",
      "-----------------------------------------------------\n",
      "sentence # 9 / case 1244158.txt / @5122\n",
      "original text: \n",
      "When VA undertakes to provide a VA examination or obtain a VA opinion, it must ensure that the examination or opinion is adequate.  \n",
      "segmentation result:  2 sentences: \n",
      "[ 1 ]  When VA undertakes to provide a VA examination or obtain a VA opinion, it must ensure that the examination or opinion is adequate.\n",
      "[ 2 ]   \n",
      "-----------------------------------------------------\n",
      "-----------------------------------------------------\n",
      "sentence # 13 / case 1127550.txt / @18703\n",
      "original text: \n",
      "The examiner also noted that there were no records of left shoulder complaints or treatment within 1 year of service and that it had been 36 years since the service injury.  \n",
      "segmentation result:  2 sentences: \n",
      "[ 1 ]  The examiner also noted that there were no records of left shoulder complaints or treatment within 1 year of service and that it had been 36 years since the service injury.\n",
      "[ 2 ]   \n",
      "-----------------------------------------------------\n",
      "-----------------------------------------------------\n",
      "sentence # 24 / case 0805869.txt / @5631\n",
      "original text: \n",
      "All identified records \n",
      "should be obtained.  \n",
      "segmentation result:  2 sentences: \n",
      "[ 1 ]  All identified records \n",
      "should be obtained.\n",
      "[ 2 ]   \n",
      "-----------------------------------------------------\n",
      "-----------------------------------------------------\n",
      "sentence # 25 / case 1002616.txt / @28448\n",
      "original text: \n",
      "38 U.S.C.A. � 5107(b) (West 2002); Gilbert v. \n",
      "Derwinski, 1 Vet. App. 49, 55 (1990).\n",
      "segmentation result:  2 sentences: \n",
      "[ 1 ]  38 U.S.C.A. � 5107(b)\n",
      "[ 2 ]  (West 2002); Gilbert v. \n",
      "Derwinski, 1 Vet. App. 49, 55 (1990).\n",
      "-----------------------------------------------------\n",
      "-----------------------------------------------------\n",
      "sentence # 31 / case 0636017.txt / @12711\n",
      "original text: \n",
      "This opposing evidence, weighing both in \n",
      "favor of and against the veteran's claim, falls in relative \n",
      "equipoise, in which case, the veteran will receive the \n",
      "benefit of the doubt.\n",
      "segmentation result:  2 sentences: \n",
      "[ 1 ]  This opposing evidence, weighing both in \n",
      "favor of and against the veteran's claim, falls in relative\n",
      "[ 2 ]  \n",
      "equipoise, in which case, the veteran will receive the \n",
      "benefit of the doubt.\n",
      "-----------------------------------------------------\n",
      "-----------------------------------------------------\n",
      "sentence # 34 / case 1002616.txt / @28227\n",
      "original text: \n",
      "See Hickson, supra.  \n",
      "segmentation result:  2 sentences: \n",
      "[ 1 ]  See Hickson, supra.\n",
      "[ 2 ]   \n",
      "-----------------------------------------------------\n",
      "-----------------------------------------------------\n",
      "sentence # 35 / case 0823702.txt / @14611\n",
      "original text: \n",
      "It \n",
      "also informed him that on his behalf, VA would make \n",
      "reasonable efforts to obtain records that were not held by a \n",
      "federal agency, such as records from private doctors and \n",
      "hospitals.  \n",
      "segmentation result:  2 sentences: \n",
      "[ 1 ]  It \n",
      "also informed him that on his behalf, VA would make \n",
      "reasonable efforts to obtain records that were not held by a \n",
      "federal agency, such as records from private doctors and \n",
      "hospitals.\n",
      "[ 2 ]   \n",
      "-----------------------------------------------------\n",
      "-----------------------------------------------------\n",
      "sentence # 40 / case 1242876.txt / @16002\n",
      "original text: \n",
      "See 38 C.F.R. � 4.125 (noting that VA has adopted the nomenclature of the DSM-IV). \n",
      "segmentation result:  2 sentences: \n",
      "[ 1 ]  See 38 C.F.R. � 4.125 (noting that VA has adopted the nomenclature of the DSM-IV).\n",
      "[ 2 ]  \n",
      "-----------------------------------------------------\n"
     ]
    }
   ],
   "source": [
    "segmentation_errors(random.sample(train_spans, 50), improved_segmenter)"
   ]
  },
  {
   "cell_type": "markdown",
   "id": "d8afe3b8",
   "metadata": {},
   "source": [
    "### Step 2.3 (Law-specific sentence segmenter): \n",
    "Download Savelka's law-specific sentence segmenter (https://github.com/jsavelka/luima_sbd). The details of its development can be found the corresponding paper.3 You can call it using the command line or directly via Python. It will either return segmented sentences or sentence offset integers. Apply the segmenter to the training data4, report error metrics, and conduct an error analysis. Discuss your findings in the report and give at least three different examples of errors you observe. How are those errors different from the ones by the non-legal segmenters?"
   ]
  },
  {
   "cell_type": "code",
   "execution_count": 54,
   "id": "f1324e9d",
   "metadata": {},
   "outputs": [],
   "source": [
    "def get_luima_results(documents_by_id, id_list, segmenter):\n",
    "    seg_results = []\n",
    "    for doc_id in id_list:\n",
    "        text = documents_by_id[doc_id]['plainText']\n",
    "        \n",
    "        #manually replace line break characters (i.e. \\t, \\r and \\n)\n",
    "        #replace with space to not change the offset, but might affect the segmentation?\n",
    "        text = text.replace('\\r',' ')\n",
    "        text = text.replace('\\t',' ')\n",
    "        text = text.replace('\\n',' ')\n",
    "        \n",
    "        start = []\n",
    "        end = []\n",
    "        indices = segmenter(text, offsets=True)\n",
    "        for i in range(len(indices)):\n",
    "            start.append(indices[i][0])\n",
    "            end.append(indices[i][1])\n",
    "\n",
    "        start.sort()\n",
    "        end.sort()\n",
    "        sd = {'document': doc_id,\n",
    "              'start': start,\n",
    "              'end': end,}\n",
    "        seg_results.append(sd)\n",
    "    return seg_results"
   ]
  },
  {
   "cell_type": "code",
   "execution_count": 55,
   "id": "62e7fe05",
   "metadata": {},
   "outputs": [],
   "source": [
    "def luima_sentence_level_evaluation(train_spans, segmenter):\n",
    "    total = len(train_spans)\n",
    "    TP, FP, FN = 0, 0, 0\n",
    "    \n",
    "    for i in range(len(train_spans)):\n",
    "        doc = segmenter(train_spans[i]['txt'], offsets=False)\n",
    "        if len(doc) > 1:\n",
    "            FN = FN + 1\n",
    "            FP = FP + len(doc)\n",
    "        else:\n",
    "            TP = TP + 1\n",
    "    \n",
    "    precision = TP/(TP+FP)\n",
    "    recall = TP/(TP+FN)\n",
    "    F = (2*precision*recall) / (precision+recall)\n",
    "    table = pt.PrettyTable(['Precision','Recall','F1-score'])\n",
    "    table.add_row([precision, recall, F])\n",
    "    print(table)"
   ]
  },
  {
   "cell_type": "code",
   "execution_count": 56,
   "id": "4440c654",
   "metadata": {},
   "outputs": [
    {
     "name": "stdout",
     "output_type": "stream",
     "text": [
      "Error Metrics - strict:\n",
      "+-------+--------------------+--------------------+--------------------+\n",
      "| Label |     Precision      |       Recall       |      F1-score      |\n",
      "+-------+--------------------+--------------------+--------------------+\n",
      "|   S   | 0.8526740665993946 | 0.8992949314886258 | 0.8753641955325349 |\n",
      "|   E   | 0.5602926337033299 | 0.5906914893617021 | 0.5750906266183324 |\n",
      "|   I   | 0.9963012521139493 | 0.9955146878789572 | 0.9959078146901111 |\n",
      "+-------+--------------------+--------------------+--------------------+\n",
      "Error Metrics - lenient:\n",
      "+-------+--------------------+--------------------+--------------------+\n",
      "| Label |     Precision      |       Recall       |      F1-score      |\n",
      "+-------+--------------------+--------------------+--------------------+\n",
      "|   S   | 0.8985872855701312 | 0.9477185047226288 | 0.9224991906765945 |\n",
      "|   E   | 0.8872351160443996 | 0.935372340425532  | 0.910668047643708  |\n",
      "|   I   | 1.000788178670554  | 0.9999980720773174 | 1.0003929693681584 |\n",
      "+-------+--------------------+--------------------+--------------------+\n",
      "Error Metrics - sentence level:\n",
      "+--------------------+--------------------+--------------------+\n",
      "|     Precision      |       Recall       |      F1-score      |\n",
      "+--------------------+--------------------+--------------------+\n",
      "| 0.6979289623350144 | 0.8643189368770764 | 0.7722631203989552 |\n",
      "+--------------------+--------------------+--------------------+\n"
     ]
    }
   ],
   "source": [
    "from luima_sbd.sbd_utils import text2sentences\n",
    "luima_segmenter = text2sentences\n",
    "\n",
    "luima_seg_results = get_luima_results (documents_by_id, train_doc_id, luima_segmenter)\n",
    "luima_seg_labels = make_seg_labels(documents_by_id, train_doc_id, luima_seg_results)\n",
    "print('Error Metrics - strict:')\n",
    "error_metrics(get_label_sequence(anno_seg_labels), get_label_sequence(luima_seg_labels), strict)\n",
    "print('Error Metrics - lenient:')\n",
    "error_metrics(get_label_sequence(anno_seg_labels), get_label_sequence(luima_seg_labels), lenient)\n",
    "print('Error Metrics - sentence level:')\n",
    "luima_sentence_level_evaluation(train_spans, luima_segmenter)"
   ]
  },
  {
   "cell_type": "code",
   "execution_count": 308,
   "id": "a7f02b3c",
   "metadata": {},
   "outputs": [],
   "source": [
    "def luima_seg_errors(eval_spans, segmenter):\n",
    "    for i in range(len(eval_spans)):\n",
    "        doc = segmenter(eval_spans[i]['txt'], offsets=False)\n",
    "        if len(doc) > 1:\n",
    "            doc_name = documents_by_id[eval_spans[i]['document']]['name']\n",
    "            print(\"-----------------------------------------------------\")\n",
    "            print('sentence # '+str(i)+' / case '+doc_name+' / @'+str(eval_spans[i]['start']))\n",
    "            print('original text: \\n'+eval_spans[i]['txt'])\n",
    "            print('segmentation result: ', len(doc), 'sentences')\n",
    "            for i in range(len(doc)):\n",
    "                print('[',i+1,'] ', doc[i])\n",
    "            print(\"-----------------------------------------------------\")"
   ]
  },
  {
   "cell_type": "code",
   "execution_count": 313,
   "id": "dc3b2112",
   "metadata": {},
   "outputs": [
    {
     "name": "stdout",
     "output_type": "stream",
     "text": [
      "-----------------------------------------------------\n",
      "sentence # 1 / case 1018283.txt / @2288\n",
      "original text: \n",
      "38 U.S.C.A. � 1110 (West 2002); \r\n",
      "38 C.F.R. �� 3.303, 3.304 (2009).\n",
      "segmentation result:  2 sentences\n",
      "[ 1 ]  38 U.S.C.A. � 1110 (West 2002);\n",
      "[ 2 ]  38 C.F.R. �� 3.303, 3.304 (2009).\n",
      "-----------------------------------------------------\n",
      "-----------------------------------------------------\n",
      "sentence # 2 / case 0829439.txt / @0\n",
      "original text: \n",
      "Citation Nr: 0829439\t\r\n",
      "Decision Date: 08/28/08    Archive Date: 09/04/08\r\n",
      "\r\n",
      "DOCKET NO.  03-20 425\t)\tDATE\r\n",
      "\t)\r\n",
      "\t)\n",
      "segmentation result:  6 sentences\n",
      "[ 1 ]  Citation Nr: 0829439\n",
      "[ 2 ]  Decision Date: 08/28/08\n",
      "[ 3 ]  Archive Date: 09/04/08\n",
      "[ 4 ]  DOCKET NO.  03-20 425\n",
      "[ 5 ]  DATE\n",
      "[ 6 ]  )\n",
      "-----------------------------------------------------\n",
      "-----------------------------------------------------\n",
      "sentence # 7 / case 0734568.txt / @11759\n",
      "original text: \n",
      "The dose data is then forwarded to the \r\n",
      "Under Secretary for Benefits for consideration.\n",
      "segmentation result:  2 sentences\n",
      "[ 1 ]  The dose data is then forwarded to the \n",
      "[ 2 ]  Under Secretary for Benefits for consideration.\n",
      "-----------------------------------------------------\n",
      "-----------------------------------------------------\n",
      "sentence # 11 / case 1007840.txt / @2953\n",
      "original text: \n",
      "Regarding the request for updated (post-August 2003) VA \r\n",
      "treatment records, the Board notes that the November 2009 \r\n",
      "supplemental statement of the case (SSOC) identifies March \r\n",
      "2005 to May 2005 progress notes from the Mobile Outpatient \r\n",
      "Clinic as having been associated with the record.\n",
      "segmentation result:  2 sentences\n",
      "[ 1 ]  Regarding the request for updated (post-August 2003) VA \r\n",
      "treatment records, the Board notes that the November 2009 \r\n",
      "supplemental statement of the case (SSOC) identifies March \r\n",
      "2005 to May 2005 progress notes from the Mobile Outpatient\n",
      "[ 2 ]  Clinic as having been associated with the record.\n",
      "-----------------------------------------------------\n",
      "-----------------------------------------------------\n",
      "sentence # 22 / case 0634451.txt / @8085\n",
      "original text: \n",
      "Epps v. Gober, 126 F.3d 1464 \r\n",
      "(Fed. Cir. 1997); Degmetich v. Brown, 104 F.3d 1328 (Fed. \r\n",
      "Cir. 1997); Hickson v. West, 12 Vet. App. 247, 253 (1999); \r\n",
      "Brammer v. Derwinski, 3 Vet. App. 223 (1992).\n",
      "segmentation result:  4 sentences\n",
      "[ 1 ]  Epps v. Gober, 126 F.3d 1464\n",
      "[ 2 ]  (Fed. Cir. 1997); Degmetich v. Brown, 104 F.3d 1328 (Fed.\n",
      "[ 3 ]  Cir. 1997); Hickson v. West, 12 Vet. App. 247, 253 (1999);\n",
      "[ 4 ]  Brammer v. Derwinski, 3 Vet. App. 223 (1992).\n",
      "-----------------------------------------------------\n",
      "-----------------------------------------------------\n",
      "sentence # 24 / case 0936047.txt / @7015\n",
      "original text: \n",
      "6.  Then review the Veteran's claim de novo \r\n",
      "in light of any additional evidence \r\n",
      "obtained. \n",
      "segmentation result:  2 sentences\n",
      "[ 1 ]  6.\n",
      "[ 2 ]  Then review the Veteran's claim de novo \r\n",
      "in light of any additional evidence \r\n",
      "obtained. \n",
      "-----------------------------------------------------\n",
      "-----------------------------------------------------\n",
      "sentence # 29 / case 0626988.txt / @4595\n",
      "original text: \n",
      "A. Pertinent Law\n",
      "segmentation result:  2 sentences\n",
      "[ 1 ]  A.\n",
      "[ 2 ]  Pertinent Law\n",
      "-----------------------------------------------------\n",
      "-----------------------------------------------------\n",
      "sentence # 40 / case 1222885.txt / @0\n",
      "original text: \n",
      "Citation Nr: 1222885\t\r\n",
      "Decision Date: 06/29/12    Archive Date: 07/10/12\r\n",
      "\r\n",
      "DOCKET NO.  94-42 870\t)\tDATE\r\n",
      "\t)\r\n",
      "\t)\n",
      "segmentation result:  6 sentences\n",
      "[ 1 ]  Citation Nr: 1222885\n",
      "[ 2 ]  Decision Date: 06/29/12\n",
      "[ 3 ]  Archive Date: 07/10/12\n",
      "[ 4 ]  DOCKET NO.  94-42 870\n",
      "[ 5 ]  DATE\n",
      "[ 6 ]  )\n",
      "-----------------------------------------------------\n",
      "-----------------------------------------------------\n",
      "sentence # 50 / case 0915793.txt / @4993\n",
      "original text: \n",
      "L. HOWELL\r\n",
      "Veterans Law Judge, Board of Veterans' Appeals\r\n",
      "\r\n",
      "Under 38 U.S.C.A. � 7252 (West 2002), only a decision of the \r\n",
      "Board of Veterans' Appeals is appealable to the United States \r\n",
      "Court of Appeals for Veterans Claims.  This remand is in the \r\n",
      "nature of a preliminary order and does not constitute a \r\n",
      "decision of the Board on the merits of your appeal.  \r\n",
      "38 C.F.R. � 20.1100(b) (2008).\r\n",
      "segmentation result:  7 sentences\n",
      "[ 1 ]  L. HOWELL\n",
      "[ 2 ]  Veterans Law Judge, Board of Veterans' Appeals\n",
      "[ 3 ]  Under 38 U.S.C.A. � 7252 (West 2002), only a decision of the \n",
      "[ 4 ]  Board of Veterans' Appeals is appealable to the United States\n",
      "[ 5 ]  Court of Appeals for Veterans Claims.\n",
      "[ 6 ]  This remand is in the \r\n",
      "nature of a preliminary order and does not constitute a \r\n",
      "decision of the Board on the merits of your appeal.\n",
      "[ 7 ]  38 C.F.R. � 20.1100(b) (2008).\n",
      "-----------------------------------------------------\n",
      "-----------------------------------------------------\n",
      "sentence # 53 / case 0916473.txt / @10663\n",
      "original text: \n",
      "The Board \r\n",
      "acknowledges that where the record indicates that the Veteran \r\n",
      "engaged in combat during service, the provisions of \r\n",
      "38 U.S.C.A. � 1154(b) are for application.\n",
      "segmentation result:  2 sentences\n",
      "[ 1 ]  The Board \r\n",
      "acknowledges that where the record indicates that the Veteran \r\n",
      "engaged in combat during service, the provisions of \n",
      "[ 2 ]  38 U.S.C.A. � 1154(b) are for application.\n",
      "-----------------------------------------------------\n",
      "-----------------------------------------------------\n",
      "sentence # 55 / case 0823702.txt / @4911\n",
      "original text: \n",
      " 38 \r\n",
      "C.F.R. � 3.303(d).\n",
      "segmentation result:  2 sentences\n",
      "[ 1 ]   38\n",
      "[ 2 ]  C.F.R. � 3.303(d).\n",
      "-----------------------------------------------------\n",
      "-----------------------------------------------------\n",
      "sentence # 56 / case 0934845.txt / @2106\n",
      "original text: \n",
      "The Board notes that \r\n",
      "the record reflects that the Veteran served in the Southwest \r\n",
      "Asia Theater of operations from October 1990 to April 1991.\n",
      "segmentation result:  2 sentences\n",
      "[ 1 ]  The Board notes that \r\n",
      "the record reflects that the Veteran served in the Southwest \n",
      "[ 2 ]  Asia Theater of operations from October 1990 to April 1991.\n",
      "-----------------------------------------------------\n",
      "-----------------------------------------------------\n",
      "sentence # 57 / case 1631140.txt / @6770\n",
      "original text: \n",
      "4.  Note: The Veteran is to be advised that failure to report for a scheduled VA examination without good cause shown may have adverse effects on her claim.\n",
      "segmentation result:  2 sentences\n",
      "[ 1 ]  4.\n",
      "[ 2 ]  Note: The Veteran is to be advised that failure to report for a scheduled VA examination without good cause shown may have adverse effects on her claim.\n",
      "-----------------------------------------------------\n",
      "-----------------------------------------------------\n",
      "sentence # 62 / case 1007840.txt / @1232\n",
      "original text: \n",
      "The appeal is REMANDED to the RO via the Appeals Management \r\n",
      "Center (AMC), in Washington, DC.\n",
      "segmentation result:  2 sentences\n",
      "[ 1 ]  The appeal is REMANDED to the RO via the Appeals Management\n",
      "[ 2 ]  Center (AMC), in Washington, DC.\n",
      "-----------------------------------------------------\n"
     ]
    }
   ],
   "source": [
    "luima_seg_errors(random.sample(train_spans, 100), luima_segmenter)"
   ]
  },
  {
   "cell_type": "markdown",
   "id": "3d2004f2",
   "metadata": {},
   "source": [
    "## Phase 3: Preprocessing"
   ]
  },
  {
   "cell_type": "markdown",
   "id": "2ed176e3",
   "metadata": {},
   "source": [
    "### Step 3.1 (splitting unlabeled data): \n",
    "Sentence-segment all decisions in the unlabeled corpus. Produce a histogram for the number of sentences across all unlabeled decisions and report the total number of sentences. For the unlabeled corpus, this should result in a total of ~3M sentences. If you are an order of magnitude below or above that, check for errors and request help if needed."
   ]
  },
  {
   "cell_type": "code",
   "execution_count": 48,
   "id": "553290e2",
   "metadata": {},
   "outputs": [],
   "source": [
    "def merge_text(dir_path, fpath): \n",
    "    doc_list = []\n",
    "    \n",
    "    for file in file_names:\n",
    "        f = open(dir_path+\"/\"+file,'r+',encoding='latin-1')\n",
    "        plainText = f.read()\n",
    "        doc_id = file.strip('.txt')\n",
    "        x =  { \"_id\": doc_id,\n",
    "                \"name\": file,\n",
    "                \"plainText\":plainText}\n",
    "        doc_list.append(x)\n",
    "        \n",
    "    with open(fpath, 'w') as file:\n",
    "        json_str = json.dumps(doc_list)\n",
    "        file.write(json_str)\n",
    "        file.close()"
   ]
  },
  {
   "cell_type": "code",
   "execution_count": 61,
   "id": "c0e87035",
   "metadata": {},
   "outputs": [],
   "source": [
    "#merge unlabeled data\n",
    "unlabeled_corpus_fpath = './data/unlabeled_corpus.json'\n",
    "unlabeled_corpus_dir = './data/unlabeled'\n",
    "unlabeled_doc_names = os.listdir(unlabeled_corpus_dir)\n",
    "#merge_text(unlabeled_corpus_dir, unlabeled_corpus_fpath)"
   ]
  },
  {
   "cell_type": "code",
   "execution_count": 50,
   "id": "122a7485",
   "metadata": {},
   "outputs": [
    {
     "name": "stdout",
     "output_type": "stream",
     "text": [
      "30000\n"
     ]
    }
   ],
   "source": [
    "#load unlabeled data\n",
    "unlabeled_data = json.load(open(unlabeled_corpus_fpath))\n",
    "print(len(unlabeled_data))"
   ]
  },
  {
   "cell_type": "code",
   "execution_count": 70,
   "id": "1886d639",
   "metadata": {
    "collapsed": true
   },
   "outputs": [
    {
     "data": {
      "text/plain": [
       "{'_id': '0617618',\n",
       " 'name': '0617618.txt',\n",
       " 'plainText': 'Citation Nr: 0617618\\t\\nDecision Date: 06/16/06    Archive Date: 06/27/06\\n\\nDOCKET NO.  04-24 710A\\t)\\tDATE\\n\\t)\\n\\t)\\n\\nOn appeal from the\\nDepartment of Veterans Affairs Regional Office in St. \\nPetersburg, Florida\\n\\n\\nTHE ISSUE\\n\\nEntitlement to service connection for post-traumatic stress \\ndisorder.\\n\\n\\nREPRESENTATION\\n\\nAppellant represented by:\\tDisabled American Veterans\\n\\n\\nATTORNEY FOR THE BOARD\\n\\nDavid S. Ames, Associate Counsel\\n\\n\\nINTRODUCTION\\n\\nThe veteran served on active duty from May 1954 to March \\n1957.\\n\\nThis matter comes properly before the Board of Veterans\\' \\nAppeals (Board) on appeal from a September 2002 rating \\ndecision the Department of Veterans Affairs (VA) Regional \\noffice in St. Petersburg, Florida (RO).\\n\\n\\nFINDING OF FACT\\n\\nThe veteran\\'s alleged in-service stressors have not been \\nverified by official records or any other supportive \\nevidence.\\n\\n\\nCONCLUSION OF LAW\\n\\nPTSD was not incurred in active service.  38 U.S.C.A. \\n§§ 1110, 1131, 5103A (West 2002); 38 C.F.R. §§ 3.303, 3.304 \\n(2005).\\n\\n\\nREASONS AND BASES FOR FINDINGS AND CONCLUSION\\n\\nInitially, it is noted that VA has an obligation to notify \\nclaimants what information or evidence is needed in order to \\nsubstantiate a claim, and to assist claimants by making \\nreasonable efforts to get the evidence needed.  38 U.S.C.A. \\n§§ 5100, 5102, 5103, 5103A and 5107 (West 2002); 38 C.F.R. \\n§§ 3.102, 3.156(a), 3.159, 3.326(a) (2005). \\n\\nThe United States Court of Appeals for Veterans Claims \\n(hereinafter the Court) has held that the notice requirements \\nof 38 U.S.C.A. § 5103(a) and 38 C.F.R. § 3.159(b) applied to \\nall five elements of a service connection claim, which \\ninclude:  1) veteran status; 2) existence of a disability; \\n(3) a connection between the veteran\\'s service and the \\ndisability; 4) degree of disability; and 5) effective date of \\nthe disability.  See Dingess/Hartman v. Nicholson, 19 Vet. \\nApp. 473 (2006). \\n\\nThe Court held that upon receipt of an application for \\nservice connection VA is required by law to review the \\ninformation and the evidence presented with the claim and to \\nprovide the claimant with notice of what information and \\nevidence not previously provided, if any, will assist in \\nsubstantiating or is necessary to substantiate the elements \\nof the claim as reasonably contemplated by the application.  \\nSee Dingess/Hartman, 19 Vet. App. 473.  The Court held that \\nsuch notice must include notice that a disability rating and \\nan effective date for the award of benefits will be assigned \\nif service connection is awarded.  Id.  \\n\\nVA law and regulations also indicate that part of notifying a \\nclaimant of what is needed to substantiate a claim includes \\nnotification as to what information and evidence VA will seek \\nto provide and what evidence the claimant is expected to \\nprovide.  Further, VA must ask the claimant to provide any \\nevidence in her or his possession that pertains to the claim.  \\n38 U.S.C.A. § 5103 (West 2002 & Supp. 2005); 38 C.F.R. \\n§§ 3.159(a)-(c) (2005). \\n\\nThat said, in an October 2002 letter from the RO, sent prior \\nto the initial VA adjudication of the veteran\\'s claim, he was \\nadvised of the information and evidence needed to \\nsubstantiate and complete his claim for PTSD.  This letter \\nalso informed him of what evidence they would obtain and what \\nevidence he should submit.  This letter also, essentially, \\nrequested that he provide any medical evidence in his \\npossession that pertained to this claim.  In another letter \\nsent to the veteran in October 2002, he was asked him to \\nprovide information regarding the incidents he alleged caused \\nhis current disorder.  \\n\\nThe Board finds that the notice requirements set forth have \\nbeen met, because while the veteran was not provided with \\nnotice of the type of evidence necessary to establish a \\ndisability rating or effective date, there is no prejudice to \\nthe veteran in proceeding with the issuance of a final \\ndecision.  See Bernard v. Brown, 4 Vet. App. 384, 394 (1993).  \\nIn this regard, the Board concludes herein that the \\npreponderance of the evidence is against the veteran\\'s claim \\nfor service connection for PTSD, any questions as to the \\nappropriate disability rating or effective date to be \\nassigned are rendered moot.  \\n\\nRegarding the VA\\'s duty to assist claimants, it is noted that \\nVA medical records have been associated with the claims \\nfolder.  In addition, the veteran\\'s service medical records \\nand, significantly, his personnel records, have been \\nassociated with the claims folder.  There is sufficient \\nevidence to decide this claim, and as such, the duty to \\nassist the veteran has been met.  As will be discussed below, \\nthis claim is not being denied by the Board due to the lack \\nof a diagnosis of PTSD.  Rather, this claim is being denied - \\nas will be addressed below - due to the fact that the \\nveteran\\'s alleged stressors have not been adequately \\nverified.  In this regard, the veteran has indicated that he \\ndid not report the alleged incidents at the time they \\noccurred, and as such, a search for any official \\ndocumentation or other contemporaneous evidence regarding the \\nalleged incidents would be fruitless.  \\n\\nFor these same reasons cited above, there is no need for a VA \\npsychiatric examination or opinion.  See 38 U.S.C.A. § 5103A \\n(to the effect that VA must provide an examination where (1) \\ncompetent evidence of a current disability or persistent or \\nrecurrent symptoms of a disability; (2) evidence establishing \\nthat an event, injury, or disease occurred in service or \\nestablishing certain diseases manifesting during an \\napplicable presumptive period for which the claimant \\nqualifies; (3) an indication that the disability or \\npersistent or recurrent symptoms of a disability may be \\nassociated with the veteran\\'s service or with another \\nservice-connected disability, but (4) insufficient competent \\nmedical evidence on file for the Secretary to make a decision \\non the claim).  \\n\\nService connection may be established for disability \\nresulting from personal injury suffered or disease contracted \\nin line of duty, or for aggravation of a pre-existing injury \\nsuffered or disease contracted in line of duty.  38 U.S.C.A. \\n§§ 1110, 1131; 38 C.F.R. § 3.303.  \\n\\nService connection for PTSD requires: (1) medical evidence \\nestablishing a diagnosis of the condition; (2) credible \\nsupporting evidence that the claimed in-service stressor \\noccurred; and, (3) a link established by medical evidence, \\nbetween current symptoms and an in-service stressor.  \\nFurthermore, if the veteran did not engage in combat with the \\nenemy or if the claimed stressors are not related to combat, \\nthen the veteran\\'s testimony alone is not sufficient to \\nestablish the occurrence of the claimed stressors, and his \\ntestimony must be corroborated by credible supporting \\nevidence.  Cohen v. Brown, 10 Vet. App. 128 (1997).\\n\\nIn Patton v. West, 12 Vet. App. 272, 278 (1999), the Court \\nspecified that there are special evidentiary procedures for \\nPTSD claims based on personal assault.  In personal assault \\ncases, more particularized requirements are established \\nregarding the development of \"alternative sources\" of \\ninformation as service records \"may be devoid of evidence \\nbecause many victims of personal assault, especially sexual \\nassault and domestic violence, do not file official reports \\neither with military or civilian authorities.\"  VA \\nADJUDICATION PROCEDURAL MANUAL M21-1, Part III, para. \\n5.14c(5).\\n\\nFurther, with respect to a claim of entitlement to service \\nconnection for PTSD based on an alleged personal assault, 38 \\nC.F.R. § 3.304(f) was amended in March 2002, as follows:\\n\\n(3)  If a post-traumatic stress disorder \\nclaim is based on in-service personal \\nassault, evidence from sources other than \\nthe veteran\\'s service records may \\ncorroborate the veteran\\'s account of the \\nstressor incident.  Examples of such \\nevidence include, but are not limited to: \\nrecords from law enforcement authorities, \\nrape crisis centers, mental health \\ncounseling centers, hospitals, or \\nphysicians; pregnancy tests or tests for \\nsexually transmitted diseases; and \\nstatements from family members, \\nroommates, fellow service members, or \\nclergy.  Evidence of behavior changes \\nfollowing the claimed assault is one type \\nof relevant evidence that may be found in \\nthese sources.  Examples of behavior \\nchanges that may constitute credible \\nevidence of the stressor include, but are \\nnot limited to: a request for a transfer \\nto another military duty assignment; \\ndeterioration in work performance; \\nsubstance abuse; episodes of depression, \\npanic attacks, or anxiety without an \\nidentifiable cause; or unexplained \\neconomic or social behavior changes.  VA \\nwill not deny a post- traumatic stress \\ndisorder claim that is based on in-\\nservice personal assault without first \\nadvising the claimant that evidence from \\nsources other than the veteran\\'s service \\nrecords or evidence of behavior changes \\nmay constitute credible supporting \\nevidence of the stressor and allowing him \\nor her the opportunity to furnish this \\ntype of evidence or advise VA of \\npotential sources of such evidence.  VA \\nmay submit any evidence that it receives \\nto an appropriate medical or mental \\nhealth professional for an opinion as to \\nwhether it indicates that a personal \\nassault occurred.\\n\\n38 C.F.R. § 3.304(f).\\n\\nThe veteran contends that he has PTSD, and that this is the \\nresult of two sexual assaults perpetrated upon him while in \\nactive service.  Initially, the Board points out that a VA \\nMental Health Clinic record dated in July 2003 reflects that \\nthe veteran was diagnosed with PTSD and the examiner appears \\nto have related the disorder to military sexual trauma \\n(\"MST\").\\n\\nAccording to the veteran, the first personal assault \\nallegedly occurred in 1954 or 1955 while serving aboard the \\nUSS McClelland and the second allegedly occurred in late 1956 \\nin Morocco.  The relevant evidence of record includes the \\nveteran\\'s service medical records, service personnel records, \\na report of contact with the veteran notation from October \\n2002, a July 2003 statement by the veteran, a statement \\nsigned by the veteran in the June 2004 appeal to the Board, \\nand statements made during VA mental health clinic \\nexaminations between February 2000 and July 2003.\\n\\nThe veteran\\'s service medical records show that he was \\ntreated for a lacerated anterior left wrist in January 1957 \\nafter a suicide attempt.  The medical report noted that he \\nsaid that he had become temporarily \"despondent following a \\nquarrel with a friend and [had] cut his wrist.\"  In a \\nJanuary 1957 psychiatric evaluation, the veteran was reported \\nto have stated that \"the night he slashed his wrist he and \\n[a] friend had had an argument and had parted ways.\"  He was \\nreported to have denied that this argument was the reason for \\nthe suicide attempt.  The evaluation report notes that the \\nveteran stated that, \"he [couldn\\'t] fully explain why he did \\ncut himself, but [thought] it was mostly guilt[y] feeling[s] \\nabout his former homosexuality.\"  The service medical \\nrecords are negative for any other physical or psychological \\ntreatment suggestive of physical assault.\\n\\nThe veteran\\'s service personnel records show that he served \\non-board the USS McClelland from November 1954 to December \\n1955.  The veteran\\'s ratings show that his proficiency rate \\nand seamanship consistently improved from September 1954 to \\nAugust 1955, both increasing from 3.3/4 to 3.8/4.  Thereafter \\nthey remained consistently high with no significant \\ndecreases.  The veteran received a consistent 4/4 in conduct \\nthroughout his entire period of active service.  The record \\nshows that he was granted Top Secret security clearance in \\nSeptember 1956.\\n\\nIn a January 1957 letter to the Chief of Naval Personnel, the \\nveteran wrote,\\n\\nThis was my first Christmas away from \\nhome and my first shore duty overseas.  \\nOn New Years Eve I went into the town of \\nPort Lyautey with a good buddy.  The only \\nentertainment the city has to offer is \\nthat offered by the several cheap night \\nclubs.  We had a few drinks of whiskey \\nand coke and began to argue about various \\nminor insignificant things.  We returned \\nto the barracks at the Navy Base about \\n2320 and continued to verbally fight back \\nand forth.  I picked up my shaving kit to \\ngo into the head, feeling very blue, \\nsomewhat dizzy, and quite disgusted for \\nbeing involved in this meaningless and \\nsenseless bickering.  Then without really \\nthinking, I suddenly dragged the razor \\nacross my left wrist.  Immediately, I \\nrealized that I had deeply cut myself and \\nstated, \"God forgive me, what have I \\ndone!\"  The other fellows in the \\nbarracks grabbed me and I was taken to \\nsickbay.\\n\\nThe veteran subsequently received an honorable discharge from \\nservice in March 1957.  The Board notes that while the \\nveteran\\'s service medical records and service personnel \\nrecords contain no references to a physical assault, victims \\nof such assaults rarely report them to military or civilian \\nauthorities.  In addition, the Board notes that the record \\nclearly indicates that, at the time the veteran made the \\nabove statements, he was aware that his future in the Navy \\nwas in jeopardy, that he wanted to have a long-term career in \\nthe Navy, and that he did not wish to be separated from \\nservice.\\n\\nThe October 2002 report of contact with the veteran stated \\nthat he was sexually assaulted twice in service.  He \\nindicated that the first time was by a Navy chief on board a \\nship in the 1950\\'s.  He related that this incident was not \\nreported to anyone, although he knew that this chief did \\nassault others.  According to the report, he indicated that \\nthe second incident happened in Morocco, that authorities \\n\"\\'caught\\' them\" in the act, and that he was transferred out \\nof Morocco.  The veteran related that he tried to commit \\nsuicide after the second incident, and was then discharged \\nfrom service.\\n\\nIn a statement dated July 2003, the veteran wrote that just \\nafter boot camp, while aboard USS McClelland \"storekeeper \\nChief\" gave him coffee laced with rubbing alcohol, got him \\ndrunk, and then sexually assaulted him.  He stated that he \\ndid not report the incident, but when a VA nurse asked him a \\nquestion regarding military sexual trauma he recalled the \\nattack.\\n\\nIn the veteran\\'s June 2004 appeal to the Board, he signed a \\nstatement which read, in part, \\n\\nIt is the veteran\\'s contention that he \\nhad suppressed this incident which took \\nplace aboard the USS [McClelland] \\n(DE750).  The veteran is not able to pin \\npoint an exact date, he believes it was \\nin 1954 or 1955.  He contends he was so \\ntraumatized by the assault that he \\nblocked it out of his mind for all of \\nthese years until he was taken by \\n[surprise] by an unexpected question from \\na nurse at the [out patient clinic] \\nduring the intake process.  The veteran \\ncannot prove this happened; as he notes, \\nhe was so humiliated, embarrassed and \\nscared, he just built a box around it and \\nnever consciously remembered the trauma \\nuntil the intake process.\\n\\nThe VA mental health clinic examination reports from February \\n2000 to July 2003 note various remarks by the veteran which \\nare duplicative of and consistent with the evidence already \\ndiscussed.\\n\\nThe evidence of the first personal assault is limited to the \\nveteran\\'s own statements.  There is no corroborating evidence \\nfrom the service medical records, the service personnel \\nrecords, or any other source.  The Board may consider \\nevidence of behavior changes following the claimed assault, \\nbut no evidence of such a change is of record.  On the \\ncontrary, the service personnel records indicate that the \\nveteran maintained high marks in all areas of evaluation and \\nconsistently improved them during and after the time period \\nwhen the assault allegedly occurred.  The veteran was also \\ngranted Top Secret security clearance subsequent to the \\nalleged incident.  While the record shows that the veteran \\nattempted to commit suicide, this occurred one to two years \\nafter the first alleged personal assault and no evidence of \\nrecord suggests that it was related to this event.\\n\\nThe evidence of the second personal assault is limited to the \\nOctober 2002 report of contact statement made by the RO.  \\nMinimal information is provided about this incident, though \\nit is claimed that the veteran\\'s suicide attempt was a direct \\nresult of this.  The service personnel records refer only to \\nan argument with a friend as the cause of the suicide \\nattempt.\\n\\nDue to the noted tendencies of victims of personal assault to \\navoid reporting such incidents, the Board does not consider \\nthe veteran\\'s service records and statements, or lack \\nthereof, at the time of the incidents as evidence that the \\nevents did not occur.  However, despite the lower probative \\nbar required for claimed stressors of PTSD based upon \\npersonal assault, the Board still requires corroborative \\nevidence of some kind.  There is no corroborative evidence \\nassociated with the record.\\n\\nAs the veteran\\'s stressor is not related to combat, his \\ntestimony alone is not sufficient to establish the occurrence \\nof the claimed assaults as in-service stressors.  Cohen, 10 \\nVet. App. 128 (1997).  His testimony must be corroborated by \\ncredible supporting evidence.  Id.  The veteran has offered \\nno corroborating evidence of his claimed stressors.  Again, \\nservice connection for PTSD requires: (1) medical evidence \\nestablishing a diagnosis of the condition; (2) credible \\nsupporting evidence that the claimed in-service stressor \\noccurred; and, (3) a link established by medical evidence, \\nbetween current symptoms and an in-service stressor.  \\nAlthough the veteran does have a diagnosis of PTSD, there is \\nno credible supporting evidence that the claimed in-service \\nstressors occurred.\\n\\nThe record contains insufficient supporting evidence of \\neither of the veteran\\'s claimed stressors.  Given the lack of \\ncorroborating evidence, the Board finds that service \\nconnection for PTSD is not warranted.  In reaching this \\ndecision, the Board considered the doctrine of reasonable \\ndoubt.  However, as the preponderance of the evidence is \\nagainst the veteran\\'s claim, the doctrine is not for \\napplication.  Gilbert v. Derwinski, 1 Vet. App. 49 (1990).\\n\\n\\nORDER\\n\\nService connection for PTSD is denied.\\n\\n____________________________________________\\nJ. A. MARKEY\\nVeterans Law Judge, Board of Veterans\\' Appeals\\n\\n\\n\\n\\n Department of Veterans Affairs\\n\\n\\n'}"
      ]
     },
     "execution_count": 70,
     "metadata": {},
     "output_type": "execute_result"
    }
   ],
   "source": [
    "unlabeled_data[0]"
   ]
  },
  {
   "cell_type": "code",
   "execution_count": 37,
   "id": "9db75926",
   "metadata": {},
   "outputs": [],
   "source": [
    "def seg_unlabeled_data(documents, segmenter):\n",
    "    seg_results = []\n",
    "    for i in range(len(documents)):\n",
    "        text = documents[i]['plainText']\n",
    "        doc_id = documents[i]['_id']\n",
    "        \n",
    "        #manually replace line break characters (i.e. \\t, \\r and \\n)\n",
    "        #replace with space to not change the offset, but might affect the segmentation?\n",
    "        text = text.replace('\\r',' ')\n",
    "        text = text.replace('\\t',' ')\n",
    "        text = text.replace('\\n',' ')\n",
    "        \n",
    "        start = []\n",
    "        end = []\n",
    "        indices = segmenter(text, offsets=True)\n",
    "        for j in range(len(indices)):\n",
    "            start = indices[j][0]\n",
    "            end = indices[j][1]\n",
    "            txt = text[start:end]\n",
    "            sent = {'document': doc_id,\n",
    "                    'txt': txt,\n",
    "                    'start': start,\n",
    "                    'end': end,}\n",
    "            seg_results.append(sent)\n",
    "    return seg_results"
   ]
  },
  {
   "cell_type": "markdown",
   "id": "c174bf31",
   "metadata": {},
   "source": [
    "seg by luima simple_model"
   ]
  },
  {
   "cell_type": "code",
   "execution_count": 331,
   "id": "9906d855",
   "metadata": {},
   "outputs": [],
   "source": [
    "sents_of_unlabeled = seg_unlabeled_data(unlabeled_data, luima_segmenter)"
   ]
  },
  {
   "cell_type": "markdown",
   "id": "a9b42597",
   "metadata": {},
   "source": [
    "Total number of sentences"
   ]
  },
  {
   "cell_type": "code",
   "execution_count": 332,
   "id": "879d4d86",
   "metadata": {},
   "outputs": [
    {
     "data": {
      "text/plain": [
       "2786737"
      ]
     },
     "execution_count": 332,
     "metadata": {},
     "output_type": "execute_result"
    }
   ],
   "source": [
    "len(sents_of_unlabeled)"
   ]
  },
  {
   "cell_type": "markdown",
   "id": "f7d3191c",
   "metadata": {},
   "source": [
    "Store the segmented sentences in './data/sentences_of_unlabeled_data.json'"
   ]
  },
  {
   "cell_type": "code",
   "execution_count": 333,
   "id": "be82db5d",
   "metadata": {},
   "outputs": [],
   "source": [
    "with open('./data/sentences_of_unlabeled_data.json', 'w') as file:\n",
    "    json_str = json.dumps(sents_of_unlabeled)\n",
    "    file.write(json_str)\n",
    "    file.close()"
   ]
  },
  {
   "cell_type": "markdown",
   "id": "97365f31",
   "metadata": {},
   "source": [
    "Load segmented sentences in './data/sentences_of_unlabeled_data.json'"
   ]
  },
  {
   "cell_type": "code",
   "execution_count": 39,
   "id": "0edc47a9",
   "metadata": {},
   "outputs": [
    {
     "data": {
      "text/plain": [
       "2786737"
      ]
     },
     "execution_count": 39,
     "metadata": {},
     "output_type": "execute_result"
    }
   ],
   "source": [
    "sents_of_unlabeled = json.load(open('./data/sentences_of_unlabeled_data.json'))\n",
    "len(sents_of_unlabeled)"
   ]
  },
  {
   "cell_type": "code",
   "execution_count": 40,
   "id": "99466f0f",
   "metadata": {},
   "outputs": [
    {
     "data": {
      "text/plain": [
       "{'document': '1233268',\n",
       " 'txt': 'Records of VA outpatient primary care from 2002 to 2006 are silent for any symptoms or diagnoses of heart related disorders.',\n",
       " 'start': 11427,\n",
       " 'end': 11551}"
      ]
     },
     "execution_count": 40,
     "metadata": {},
     "output_type": "execute_result"
    }
   ],
   "source": [
    "random.choice(sents_of_unlabeled)"
   ]
  },
  {
   "cell_type": "markdown",
   "id": "c9c32090",
   "metadata": {},
   "source": [
    "Histogram for the document length across the unlabeled corpus"
   ]
  },
  {
   "cell_type": "code",
   "execution_count": 57,
   "id": "7fac22eb",
   "metadata": {},
   "outputs": [
    {
     "data": {
      "image/png": "[encoded data removed]",
      "text/plain": [
       "<Figure size 432x288 with 1 Axes>"
      ]
     },
     "metadata": {
      "needs_background": "light"
     },
     "output_type": "display_data"
    }
   ],
   "source": [
    "doc_lengths = [len(d['plainText']) for d in unlabeled_data]\n",
    "plt.hist(doc_lengths, bins=50)\n",
    "plt.show()"
   ]
  },
  {
   "cell_type": "markdown",
   "id": "a7dad38f",
   "metadata": {},
   "source": [
    "Histogram for the number of sentences across all unlabeled decisions"
   ]
  },
  {
   "cell_type": "code",
   "execution_count": 62,
   "id": "9b42533c",
   "metadata": {},
   "outputs": [
    {
     "data": {
      "image/png": "[encoded data removed]",
      "text/plain": [
       "<Figure size 432x288 with 1 Axes>"
      ]
     },
     "metadata": {
      "needs_background": "light"
     },
     "output_type": "display_data"
    }
   ],
   "source": [
    "num_sents_unlabeled = [len([a for a in sents_of_unlabeled if a['document'] == doc_name.strip('.txt')])\n",
    "                       for doc_name in unlabeled_doc_names]\n",
    "plt.hist(num_sents_unlabeled, bins=50)\n",
    "plt.show()"
   ]
  },
  {
   "cell_type": "markdown",
   "id": "5dc87da5",
   "metadata": {},
   "source": [
    "### Step 3.2 (sentence-wise preprocessing): \n",
    "Write a tokenizer function that splits a sentence into tokens and applies basic preprocessing to reduce uninformative noise.\n",
    "\n",
    "At the very least, it should do the following:\n",
    "+ treat punctuation consistently\n",
    "+ simplify numbers\n",
    "+ lowercase everything\n",
    "+ optionally deal with other anomalies you encounter\n"
   ]
  },
  {
   "cell_type": "code",
   "execution_count": 198,
   "id": "68b13565",
   "metadata": {},
   "outputs": [],
   "source": [
    "standard_segmenter = spacy.load(\"en_core_web_sm\")\n",
    "standard_segmenter.disable_pipes('parser')\n",
    "\n",
    "standard_segmenter.tokenizer.add_special_case('Vet.App.', [{ORTH: 'Vet.App.'}])\n",
    "standard_segmenter.tokenizer.add_special_case('Vet. App.', [{ORTH: 'Vet. App.'}])\n",
    "standard_segmenter.tokenizer.add_special_case('Fed. Cir.', [{ORTH: 'Fed. Cir.'}])\n",
    "standard_segmenter.tokenizer.add_special_case('Fed.Cir.', [{ORTH: 'Fed.Cir.'}])\n",
    "standard_segmenter.tokenizer.add_special_case(\"service'-\", [{ORTH: \"service\"}, {ORTH: \"'\"}, {ORTH: \"-\"}])\n",
    "standard_segmenter.tokenizer.add_special_case(\"service'-the\", [{ORTH: \"service\"}, {ORTH: \"'\"}, {ORTH: \"-\"}, {ORTH: \"the\"}])\n",
    "standard_segmenter.tokenizer.add_special_case(\"service'--the\", [{ORTH: \"service\"}, {ORTH: \"'\"}, {ORTH: \"--\"}, {ORTH: \"the\"}])\n",
    "standard_segmenter.tokenizer.add_special_case('service\"-', [{ORTH: 'service'}, {ORTH: '\"'}, {ORTH: '-'}])\n",
    "standard_segmenter.tokenizer.add_special_case('service\"-the', [{ORTH: 'service'}, {ORTH: '\"'}, {ORTH: '-'}, {ORTH: 'the'}])\n",
    "standard_segmenter.tokenizer.add_special_case('service\"--the', [{ORTH: 'service'}, {ORTH: '\"'}, {ORTH: '--'}, {ORTH: 'the'}])\n",
    "\n",
    "# Modify tokenizer infix patterns to not seperate on '-'\n",
    "infixes = (\n",
    "    LIST_ELLIPSES\n",
    "    + LIST_ICONS\n",
    "    + [\n",
    "        r\"(?<=[0-9])[+\\-\\*^](?=[0-9-])\",\n",
    "        r\"(?<=[{al}{q}])\\.(?=[{au}{q}])\".format(\n",
    "            al=ALPHA_LOWER, au=ALPHA_UPPER, q=CONCAT_QUOTES\n",
    "        ),\n",
    "        r\"(?<=[{a}]),(?=[{a}])\".format(a=ALPHA),\n",
    "        r\"(?<=[{a}])(?:{h})(?=[{a}])\".format(a=ALPHA, h=HYPHENS),\n",
    "        r\"(?<=[{a}0-9])[:<>=/](?=[{a}])\".format(a=ALPHA),\n",
    "    ]\n",
    ")\n",
    "\n",
    "infix_re = compile_infix_regex(infixes)\n",
    "standard_segmenter.tokenizer.infix_finditer = infix_re.finditer"
   ]
  },
  {
   "cell_type": "code",
   "execution_count": 38,
   "id": "beff77fe",
   "metadata": {},
   "outputs": [
    {
     "data": {
      "text/plain": [
       "[('tok2vec', <spacy.pipeline.tok2vec.Tok2Vec at 0x7f83f1e067c0>),\n",
       " ('tagger', <spacy.pipeline.tagger.Tagger at 0x7f840ba584a0>),\n",
       " ('attribute_ruler',\n",
       "  <spacy.pipeline.attributeruler.AttributeRuler at 0x7f83f1e31680>),\n",
       " ('lemmatizer',\n",
       "  <spacy.lang.en.lemmatizer.EnglishLemmatizer at 0x7f83f120fc80>),\n",
       " ('ner', <spacy.pipeline.ner.EntityRecognizer at 0x7f83f12fb880>)]"
      ]
     },
     "execution_count": 38,
     "metadata": {},
     "output_type": "execute_result"
    }
   ],
   "source": [
    "standard_segmenter.pipeline"
   ]
  },
  {
   "cell_type": "markdown",
   "id": "570d0d61",
   "metadata": {},
   "source": [
    "Tokenization by multiprocessing"
   ]
  },
  {
   "cell_type": "code",
   "execution_count": 41,
   "id": "missing-village",
   "metadata": {},
   "outputs": [],
   "source": [
    "def spacy_tokenize_multi(sents):\n",
    "    docs = list(standard_segmenter.pipe(sents, n_process=4))\n",
    "    tokens_spacy = []\n",
    "    for i in range(len(docs)):\n",
    "        clean_tokens = []\n",
    "        for t in docs[i]:\n",
    "            #remove punctuation\n",
    "            if t.pos_ == 'PUNCT':\n",
    "                pass\n",
    "            #remove space, i.e., \\r', '\\t', '\\n'\n",
    "            elif t.pos_ == 'SPACE':\n",
    "                pass\n",
    "            elif t.pos_ == 'SYM':\n",
    "                pass\n",
    "            #elif t.text == '�':\n",
    "                #pass\n",
    "            #'three'-NUM5\n",
    "            elif t.pos_ == 'NUM' and t.is_digit == True:\n",
    "                clean_tokens.append(f'<NUM{len(t)}>')\n",
    "            else:\n",
    "                clean_tokens.append(t.lemma_.lower())\n",
    "        tokens_spacy.append(clean_tokens)\n",
    "    return tokens_spacy\n",
    "\n",
    "def spans_add_spacy_tokens_multi(spans):\n",
    "    sents = [s['txt'] for s in spans]\n",
    "    tokens_spacy = spacy_tokenize_multi(sents)\n",
    "    for i in range(len(spans)):\n",
    "        spans[i]['tokens_spacy'] = tokens_spacy[i]"
   ]
  },
  {
   "cell_type": "markdown",
   "id": "3e5d2239",
   "metadata": {},
   "source": [
    "Tokenization by a single process"
   ]
  },
  {
   "cell_type": "code",
   "execution_count": 42,
   "id": "e871e6db",
   "metadata": {},
   "outputs": [],
   "source": [
    "def spacy_tokenize(txt):\n",
    "    doc = standard_segmenter(txt)\n",
    "    tokens = list(doc)\n",
    "    clean_tokens = []\n",
    "    for t in tokens:\n",
    "        #remove punctuation\n",
    "        if t.pos_ == 'PUNCT':\n",
    "            pass\n",
    "        #remove space, i.e., \\r', '\\t', '\\n'\n",
    "        elif t.pos_ == 'SPACE':\n",
    "            pass\n",
    "        #'three'-NUM5\n",
    "        elif t.pos_ == 'NUM' and t.is_digit == True:\n",
    "            clean_tokens.append(f'<NUM{len(t)}>')\n",
    "        else:\n",
    "            clean_tokens.append(t.lemma_.lower())\n",
    "    return clean_tokens\n",
    "\n",
    "def spans_add_spacy_tokens(spans):\n",
    "    for s in spans:\n",
    "        s['tokens_spacy'] = spacy_tokenize(s['txt'])"
   ]
  },
  {
   "cell_type": "code",
   "execution_count": 43,
   "id": "3e5ee737",
   "metadata": {},
   "outputs": [],
   "source": [
    "spans_add_spacy_tokens_multi(train_spans)\n",
    "spans_add_spacy_tokens_multi(val_spans)\n",
    "spans_add_spacy_tokens_multi(test_spans)"
   ]
  },
  {
   "cell_type": "code",
   "execution_count": 130,
   "id": "2f5b6bf0",
   "metadata": {},
   "outputs": [
    {
     "data": {
      "text/plain": [
       "{'txt': 'Citation Nr: 0634451\\t\\r\\nDecision Date: 11/07/06    Archive Date: 11/16/06\\r\\n\\r\\nDOCKET NO.  03-11 289\\t)\\tDATE\\r\\n\\t)\\r\\n\\t)',\n",
       " 'document': '60b60661f8611168dd279c99',\n",
       " 'type': 'CaseHeader',\n",
       " 'start': 0,\n",
       " 'start_normalized': 0.0,\n",
       " 'end': 112,\n",
       " 'tokens_spacy': ['citation',\n",
       "  'nr',\n",
       "  '<NUM7>',\n",
       "  'decision',\n",
       "  'date',\n",
       "  '11/07/06',\n",
       "  'archive',\n",
       "  'date',\n",
       "  '11/16/06',\n",
       "  'docket',\n",
       "  'no',\n",
       "  '<NUM2>',\n",
       "  '<NUM2>',\n",
       "  '<NUM3>',\n",
       "  'date']}"
      ]
     },
     "execution_count": 130,
     "metadata": {},
     "output_type": "execute_result"
    }
   ],
   "source": [
    "train_spans[0]"
   ]
  },
  {
   "cell_type": "code",
   "execution_count": 112,
   "id": "9acb9ece",
   "metadata": {},
   "outputs": [
    {
     "data": {
      "text/plain": [
       "{'txt': 'On VA examination in January 2001, the Veteran reported an injury \\r\\nto his left shoulder while practicing rappelling. ',\n",
       " 'document': '60b606ccf8611168dd279ce8',\n",
       " 'type': 'Evidence',\n",
       " 'start': 12212,\n",
       " 'start_normalized': 0.5863542516925145,\n",
       " 'end': 12330,\n",
       " 'tokens_spacy': ['on',\n",
       "  'va',\n",
       "  'examination',\n",
       "  'in',\n",
       "  'january',\n",
       "  '<NUM4>',\n",
       "  'the',\n",
       "  'veteran',\n",
       "  'report',\n",
       "  'an',\n",
       "  'injury',\n",
       "  'to',\n",
       "  'his',\n",
       "  'left',\n",
       "  'shoulder',\n",
       "  'while',\n",
       "  'practice',\n",
       "  'rappelling']}"
      ]
     },
     "execution_count": 112,
     "metadata": {},
     "output_type": "execute_result"
    }
   ],
   "source": [
    "random.choice(train_spans)"
   ]
  },
  {
   "cell_type": "markdown",
   "id": "156bac4a",
   "metadata": {},
   "source": [
    "### Step 3.3 (Tokenize unlabeled data): \n",
    "Use your tokenizer to process all sentences in the segmented, unlabeled data. Produce a histogram of number of tokens in each sentence for the unlabeled data and include it in the report. Then assemble a single file, each line of which consists of a sentence's tokens, separated by a single whitespace.The sentences in the file should be in random order. In producing the file, you can discard sentences below a minimum length (e.g. 5 tokens)."
   ]
  },
  {
   "cell_type": "code",
   "execution_count": 132,
   "id": "ae2cf377",
   "metadata": {},
   "outputs": [],
   "source": [
    "sents_of_unlabeled = json.load(open('./data/sentences_of_unlabeled_data.json'))"
   ]
  },
  {
   "cell_type": "code",
   "execution_count": 134,
   "id": "2ca19dc7",
   "metadata": {},
   "outputs": [
    {
     "data": {
      "text/plain": [
       "2786737"
      ]
     },
     "execution_count": 134,
     "metadata": {},
     "output_type": "execute_result"
    }
   ],
   "source": [
    "len(sents_of_unlabeled)"
   ]
  },
  {
   "cell_type": "markdown",
   "id": "5ff2408a",
   "metadata": {},
   "source": [
    "Use the multiprocessing tokenizer to process all sentences in the segmented, unlabeled data"
   ]
  },
  {
   "cell_type": "code",
   "execution_count": 135,
   "id": "65770a9d",
   "metadata": {},
   "outputs": [],
   "source": [
    "spans_add_spacy_tokens_multi(sents_of_unlabeled)"
   ]
  },
  {
   "cell_type": "code",
   "execution_count": 56,
   "id": "846448db",
   "metadata": {},
   "outputs": [
    {
     "data": {
      "text/plain": [
       "{'document': '1601494',\n",
       " 'txt': 'In the December 2013 Memorandum Decision, the Court vacated the portion of the October 2012 Board opinion denying service connection for a cervical spine disability and remanded the matter to the Board for action consistent with the Memorandum Decision.',\n",
       " 'start': 2422,\n",
       " 'end': 2675,\n",
       " 'tokens_spacy': ['in',\n",
       "  'the',\n",
       "  'december',\n",
       "  '<NUM4>',\n",
       "  'memorandum',\n",
       "  'decision',\n",
       "  'the',\n",
       "  'court',\n",
       "  'vacate',\n",
       "  'the',\n",
       "  'portion',\n",
       "  'of',\n",
       "  'the',\n",
       "  'october',\n",
       "  '<NUM4>',\n",
       "  'board',\n",
       "  'opinion',\n",
       "  'deny',\n",
       "  'service',\n",
       "  'connection',\n",
       "  'for',\n",
       "  'a',\n",
       "  'cervical',\n",
       "  'spine',\n",
       "  'disability',\n",
       "  'and',\n",
       "  'remand',\n",
       "  'the',\n",
       "  'matter',\n",
       "  'to',\n",
       "  'the',\n",
       "  'board',\n",
       "  'for',\n",
       "  'action',\n",
       "  'consistent',\n",
       "  'with',\n",
       "  'the',\n",
       "  'memorandum',\n",
       "  'decision']}"
      ]
     },
     "execution_count": 56,
     "metadata": {},
     "output_type": "execute_result"
    }
   ],
   "source": [
    "random.choice(sents_of_unlabeled)"
   ]
  },
  {
   "cell_type": "markdown",
   "id": "05a9cc3f",
   "metadata": {},
   "source": [
    "Histogram of number of tokens in each sentence for the unlabeled data"
   ]
  },
  {
   "cell_type": "code",
   "execution_count": 57,
   "id": "b1d4989f",
   "metadata": {},
   "outputs": [
    {
     "data": {
      "image/png": "[encoded data removed]",
      "text/plain": [
       "<Figure size 432x288 with 1 Axes>"
      ]
     },
     "metadata": {
      "needs_background": "light"
     },
     "output_type": "display_data"
    }
   ],
   "source": [
    "num_tokens = [len(s['tokens_spacy']) for s in sents_of_unlabeled]\n",
    "plt.hist(num_tokens, bins=100)\n",
    "plt.show()"
   ]
  },
  {
   "cell_type": "code",
   "execution_count": 51,
   "id": "381ea77e",
   "metadata": {},
   "outputs": [
    {
     "data": {
      "text/plain": [
       "{'document': '0617618',\n",
       " 'txt': 'Citation Nr: 0617618',\n",
       " 'start': 0,\n",
       " 'end': 20,\n",
       " 'tokens_spacy': ['citation', 'nr', '<NUM7>']}"
      ]
     },
     "execution_count": 51,
     "metadata": {},
     "output_type": "execute_result"
    }
   ],
   "source": [
    "sents_of_unlabeled[0]"
   ]
  },
  {
   "cell_type": "code",
   "execution_count": 52,
   "id": "64155585",
   "metadata": {},
   "outputs": [
    {
     "data": {
      "text/plain": [
       "{'document': '1308097',\n",
       " 'txt': 'Unlike the claim for allergic rhinitis and sinusitis, the claim for sleep apnea has not been certified to the Board as on appeal nor has it otherwise been developed for appellate review.',\n",
       " 'start': 4187,\n",
       " 'end': 4373,\n",
       " 'tokens_spacy': ['unlike',\n",
       "  'claim',\n",
       "  'allergic',\n",
       "  'rhinitis',\n",
       "  'sinusitis',\n",
       "  'claim',\n",
       "  'sleep',\n",
       "  'apnea',\n",
       "  'certify',\n",
       "  'board',\n",
       "  'appeal',\n",
       "  'develop',\n",
       "  'appellate',\n",
       "  'review']}"
      ]
     },
     "execution_count": 52,
     "metadata": {},
     "output_type": "execute_result"
    }
   ],
   "source": [
    "random.shuffle(sents_of_unlabeled)\n",
    "sents_of_unlabeled[0]"
   ]
  },
  {
   "cell_type": "markdown",
   "id": "f674b1a0",
   "metadata": {},
   "source": [
    "Assemble a single file, each line of which consists of a sentence's tokens, separated by a single whitespace."
   ]
  },
  {
   "cell_type": "code",
   "execution_count": 137,
   "id": "b56c26c4",
   "metadata": {},
   "outputs": [
    {
     "name": "stdout",
     "output_type": "stream",
     "text": [
      "62632749\n"
     ]
    }
   ],
   "source": [
    "count = 0\n",
    "with open('./data/tokens_of_unlabeled.txt','w+') as file:\n",
    "    for sent in sents_of_unlabeled:\n",
    "        tokens = sent['tokens_spacy']\n",
    "        if len(tokens) >= 5:\n",
    "            count = count + len(tokens)\n",
    "            for i in range(len(tokens)):\n",
    "                file.write(tokens[i]+' ')\n",
    "            file.write('\\n')\n",
    "print(count)"
   ]
  },
  {
   "cell_type": "markdown",
   "id": "ce711172",
   "metadata": {},
   "source": [
    "## Phase 4: Developing Word Embeddings"
   ]
  },
  {
   "cell_type": "markdown",
   "id": "79d29c11",
   "metadata": {},
   "source": [
    "### Step 4.1 (Custom FastText embeddings): \n",
    "Train a word embedding model on the compiled, tokenized, unannotated data to obtain a qualified word vector representation. I use FastText for this. \n",
    "\n",
    "The goal is to produce a 100-dimensional vector model with standard character n-gram parameters and a reasonable minimum word occurrence count (e.g., n >= 20)."
   ]
  },
  {
   "cell_type": "code",
   "execution_count": 148,
   "id": "b5b855d6",
   "metadata": {},
   "outputs": [],
   "source": [
    "model_skipgram = fasttext.train_unsupervised('./data/tokens_of_unlabeled.txt', \"skipgram\", #\"cbow\", \"skipgram\"\n",
    "                                    minCount=20, wordNgrams=4, epoch=30, dim=100, thread=4)"
   ]
  },
  {
   "cell_type": "code",
   "execution_count": 149,
   "id": "59c7e5d9",
   "metadata": {},
   "outputs": [],
   "source": [
    "model_skipgram.save_model(\"./model/fasttext_skipgram.bin\")"
   ]
  },
  {
   "cell_type": "code",
   "execution_count": 150,
   "id": "0958058e",
   "metadata": {},
   "outputs": [
    {
     "data": {
      "text/plain": [
       "14245"
      ]
     },
     "execution_count": 150,
     "metadata": {},
     "output_type": "execute_result"
    }
   ],
   "source": [
    "len(model_skipgram.words)"
   ]
  },
  {
   "cell_type": "markdown",
   "id": "7f6ad2cc",
   "metadata": {},
   "source": [
    "### Step 4.2 (Evaluating Custom Embeddings Manually): \n",
    "Load the embeddings via Python, determine the vocabulary size and include it in the report. To convince yourself that the embeddings capture the token distribution in the corpus, you should explore nearest neighbors for at least the following strings:\n",
    "\n",
    "+ \"veteran\"\n",
    "+ \"vet\"\n",
    "+ \"service\"\n",
    "+ \"cause\"\n",
    "+ \"caused\"\n",
    "+ \"remanded\"\n",
    "+ \"vietnam\"\n",
    "+ \"see\"\n",
    "... \n",
    "\n",
    "as well as three more strings of your choice after trying several of them. It is recommended to open a BVA decision and pick terms that appear interesting"
   ]
  },
  {
   "cell_type": "markdown",
   "id": "8e4b2df5",
   "metadata": {},
   "source": [
    "Load the embeddings"
   ]
  },
  {
   "cell_type": "code",
   "execution_count": 44,
   "id": "95e5da69",
   "metadata": {},
   "outputs": [],
   "source": [
    "fasttext.FastText.eprint = lambda x: None\n",
    "model_cbow = fasttext.load_model(\"/Users/xiuxiu/Desktop/LDSI/Project/code/model/fasttext_cbow.bin\")\n",
    "model_skipgram = fasttext.load_model(\"/Users/xiuxiu/Desktop/LDSI/Project/code/model/fasttext_unlabeled.bin\")"
   ]
  },
  {
   "cell_type": "markdown",
   "id": "c5133bf5",
   "metadata": {},
   "source": [
    "Determine the vocabulary size"
   ]
  },
  {
   "cell_type": "code",
   "execution_count": 163,
   "id": "74943130",
   "metadata": {},
   "outputs": [
    {
     "data": {
      "text/plain": [
       "14216"
      ]
     },
     "execution_count": 163,
     "metadata": {},
     "output_type": "execute_result"
    }
   ],
   "source": [
    "len(model_cbow.words)"
   ]
  },
  {
   "cell_type": "code",
   "execution_count": 165,
   "id": "d90dcbd2",
   "metadata": {},
   "outputs": [
    {
     "data": {
      "text/plain": [
       "14216"
      ]
     },
     "execution_count": 165,
     "metadata": {},
     "output_type": "execute_result"
    }
   ],
   "source": [
    "len(model_skipgram.words)"
   ]
  },
  {
   "cell_type": "markdown",
   "id": "4f2f1957",
   "metadata": {},
   "source": [
    "Explore nearest neighbors"
   ]
  },
  {
   "cell_type": "code",
   "execution_count": 45,
   "id": "89821e45",
   "metadata": {},
   "outputs": [],
   "source": [
    "word_list = ['veteran', 'vet', 'service', 'cause', 'caused', 'remanded', 'vietnam', 'see',\n",
    "             'ptsd', 'grant', 'deny']\n",
    "def find_nearest_neighbors(model, word_list):\n",
    "    df = pd.DataFrame(columns=word_list)\n",
    "    #df.columns = word_list\n",
    "    for word in word_list:\n",
    "        nns = model.get_nearest_neighbors(word)\n",
    "        p, t = [],[]\n",
    "        for i in range(len(nns)):\n",
    "            p.append(nns[i][0])\n",
    "            t.append(nns[i][1])\n",
    "        df[word] = t\n",
    "    return df"
   ]
  },
  {
   "cell_type": "code",
   "execution_count": 46,
   "id": "caefbda1",
   "metadata": {},
   "outputs": [
    {
     "data": {
      "text/html": [
       "<div>\n",
       "<style scoped>\n",
       "    .dataframe tbody tr th:only-of-type {\n",
       "        vertical-align: middle;\n",
       "    }\n",
       "\n",
       "    .dataframe tbody tr th {\n",
       "        vertical-align: top;\n",
       "    }\n",
       "\n",
       "    .dataframe thead th {\n",
       "        text-align: right;\n",
       "    }\n",
       "</style>\n",
       "<table border=\"1\" class=\"dataframe\">\n",
       "  <thead>\n",
       "    <tr style=\"text-align: right;\">\n",
       "      <th></th>\n",
       "      <th>veteran</th>\n",
       "      <th>vet</th>\n",
       "      <th>service</th>\n",
       "      <th>cause</th>\n",
       "      <th>caused</th>\n",
       "      <th>remanded</th>\n",
       "      <th>vietnam</th>\n",
       "      <th>see</th>\n",
       "      <th>ptsd</th>\n",
       "      <th>grant</th>\n",
       "      <th>deny</th>\n",
       "    </tr>\n",
       "  </thead>\n",
       "  <tbody>\n",
       "    <tr>\n",
       "      <th>0</th>\n",
       "      <td>the</td>\n",
       "      <td>rivet</td>\n",
       "      <td>inservice</td>\n",
       "      <td>cause(s</td>\n",
       "      <td>cause</td>\n",
       "      <td>handed</td>\n",
       "      <td>korea</td>\n",
       "      <td>&lt;NUM3&gt;</td>\n",
       "      <td>mdd</td>\n",
       "      <td>granting</td>\n",
       "      <td>unappealed</td>\n",
       "    </tr>\n",
       "    <tr>\n",
       "      <th>1</th>\n",
       "      <td>additionally</td>\n",
       "      <td>vet.</td>\n",
       "      <td>disability</td>\n",
       "      <td>contribute</td>\n",
       "      <td>cause(s</td>\n",
       "      <td>remands</td>\n",
       "      <td>republic</td>\n",
       "      <td>v.</td>\n",
       "      <td>stressor</td>\n",
       "      <td>connection</td>\n",
       "      <td>reopen</td>\n",
       "    </tr>\n",
       "    <tr>\n",
       "      <th>2</th>\n",
       "      <td>furthermore</td>\n",
       "      <td>mc</td>\n",
       "      <td>postservice</td>\n",
       "      <td>exacerbate</td>\n",
       "      <td>contribute</td>\n",
       "      <td>remandable</td>\n",
       "      <td>rvn</td>\n",
       "      <td>&lt;NUM1&gt;</td>\n",
       "      <td>stressors</td>\n",
       "      <td>connection-</td>\n",
       "      <td>entitlement</td>\n",
       "    </tr>\n",
       "    <tr>\n",
       "      <th>3</th>\n",
       "      <td>his</td>\n",
       "      <td>vet.app.</td>\n",
       "      <td>military</td>\n",
       "      <td>contributor</td>\n",
       "      <td>contributor</td>\n",
       "      <td>remand</td>\n",
       "      <td>korean</td>\n",
       "      <td>&lt;NUM2&gt;</td>\n",
       "      <td>psychiatric</td>\n",
       "      <td>award</td>\n",
       "      <td>denial</td>\n",
       "    </tr>\n",
       "    <tr>\n",
       "      <th>4</th>\n",
       "      <td>veterans</td>\n",
       "      <td>app.</td>\n",
       "      <td>nonmilitary</td>\n",
       "      <td>attributable</td>\n",
       "      <td>exacerbate</td>\n",
       "      <td>management</td>\n",
       "      <td>country</td>\n",
       "      <td>quote</td>\n",
       "      <td>stressor(s</td>\n",
       "      <td>warrant</td>\n",
       "      <td>reopening</td>\n",
       "    </tr>\n",
       "    <tr>\n",
       "      <th>5</th>\n",
       "      <td>'s</td>\n",
       "      <td>&lt;NUM3&gt;</td>\n",
       "      <td>connection</td>\n",
       "      <td>contributing</td>\n",
       "      <td>attributable</td>\n",
       "      <td>amc</td>\n",
       "      <td>thailand</td>\n",
       "      <td>id.</td>\n",
       "      <td>pstd</td>\n",
       "      <td>connective</td>\n",
       "      <td>grant</td>\n",
       "    </tr>\n",
       "    <tr>\n",
       "      <th>6</th>\n",
       "      <td>moreover</td>\n",
       "      <td>9h</td>\n",
       "      <td>current</td>\n",
       "      <td>relate</td>\n",
       "      <td>related</td>\n",
       "      <td>advance</td>\n",
       "      <td>vietnamese</td>\n",
       "      <td>robinette</td>\n",
       "      <td>dysthymic</td>\n",
       "      <td>deny</td>\n",
       "      <td>petition</td>\n",
       "    </tr>\n",
       "    <tr>\n",
       "      <th>7</th>\n",
       "      <td>that</td>\n",
       "      <td>brooke</td>\n",
       "      <td>active</td>\n",
       "      <td>contributory</td>\n",
       "      <td>interrelate</td>\n",
       "      <td>return</td>\n",
       "      <td>guam</td>\n",
       "      <td>&lt;NUM4&gt;</td>\n",
       "      <td>depression</td>\n",
       "      <td>entitlement</td>\n",
       "      <td>readjudicate</td>\n",
       "    </tr>\n",
       "    <tr>\n",
       "      <th>8</th>\n",
       "      <td>addition</td>\n",
       "      <td>52,744</td>\n",
       "      <td>condition</td>\n",
       "      <td>contribution</td>\n",
       "      <td>contributing</td>\n",
       "      <td>via</td>\n",
       "      <td>panama</td>\n",
       "      <td>vet.</td>\n",
       "      <td>schizoaffective</td>\n",
       "      <td>establish</td>\n",
       "      <td>den</td>\n",
       "    </tr>\n",
       "    <tr>\n",
       "      <th>9</th>\n",
       "      <td>appellant</td>\n",
       "      <td>v.</td>\n",
       "      <td>disability-</td>\n",
       "      <td>interrelate</td>\n",
       "      <td>causative</td>\n",
       "      <td>rounded</td>\n",
       "      <td>overseas</td>\n",
       "      <td>app.</td>\n",
       "      <td>dysthymia</td>\n",
       "      <td>establishment</td>\n",
       "      <td>decision</td>\n",
       "    </tr>\n",
       "  </tbody>\n",
       "</table>\n",
       "</div>"
      ],
      "text/plain": [
       "        veteran       vet      service         cause        caused  \\\n",
       "0           the     rivet    inservice       cause(s         cause   \n",
       "1  additionally      vet.   disability    contribute       cause(s   \n",
       "2   furthermore        mc  postservice    exacerbate    contribute   \n",
       "3           his  vet.app.     military   contributor   contributor   \n",
       "4     veterans      app.  nonmilitary  attributable    exacerbate   \n",
       "5            's    <NUM3>   connection  contributing  attributable   \n",
       "6      moreover        9h      current        relate       related   \n",
       "7          that    brooke       active  contributory   interrelate   \n",
       "8      addition    52,744    condition  contribution  contributing   \n",
       "9     appellant        v.  disability-   interrelate     causative   \n",
       "\n",
       "     remanded     vietnam        see             ptsd          grant  \\\n",
       "0      handed       korea     <NUM3>              mdd       granting   \n",
       "1     remands    republic         v.         stressor     connection   \n",
       "2  remandable         rvn     <NUM1>        stressors    connection-   \n",
       "3      remand      korean     <NUM2>      psychiatric          award   \n",
       "4  management     country      quote       stressor(s        warrant   \n",
       "5         amc    thailand        id.             pstd     connective   \n",
       "6     advance  vietnamese  robinette        dysthymic           deny   \n",
       "7      return        guam     <NUM4>       depression    entitlement   \n",
       "8         via      panama       vet.  schizoaffective      establish   \n",
       "9     rounded    overseas       app.        dysthymia  establishment   \n",
       "\n",
       "           deny  \n",
       "0    unappealed  \n",
       "1        reopen  \n",
       "2   entitlement  \n",
       "3        denial  \n",
       "4     reopening  \n",
       "5         grant  \n",
       "6      petition  \n",
       "7  readjudicate  \n",
       "8           den  \n",
       "9      decision  "
      ]
     },
     "execution_count": 46,
     "metadata": {},
     "output_type": "execute_result"
    }
   ],
   "source": [
    "nearest_neighbors = find_nearest_neighbors(model_cbow, word_list)\n",
    "nearest_neighbors"
   ]
  },
  {
   "cell_type": "code",
   "execution_count": 47,
   "id": "8c8ef668",
   "metadata": {},
   "outputs": [
    {
     "data": {
      "text/html": [
       "<div>\n",
       "<style scoped>\n",
       "    .dataframe tbody tr th:only-of-type {\n",
       "        vertical-align: middle;\n",
       "    }\n",
       "\n",
       "    .dataframe tbody tr th {\n",
       "        vertical-align: top;\n",
       "    }\n",
       "\n",
       "    .dataframe thead th {\n",
       "        text-align: right;\n",
       "    }\n",
       "</style>\n",
       "<table border=\"1\" class=\"dataframe\">\n",
       "  <thead>\n",
       "    <tr style=\"text-align: right;\">\n",
       "      <th></th>\n",
       "      <th>veteran</th>\n",
       "      <th>vet</th>\n",
       "      <th>service</th>\n",
       "      <th>cause</th>\n",
       "      <th>caused</th>\n",
       "      <th>remanded</th>\n",
       "      <th>vietnam</th>\n",
       "      <th>see</th>\n",
       "      <th>ptsd</th>\n",
       "      <th>grant</th>\n",
       "      <th>deny</th>\n",
       "    </tr>\n",
       "  </thead>\n",
       "  <tbody>\n",
       "    <tr>\n",
       "      <th>0</th>\n",
       "      <td>the</td>\n",
       "      <td>app</td>\n",
       "      <td>connection</td>\n",
       "      <td>exacerbate</td>\n",
       "      <td>cause</td>\n",
       "      <td>management</td>\n",
       "      <td>republic</td>\n",
       "      <td>v.</td>\n",
       "      <td>depressive</td>\n",
       "      <td>connection</td>\n",
       "      <td>petition</td>\n",
       "    </tr>\n",
       "    <tr>\n",
       "      <th>1</th>\n",
       "      <td>'s</td>\n",
       "      <td>v.</td>\n",
       "      <td>active</td>\n",
       "      <td>contributor</td>\n",
       "      <td>contributor</td>\n",
       "      <td>accordingly</td>\n",
       "      <td>rvn</td>\n",
       "      <td>vet</td>\n",
       "      <td>pstd</td>\n",
       "      <td>entitlement</td>\n",
       "      <td>unappealed</td>\n",
       "    </tr>\n",
       "    <tr>\n",
       "      <th>2</th>\n",
       "      <td>his</td>\n",
       "      <td>vet.</td>\n",
       "      <td>disease</td>\n",
       "      <td>attributable</td>\n",
       "      <td>confused</td>\n",
       "      <td>via</td>\n",
       "      <td>era</td>\n",
       "      <td>id.</td>\n",
       "      <td>mdd</td>\n",
       "      <td>incur</td>\n",
       "      <td>entitlement</td>\n",
       "    </tr>\n",
       "    <tr>\n",
       "      <th>3</th>\n",
       "      <td>appellant</td>\n",
       "      <td>app.</td>\n",
       "      <td>disability</td>\n",
       "      <td>contribute</td>\n",
       "      <td>exacerbate</td>\n",
       "      <td>handed</td>\n",
       "      <td>country</td>\n",
       "      <td>&lt;NUM4&gt;</td>\n",
       "      <td>bipolar</td>\n",
       "      <td>connection-</td>\n",
       "      <td>reopen</td>\n",
       "    </tr>\n",
       "    <tr>\n",
       "      <th>4</th>\n",
       "      <td>he</td>\n",
       "      <td>see</td>\n",
       "      <td>military</td>\n",
       "      <td>permanently</td>\n",
       "      <td>probably</td>\n",
       "      <td>hereby</td>\n",
       "      <td>korea</td>\n",
       "      <td>cf</td>\n",
       "      <td>anxiety</td>\n",
       "      <td>laws</td>\n",
       "      <td>reopening</td>\n",
       "    </tr>\n",
       "    <tr>\n",
       "      <th>5</th>\n",
       "      <td>additionally</td>\n",
       "      <td>.app</td>\n",
       "      <td>incur</td>\n",
       "      <td>precipitate</td>\n",
       "      <td>definitely</td>\n",
       "      <td>amc</td>\n",
       "      <td>nam</td>\n",
       "      <td>vet.</td>\n",
       "      <td>dysthymic</td>\n",
       "      <td>warrant</td>\n",
       "      <td>alia</td>\n",
       "    </tr>\n",
       "    <tr>\n",
       "      <th>6</th>\n",
       "      <td>have</td>\n",
       "      <td>.</td>\n",
       "      <td>injury</td>\n",
       "      <td>accelerate</td>\n",
       "      <td>multifactorial</td>\n",
       "      <td>action</td>\n",
       "      <td>korean</td>\n",
       "      <td>also</td>\n",
       "      <td>psychiatric</td>\n",
       "      <td>establishment</td>\n",
       "      <td>disallowed</td>\n",
       "    </tr>\n",
       "    <tr>\n",
       "      <th>7</th>\n",
       "      <td>sopko</td>\n",
       "      <td>supra</td>\n",
       "      <td>connect</td>\n",
       "      <td>due</td>\n",
       "      <td>seem</td>\n",
       "      <td>please</td>\n",
       "      <td>thailand</td>\n",
       "      <td>app.</td>\n",
       "      <td>depression</td>\n",
       "      <td>deny</td>\n",
       "      <td>connection</td>\n",
       "    </tr>\n",
       "    <tr>\n",
       "      <th>8</th>\n",
       "      <td>sauter</td>\n",
       "      <td>app.112</td>\n",
       "      <td>aggravate</td>\n",
       "      <td>contributory</td>\n",
       "      <td>think</td>\n",
       "      <td>advance</td>\n",
       "      <td>danang</td>\n",
       "      <td>app</td>\n",
       "      <td>dysthymia</td>\n",
       "      <td>proximately</td>\n",
       "      <td>decline</td>\n",
       "    </tr>\n",
       "    <tr>\n",
       "      <th>9</th>\n",
       "      <td>that</td>\n",
       "      <td>brown</td>\n",
       "      <td>during</td>\n",
       "      <td>causative</td>\n",
       "      <td>somehow</td>\n",
       "      <td>center</td>\n",
       "      <td>inland</td>\n",
       "      <td>&lt;NUM3&gt;</td>\n",
       "      <td>mst</td>\n",
       "      <td>granting</td>\n",
       "      <td>inter</td>\n",
       "    </tr>\n",
       "  </tbody>\n",
       "</table>\n",
       "</div>"
      ],
      "text/plain": [
       "        veteran      vet     service         cause          caused  \\\n",
       "0           the      app  connection    exacerbate           cause   \n",
       "1            's       v.      active   contributor     contributor   \n",
       "2           his     vet.     disease  attributable        confused   \n",
       "3     appellant     app.  disability    contribute      exacerbate   \n",
       "4            he      see    military   permanently        probably   \n",
       "5  additionally     .app       incur   precipitate      definitely   \n",
       "6          have        .      injury    accelerate  multifactorial   \n",
       "7         sopko    supra     connect           due            seem   \n",
       "8        sauter  app.112   aggravate  contributory           think   \n",
       "9          that    brown      during     causative         somehow   \n",
       "\n",
       "      remanded   vietnam     see         ptsd          grant         deny  \n",
       "0   management  republic      v.   depressive     connection     petition  \n",
       "1  accordingly       rvn     vet         pstd    entitlement   unappealed  \n",
       "2          via       era     id.          mdd          incur  entitlement  \n",
       "3       handed   country  <NUM4>      bipolar    connection-       reopen  \n",
       "4       hereby     korea      cf      anxiety           laws    reopening  \n",
       "5          amc       nam    vet.    dysthymic        warrant         alia  \n",
       "6       action    korean    also  psychiatric  establishment   disallowed  \n",
       "7       please  thailand    app.   depression           deny   connection  \n",
       "8      advance    danang     app    dysthymia    proximately      decline  \n",
       "9       center    inland  <NUM3>          mst       granting        inter  "
      ]
     },
     "execution_count": 47,
     "metadata": {},
     "output_type": "execute_result"
    }
   ],
   "source": [
    "nearest_neighbors = find_nearest_neighbors(model_skipgram, word_list)\n",
    "nearest_neighbors"
   ]
  },
  {
   "cell_type": "markdown",
   "id": "1f75c4ed",
   "metadata": {},
   "source": [
    "## Phase 5: Training Classifiers"
   ]
  },
  {
   "cell_type": "markdown",
   "id": "19ee6b47",
   "metadata": {},
   "source": [
    "### Step 5.1 (TFIDF featurization): \n",
    "Based on the classifier workshop code, produce a TFIDF featurization of your training, dev, and test data. Document your work briefly in the report.\n"
   ]
  },
  {
   "cell_type": "code",
   "execution_count": 48,
   "id": "4874dbb2",
   "metadata": {},
   "outputs": [],
   "source": [
    "def top_tfidf_features(row, features, top_n=15):\n",
    "    ''' Get top n tfidf values in row and return them with their corresponding feature names.'''\n",
    "    topn_ids = np.argsort(row)[::-1][:top_n]\n",
    "    top_feats = [(features[i], row[i]) for i in topn_ids]\n",
    "    df = pd.DataFrame(top_feats)\n",
    "    df.columns = ['feature', 'tfidf']\n",
    "    return df\n",
    "\n",
    "\n",
    "def top_features_in_doc(Xtr, features, row_id, top_n=15):\n",
    "    ''' Top tfidf features in specific document (matrix row) '''\n",
    "    xtr_row = Xtr[row_id]\n",
    "    if type(xtr_row) is not np.ndarray:\n",
    "        xtr_row = xtr_row.toarray()\n",
    "    row = np.squeeze(xtr_row)\n",
    "    return top_tfidf_features(row, features, top_n)\n",
    "\n",
    "\n",
    "def top_mean_features(Xtr, features, grp_ids=None, min_tfidf=0.1, top_n=25):\n",
    "    ''' Return the top n features that on average are most important amongst documents in rows\n",
    "        indentified by indices in grp_ids. '''\n",
    "    if grp_ids:\n",
    "        D = Xtr[grp_ids]\n",
    "    else:\n",
    "        D = Xtr\n",
    "    if type(D) is not np.ndarray:\n",
    "        D = D.toarray()\n",
    "    D[D < min_tfidf] = 0\n",
    "    tfidf_means = np.mean(D, axis=0)\n",
    "    return top_tfidf_features(tfidf_means, features, top_n)\n",
    "\n",
    "\n",
    "def top_features_by_class(Xtr, y, features, min_tfidf=0.1, top_n=25):\n",
    "    ''' Return a list of dfs, where each df holds top_n features and their mean tfidf value\n",
    "        calculated across documents with the same class label. '''\n",
    "    dfs = {}\n",
    "    labels = np.unique(y)\n",
    "    for label in labels:\n",
    "        ids = np.where(y==label)\n",
    "        feats_df = top_mean_features(Xtr, features, ids, min_tfidf=min_tfidf, top_n=top_n)\n",
    "        feats_df.label = label\n",
    "        dfs[label] = feats_df\n",
    "    return dfs\n",
    "\n",
    "\n",
    "def span_top_tfidf(spans_txt, spans_tfidf, features, index):\n",
    "    print('span text:\\n'+spans_txt[index]+'\\n')\n",
    "    print(top_features_in_doc(spans_tfidf, features, index))"
   ]
  },
  {
   "cell_type": "code",
   "execution_count": 49,
   "id": "4c3c23a2",
   "metadata": {},
   "outputs": [
    {
     "name": "stderr",
     "output_type": "stream",
     "text": [
      "/opt/anaconda3/envs/ldsi/lib/python3.8/site-packages/sklearn/feature_extraction/text.py:489: UserWarning: The parameter 'token_pattern' will not be used since 'tokenizer' is not None'\n",
      "  warnings.warn(\"The parameter 'token_pattern' will not be used\"\n"
     ]
    }
   ],
   "source": [
    "# suboptimal: tokenizer gets called twice\n",
    "spacy_tfidf_vectorizer = TfidfVectorizer(tokenizer=spacy_tokenize,\n",
    "                                         min_df=3,\n",
    "                                         ngram_range=(1,4))\n",
    "spacy_tfidf_vectorizer = spacy_tfidf_vectorizer.fit(train_spans_txt)\n",
    "tfidf_features_spacy = spacy_tfidf_vectorizer.get_feature_names()"
   ]
  },
  {
   "cell_type": "code",
   "execution_count": 64,
   "id": "5b6dc85e",
   "metadata": {},
   "outputs": [],
   "source": [
    "train_tfidf_spacy = spacy_tfidf_vectorizer.transform(train_spans_txt).toarray()\n",
    "dfs = top_features_by_class(train_tfidf_spacy, train_spans_labels, tfidf_features_spacy)"
   ]
  },
  {
   "cell_type": "code",
   "execution_count": 129,
   "id": "2df30ebc",
   "metadata": {},
   "outputs": [
    {
     "data": {
      "text/plain": [
       "dict_keys(['CaseFooter', 'CaseHeader', 'CaseIssue', 'Citation', 'ConclusionOfLaw', 'Evidence', 'EvidenceBased/Intermediate Finding', 'EvidenceBasedReasoning', 'Header', 'LegalPolicy', 'LegalRule', 'PolicyBasedReasoning', 'Procedure', 'RemandInstructions'])"
      ]
     },
     "execution_count": 129,
     "metadata": {},
     "output_type": "execute_result"
    }
   ],
   "source": [
    "dfs.keys()"
   ]
  },
  {
   "cell_type": "code",
   "execution_count": 65,
   "id": "ec75bf33",
   "metadata": {},
   "outputs": [
    {
     "data": {
      "text/html": [
       "<div>\n",
       "<style scoped>\n",
       "    .dataframe tbody tr th:only-of-type {\n",
       "        vertical-align: middle;\n",
       "    }\n",
       "\n",
       "    .dataframe tbody tr th {\n",
       "        vertical-align: top;\n",
       "    }\n",
       "\n",
       "    .dataframe thead th {\n",
       "        text-align: right;\n",
       "    }\n",
       "</style>\n",
       "<table border=\"1\" class=\"dataframe\">\n",
       "  <thead>\n",
       "    <tr style=\"text-align: right;\">\n",
       "      <th></th>\n",
       "      <th>feature</th>\n",
       "      <th>tfidf</th>\n",
       "    </tr>\n",
       "  </thead>\n",
       "  <tbody>\n",
       "    <tr>\n",
       "      <th>0</th>\n",
       "      <td>�</td>\n",
       "      <td>0.101528</td>\n",
       "    </tr>\n",
       "    <tr>\n",
       "      <th>1</th>\n",
       "      <td>&lt;NUM2&gt;</td>\n",
       "      <td>0.093349</td>\n",
       "    </tr>\n",
       "    <tr>\n",
       "      <th>2</th>\n",
       "      <td>&lt;NUM3&gt;</td>\n",
       "      <td>0.070686</td>\n",
       "    </tr>\n",
       "    <tr>\n",
       "      <th>3</th>\n",
       "      <td>&lt;NUM4&gt;</td>\n",
       "      <td>0.067326</td>\n",
       "    </tr>\n",
       "    <tr>\n",
       "      <th>4</th>\n",
       "      <td>v.</td>\n",
       "      <td>0.047998</td>\n",
       "    </tr>\n",
       "    <tr>\n",
       "      <th>5</th>\n",
       "      <td>c.f.r �</td>\n",
       "      <td>0.045567</td>\n",
       "    </tr>\n",
       "    <tr>\n",
       "      <th>6</th>\n",
       "      <td>c.f.r</td>\n",
       "      <td>0.045500</td>\n",
       "    </tr>\n",
       "    <tr>\n",
       "      <th>7</th>\n",
       "      <td>&lt;NUM2&gt; c.f.r �</td>\n",
       "      <td>0.045301</td>\n",
       "    </tr>\n",
       "    <tr>\n",
       "      <th>8</th>\n",
       "      <td>&lt;NUM2&gt; c.f.r</td>\n",
       "      <td>0.045234</td>\n",
       "    </tr>\n",
       "    <tr>\n",
       "      <th>9</th>\n",
       "      <td>app</td>\n",
       "      <td>0.043677</td>\n",
       "    </tr>\n",
       "    <tr>\n",
       "      <th>10</th>\n",
       "      <td>vet app</td>\n",
       "      <td>0.043677</td>\n",
       "    </tr>\n",
       "    <tr>\n",
       "      <th>11</th>\n",
       "      <td>vet</td>\n",
       "      <td>0.043457</td>\n",
       "    </tr>\n",
       "    <tr>\n",
       "      <th>12</th>\n",
       "      <td>&lt;NUM3&gt; &lt;NUM4&gt;</td>\n",
       "      <td>0.039986</td>\n",
       "    </tr>\n",
       "    <tr>\n",
       "      <th>13</th>\n",
       "      <td>see</td>\n",
       "      <td>0.038069</td>\n",
       "    </tr>\n",
       "    <tr>\n",
       "      <th>14</th>\n",
       "      <td>app &lt;NUM3&gt;</td>\n",
       "      <td>0.033512</td>\n",
       "    </tr>\n",
       "    <tr>\n",
       "      <th>15</th>\n",
       "      <td>vet app &lt;NUM3&gt;</td>\n",
       "      <td>0.033512</td>\n",
       "    </tr>\n",
       "    <tr>\n",
       "      <th>16</th>\n",
       "      <td>&lt;NUM2&gt; u.s.c.a</td>\n",
       "      <td>0.027874</td>\n",
       "    </tr>\n",
       "    <tr>\n",
       "      <th>17</th>\n",
       "      <td>u.s.c.a</td>\n",
       "      <td>0.027839</td>\n",
       "    </tr>\n",
       "    <tr>\n",
       "      <th>18</th>\n",
       "      <td>&lt;NUM2&gt; u.s.c.a �</td>\n",
       "      <td>0.027771</td>\n",
       "    </tr>\n",
       "    <tr>\n",
       "      <th>19</th>\n",
       "      <td>u.s.c.a �</td>\n",
       "      <td>0.027736</td>\n",
       "    </tr>\n",
       "    <tr>\n",
       "      <th>20</th>\n",
       "      <td>&lt;NUM4&gt; &lt;NUM4&gt;</td>\n",
       "      <td>0.026738</td>\n",
       "    </tr>\n",
       "    <tr>\n",
       "      <th>21</th>\n",
       "      <td>� �</td>\n",
       "      <td>0.026736</td>\n",
       "    </tr>\n",
       "    <tr>\n",
       "      <th>22</th>\n",
       "      <td>&lt;NUM2&gt; vet</td>\n",
       "      <td>0.026705</td>\n",
       "    </tr>\n",
       "    <tr>\n",
       "      <th>23</th>\n",
       "      <td>&lt;NUM2&gt; vet app</td>\n",
       "      <td>0.026705</td>\n",
       "    </tr>\n",
       "    <tr>\n",
       "      <th>24</th>\n",
       "      <td>&lt;NUM1&gt;</td>\n",
       "      <td>0.024954</td>\n",
       "    </tr>\n",
       "  </tbody>\n",
       "</table>\n",
       "</div>"
      ],
      "text/plain": [
       "             feature     tfidf\n",
       "0                  �  0.101528\n",
       "1             <NUM2>  0.093349\n",
       "2             <NUM3>  0.070686\n",
       "3             <NUM4>  0.067326\n",
       "4                 v.  0.047998\n",
       "5            c.f.r �  0.045567\n",
       "6              c.f.r  0.045500\n",
       "7     <NUM2> c.f.r �  0.045301\n",
       "8       <NUM2> c.f.r  0.045234\n",
       "9                app  0.043677\n",
       "10           vet app  0.043677\n",
       "11               vet  0.043457\n",
       "12     <NUM3> <NUM4>  0.039986\n",
       "13               see  0.038069\n",
       "14        app <NUM3>  0.033512\n",
       "15    vet app <NUM3>  0.033512\n",
       "16    <NUM2> u.s.c.a  0.027874\n",
       "17           u.s.c.a  0.027839\n",
       "18  <NUM2> u.s.c.a �  0.027771\n",
       "19         u.s.c.a �  0.027736\n",
       "20     <NUM4> <NUM4>  0.026738\n",
       "21               � �  0.026736\n",
       "22        <NUM2> vet  0.026705\n",
       "23    <NUM2> vet app  0.026705\n",
       "24            <NUM1>  0.024954"
      ]
     },
     "execution_count": 65,
     "metadata": {},
     "output_type": "execute_result"
    }
   ],
   "source": [
    "dfs['Citation']"
   ]
  },
  {
   "cell_type": "code",
   "execution_count": 131,
   "id": "391047a7",
   "metadata": {},
   "outputs": [
    {
     "data": {
      "text/html": [
       "<div>\n",
       "<style scoped>\n",
       "    .dataframe tbody tr th:only-of-type {\n",
       "        vertical-align: middle;\n",
       "    }\n",
       "\n",
       "    .dataframe tbody tr th {\n",
       "        vertical-align: top;\n",
       "    }\n",
       "\n",
       "    .dataframe thead th {\n",
       "        text-align: right;\n",
       "    }\n",
       "</style>\n",
       "<table border=\"1\" class=\"dataframe\">\n",
       "  <thead>\n",
       "    <tr style=\"text-align: right;\">\n",
       "      <th></th>\n",
       "      <th>feature</th>\n",
       "      <th>tfidf</th>\n",
       "    </tr>\n",
       "  </thead>\n",
       "  <tbody>\n",
       "    <tr>\n",
       "      <th>0</th>\n",
       "      <td>the</td>\n",
       "      <td>0.028284</td>\n",
       "    </tr>\n",
       "    <tr>\n",
       "      <th>1</th>\n",
       "      <td>his</td>\n",
       "      <td>0.008249</td>\n",
       "    </tr>\n",
       "    <tr>\n",
       "      <th>2</th>\n",
       "      <td>of</td>\n",
       "      <td>0.006280</td>\n",
       "    </tr>\n",
       "    <tr>\n",
       "      <th>3</th>\n",
       "      <td>in</td>\n",
       "      <td>0.006146</td>\n",
       "    </tr>\n",
       "    <tr>\n",
       "      <th>4</th>\n",
       "      <td>opinion</td>\n",
       "      <td>0.005899</td>\n",
       "    </tr>\n",
       "    <tr>\n",
       "      <th>5</th>\n",
       "      <td>be</td>\n",
       "      <td>0.005887</td>\n",
       "    </tr>\n",
       "    <tr>\n",
       "      <th>6</th>\n",
       "      <td>this</td>\n",
       "      <td>0.005529</td>\n",
       "    </tr>\n",
       "    <tr>\n",
       "      <th>7</th>\n",
       "      <td>as</td>\n",
       "      <td>0.005334</td>\n",
       "    </tr>\n",
       "    <tr>\n",
       "      <th>8</th>\n",
       "      <td>competent to</td>\n",
       "      <td>0.005290</td>\n",
       "    </tr>\n",
       "    <tr>\n",
       "      <th>9</th>\n",
       "      <td>in this</td>\n",
       "      <td>0.005282</td>\n",
       "    </tr>\n",
       "    <tr>\n",
       "      <th>10</th>\n",
       "      <td>competent</td>\n",
       "      <td>0.005098</td>\n",
       "    </tr>\n",
       "    <tr>\n",
       "      <th>11</th>\n",
       "      <td>there be</td>\n",
       "      <td>0.005061</td>\n",
       "    </tr>\n",
       "    <tr>\n",
       "      <th>12</th>\n",
       "      <td>that</td>\n",
       "      <td>0.004996</td>\n",
       "    </tr>\n",
       "    <tr>\n",
       "      <th>13</th>\n",
       "      <td>there</td>\n",
       "      <td>0.004928</td>\n",
       "    </tr>\n",
       "    <tr>\n",
       "      <th>14</th>\n",
       "      <td>be not</td>\n",
       "      <td>0.004744</td>\n",
       "    </tr>\n",
       "    <tr>\n",
       "      <th>15</th>\n",
       "      <td>these</td>\n",
       "      <td>0.004687</td>\n",
       "    </tr>\n",
       "    <tr>\n",
       "      <th>16</th>\n",
       "      <td>however</td>\n",
       "      <td>0.004679</td>\n",
       "    </tr>\n",
       "    <tr>\n",
       "      <th>17</th>\n",
       "      <td>a</td>\n",
       "      <td>0.004634</td>\n",
       "    </tr>\n",
       "    <tr>\n",
       "      <th>18</th>\n",
       "      <td>he</td>\n",
       "      <td>0.004614</td>\n",
       "    </tr>\n",
       "    <tr>\n",
       "      <th>19</th>\n",
       "      <td>'s</td>\n",
       "      <td>0.004459</td>\n",
       "    </tr>\n",
       "    <tr>\n",
       "      <th>20</th>\n",
       "      <td>medical</td>\n",
       "      <td>0.004427</td>\n",
       "    </tr>\n",
       "    <tr>\n",
       "      <th>21</th>\n",
       "      <td>board note</td>\n",
       "      <td>0.004418</td>\n",
       "    </tr>\n",
       "    <tr>\n",
       "      <th>22</th>\n",
       "      <td>the board note</td>\n",
       "      <td>0.004418</td>\n",
       "    </tr>\n",
       "    <tr>\n",
       "      <th>23</th>\n",
       "      <td>the veteran 's</td>\n",
       "      <td>0.004251</td>\n",
       "    </tr>\n",
       "    <tr>\n",
       "      <th>24</th>\n",
       "      <td>regard</td>\n",
       "      <td>0.004128</td>\n",
       "    </tr>\n",
       "  </tbody>\n",
       "</table>\n",
       "</div>"
      ],
      "text/plain": [
       "           feature     tfidf\n",
       "0              the  0.028284\n",
       "1              his  0.008249\n",
       "2               of  0.006280\n",
       "3               in  0.006146\n",
       "4          opinion  0.005899\n",
       "5               be  0.005887\n",
       "6             this  0.005529\n",
       "7               as  0.005334\n",
       "8     competent to  0.005290\n",
       "9          in this  0.005282\n",
       "10       competent  0.005098\n",
       "11        there be  0.005061\n",
       "12            that  0.004996\n",
       "13           there  0.004928\n",
       "14          be not  0.004744\n",
       "15           these  0.004687\n",
       "16         however  0.004679\n",
       "17               a  0.004634\n",
       "18              he  0.004614\n",
       "19              's  0.004459\n",
       "20         medical  0.004427\n",
       "21      board note  0.004418\n",
       "22  the board note  0.004418\n",
       "23  the veteran 's  0.004251\n",
       "24          regard  0.004128"
      ]
     },
     "execution_count": 131,
     "metadata": {},
     "output_type": "execute_result"
    }
   ],
   "source": [
    "dfs['EvidenceBasedReasoning']"
   ]
  },
  {
   "cell_type": "code",
   "execution_count": 50,
   "id": "62f48e6c",
   "metadata": {},
   "outputs": [],
   "source": [
    "def make_tfidf_feature_vectors_and_labels(spans, vectorizer):\n",
    "    # function takes long to execute\n",
    "    # note: we un-sparse the matrix here to be able to manipulate it\n",
    "    tfidf = spacy_tfidf_vectorizer.transform([s['txt'] for s in spans]).toarray()\n",
    "    starts_normalized = np.array([s['start_normalized'] for s in spans])\n",
    "    num_tokens = np.array([len(s['tokens_spacy']) for s in spans])\n",
    "    y = np.array([s['type'] for s in spans])\n",
    "    X = np.concatenate((tfidf, np.expand_dims(starts_normalized, axis=1)), axis=1)\n",
    "    return X, y"
   ]
  },
  {
   "cell_type": "code",
   "execution_count": 51,
   "id": "e1c89fb8",
   "metadata": {},
   "outputs": [],
   "source": [
    "tfidf_train_X, tfidf_train_y = make_tfidf_feature_vectors_and_labels(train_spans, spacy_tfidf_vectorizer)\n",
    "tfidf_test_X, tfidf_test_y = make_tfidf_feature_vectors_and_labels(test_spans, spacy_tfidf_vectorizer)\n",
    "tfidf_dev_X, tfidf_dev_y = make_tfidf_feature_vectors_and_labels(val_spans, spacy_tfidf_vectorizer)"
   ]
  },
  {
   "cell_type": "code",
   "execution_count": 53,
   "id": "55f131f2",
   "metadata": {},
   "outputs": [
    {
     "name": "stdout",
     "output_type": "stream",
     "text": [
      "(7602, 26840) (7602,)\n",
      "(816, 26840) (816,)\n",
      "(822, 26840) (822,)\n"
     ]
    }
   ],
   "source": [
    "print(f'{tfidf_train_X.shape} {tfidf_train_y.shape}')\n",
    "print(f'{tfidf_dev_X.shape} {tfidf_dev_y.shape}')\n",
    "print(f'{tfidf_test_X.shape} {tfidf_test_y.shape}')"
   ]
  },
  {
   "cell_type": "markdown",
   "id": "f869d37d",
   "metadata": {},
   "source": [
    "### Step 5.2 (Word Embedding Featurization): \n",
    "Using the embeddings, you should now extend the code provided by the classifier workshop by leveraging the trained embeddings to featurize sentences. For each sentence, the feature vector should contain:\n",
    "\n",
    "+ an average of the embedding vectors for the tokens in the sentence (with the same dimension as the embedding model)\n",
    "+ a single float variable with the [0-1] normalized position of the sentence in the document as in the workshop\n",
    "+ a single float variable representing the number of tokens in the sentence, normalized by subtracting the mean and dividing by the standard deviation across all sentence tokens counts in the training data"
   ]
  },
  {
   "cell_type": "code",
   "execution_count": 284,
   "id": "93c0494f",
   "metadata": {},
   "outputs": [],
   "source": [
    "def get_average_word_emdedding(spans, model):\n",
    "    embedding_list = []\n",
    "    for s in spans:\n",
    "        tokens = s['tokens_spacy']\n",
    "        embedding = 0\n",
    "        for t in tokens:\n",
    "            embedding = embedding + model.get_word_vector(t)\n",
    "        embedding_list.append(embedding/len(tokens))\n",
    "    return np.array(embedding_list)"
   ]
  },
  {
   "cell_type": "code",
   "execution_count": 285,
   "id": "7755fe9b",
   "metadata": {},
   "outputs": [],
   "source": [
    "def make_embedding_feature_vectors_and_labels(spans, model):\n",
    "    sentence_embedding = get_average_word_emdedding(spans, model)\n",
    "    starts_normalized = np.array([s['start_normalized'] for s in spans])\n",
    "    num_tokens = np.array([len(s['tokens_spacy']) for s in spans])\n",
    "    mean = np.mean(num_tokens)\n",
    "    std = np.std(num_tokens)\n",
    "    num_tokens_normalized = np.array([ (n-mean)/std for n in num_tokens ])\n",
    "    y = np.array([s['type'] for s in spans])\n",
    "    X = np.concatenate((sentence_embedding, np.expand_dims(starts_normalized, axis=1), \n",
    "                        np.expand_dims(num_tokens_normalized, axis=1)), axis=1)\n",
    "    return X, y"
   ]
  },
  {
   "cell_type": "code",
   "execution_count": 70,
   "id": "84b2c00e",
   "metadata": {},
   "outputs": [],
   "source": [
    "model = model_skipgram\n",
    "embedding_train_X, embedding_train_y = make_embedding_feature_vectors_and_labels(train_spans, model)\n",
    "embedding_dev_X, embedding_dev_y = make_embedding_feature_vectors_and_labels(val_spans, model)\n",
    "embedding_test_X, embedding_test_y = make_embedding_feature_vectors_and_labels(test_spans, model)"
   ]
  },
  {
   "cell_type": "code",
   "execution_count": 71,
   "id": "1a4bda42",
   "metadata": {},
   "outputs": [
    {
     "name": "stdout",
     "output_type": "stream",
     "text": [
      "(7602, 102) (7602,)\n",
      "(816, 102) (816,)\n",
      "(822, 102) (822,)\n"
     ]
    }
   ],
   "source": [
    "print(f'{embedding_train_X.shape} {embedding_train_y.shape}')\n",
    "print(f'{embedding_dev_X.shape} {embedding_dev_y.shape}')\n",
    "print(f'{embedding_test_X.shape} {embedding_test_y.shape}')"
   ]
  },
  {
   "cell_type": "code",
   "execution_count": 159,
   "id": "3cdab263",
   "metadata": {
    "collapsed": true
   },
   "outputs": [
    {
     "data": {
      "text/plain": [
       "array([-2.06298041e+00,  9.63091195e-01, -1.12075937e+00,  9.85574484e-01,\n",
       "        1.25130534e-01, -1.43172288e+00,  5.45264542e-01, -1.18455887e+00,\n",
       "       -6.59598932e-02, -1.93086708e+00, -1.35700226e-01, -1.53642505e-01,\n",
       "       -1.18226218e+00, -3.76940995e-01, -1.81380975e+00,  1.34765458e+00,\n",
       "       -9.83381987e-01,  1.69645101e-01, -2.95935184e-01,  4.27126288e-01,\n",
       "       -1.41668841e-01,  4.60748464e-01,  4.85618144e-01,  5.29705942e-01,\n",
       "        3.30387801e-01, -1.11286867e+00,  1.62706003e-01,  5.40245175e-01,\n",
       "       -8.42252076e-02,  1.15445530e+00,  1.15304172e+00,  6.92377865e-01,\n",
       "        9.58558202e-01,  6.05313122e-01,  3.57195407e-01, -4.06738251e-01,\n",
       "       -2.04712915e+00,  5.95224559e-01, -1.81138587e+00, -4.97384146e-02,\n",
       "       -8.71052146e-01, -2.62442446e+00, -1.08198965e+00,  1.16010940e+00,\n",
       "       -1.23870587e+00,  4.79798228e-01, -2.58410769e-03,  1.72990716e+00,\n",
       "        4.72757310e-01, -9.54800993e-02,  7.78484106e-01,  2.52389424e-02,\n",
       "       -1.91200221e+00, -8.18131030e-01, -8.53166506e-02,  3.51898283e-01,\n",
       "        2.81588972e-01,  1.82079628e-01, -1.41994163e-01,  4.22148883e-01,\n",
       "       -7.54200637e-01,  3.68448906e-02,  1.68712592e+00, -4.09554064e-01,\n",
       "       -2.49486454e-02,  1.03061092e+00,  4.78967339e-01,  3.58169675e-01,\n",
       "       -1.71527639e-01,  4.77098942e-01, -1.34686589e+00,  1.92254746e+00,\n",
       "        6.81278780e-02,  3.64848435e-01, -1.48302245e+00,  8.59819651e-01,\n",
       "       -3.56267285e+00, -9.62331414e-01,  1.29226196e+00,  3.07099551e-01,\n",
       "        1.24883735e+00,  5.75071096e-01, -1.93652138e-01,  4.31453586e-01,\n",
       "       -7.73882568e-01,  1.50547397e+00,  5.24399877e-01,  1.14424169e+00,\n",
       "        1.78009188e+00,  2.01065373e+00, -1.36209071e-01,  1.05988622e+00,\n",
       "       -5.11146247e-01,  1.99072158e+00,  1.60200119e+00,  1.42498791e+00,\n",
       "        3.88746285e+00, -1.75236690e+00, -8.85537267e-01,  3.18096757e-01,\n",
       "        0.00000000e+00, -3.85953963e-01])"
      ]
     },
     "execution_count": 159,
     "metadata": {},
     "output_type": "execute_result"
    }
   ],
   "source": [
    "embedding_train_X[0]"
   ]
  },
  {
   "cell_type": "markdown",
   "id": "493c2fbe",
   "metadata": {},
   "source": [
    "### Step 5.3 (Model Training): \n",
    "Once you have featurized the data, go on and train and evaluate several classifiers using the `classification_report` and `confusion_matrix` functions provided during the workshop on TFIDF and embedding featurizations. You should train and evaluate at least the following models on the training data and evaluate them on the dev data, respectively:"
   ]
  },
  {
   "cell_type": "markdown",
   "id": "159ca46b",
   "metadata": {},
   "source": [
    "### Train with TFIDF feautures"
   ]
  },
  {
   "cell_type": "code",
   "execution_count": 152,
   "id": "f2031418",
   "metadata": {
    "scrolled": true
   },
   "outputs": [
    {
     "name": "stdout",
     "output_type": "stream",
     "text": [
      "TFIDF GaussianNB TRAIN:\n",
      "                                    precision    recall  f1-score   support\n",
      "\n",
      "                        CaseFooter       0.42      0.99      0.59        88\n",
      "                        CaseHeader       0.33      1.00      0.50        82\n",
      "                         CaseIssue       0.99      1.00      0.99        77\n",
      "                          Citation       0.99      0.93      0.96      1019\n",
      "                   ConclusionOfLaw       0.79      0.90      0.84       169\n",
      "                          Evidence       1.00      0.94      0.97      2067\n",
      "EvidenceBased/Intermediate Finding       0.94      0.95      0.94       682\n",
      "            EvidenceBasedReasoning       0.87      0.97      0.92       526\n",
      "                            Header       0.93      0.68      0.78       718\n",
      "                       LegalPolicy       0.61      1.00      0.76        98\n",
      "                         LegalRule       0.99      0.93      0.96       849\n",
      "              PolicyBasedReasoning       0.53      1.00      0.69        25\n",
      "                         Procedure       0.96      0.90      0.93       838\n",
      "                RemandInstructions       0.94      0.98      0.96       364\n",
      "\n",
      "                          accuracy                           0.92      7602\n",
      "                         macro avg       0.81      0.94      0.84      7602\n",
      "                      weighted avg       0.94      0.92      0.92      7602\n",
      "\n"
     ]
    },
    {
     "name": "stderr",
     "output_type": "stream",
     "text": [
      "/opt/anaconda3/envs/ldsi/lib/python3.8/site-packages/sklearn/metrics/_classification.py:1245: UndefinedMetricWarning: Recall and F-score are ill-defined and being set to 0.0 in labels with no true samples. Use `zero_division` parameter to control this behavior.\n",
      "  _warn_prf(average, modifier, msg_start, len(result))\n",
      "/opt/anaconda3/envs/ldsi/lib/python3.8/site-packages/sklearn/metrics/_classification.py:1245: UndefinedMetricWarning: Recall and F-score are ill-defined and being set to 0.0 in labels with no true samples. Use `zero_division` parameter to control this behavior.\n",
      "  _warn_prf(average, modifier, msg_start, len(result))\n",
      "/opt/anaconda3/envs/ldsi/lib/python3.8/site-packages/sklearn/metrics/_classification.py:1245: UndefinedMetricWarning: Recall and F-score are ill-defined and being set to 0.0 in labels with no true samples. Use `zero_division` parameter to control this behavior.\n",
      "  _warn_prf(average, modifier, msg_start, len(result))\n"
     ]
    },
    {
     "name": "stdout",
     "output_type": "stream",
     "text": [
      "TFIDF GaussianNB DEV:\n",
      "                                    precision    recall  f1-score   support\n",
      "\n",
      "                        CaseFooter       0.43      1.00      0.60         9\n",
      "                        CaseHeader       0.28      1.00      0.44         9\n",
      "                         CaseIssue       1.00      0.56      0.71         9\n",
      "                          Citation       1.00      0.86      0.93       102\n",
      "                   ConclusionOfLaw       0.61      0.65      0.63        17\n",
      "                          Evidence       0.73      0.86      0.79       244\n",
      "EvidenceBased/Intermediate Finding       0.47      0.57      0.52        54\n",
      "            EvidenceBasedReasoning       0.36      0.20      0.26        86\n",
      "                            Header       0.91      0.62      0.74        79\n",
      "                       LegalPolicy       0.17      1.00      0.29         2\n",
      "                         LegalRule       0.78      0.88      0.83        73\n",
      "              PolicyBasedReasoning       0.00      0.00      0.00         0\n",
      "                         Procedure       0.86      0.66      0.75        94\n",
      "                RemandInstructions       0.86      0.63      0.73        38\n",
      "\n",
      "                          accuracy                           0.71       816\n",
      "                         macro avg       0.60      0.68      0.59       816\n",
      "                      weighted avg       0.74      0.71      0.71       816\n",
      "\n",
      "TFIDF GaussianNB TEST:\n",
      "                                    precision    recall  f1-score   support\n",
      "\n",
      "                        CaseFooter       0.39      1.00      0.56         9\n",
      "                        CaseHeader       0.29      0.90      0.44        10\n",
      "                         CaseIssue       1.00      0.22      0.36         9\n",
      "                          Citation       0.97      0.81      0.89       134\n",
      "                   ConclusionOfLaw       0.71      0.56      0.63        18\n",
      "                          Evidence       0.73      0.81      0.77       214\n",
      "EvidenceBased/Intermediate Finding       0.45      0.44      0.44        62\n",
      "            EvidenceBasedReasoning       0.12      0.12      0.12        51\n",
      "                            Header       0.91      0.66      0.77        80\n",
      "                       LegalPolicy       0.14      0.18      0.16        11\n",
      "                         LegalRule       0.65      0.77      0.71       106\n",
      "              PolicyBasedReasoning       0.00      0.00      0.00         3\n",
      "                         Procedure       0.83      0.69      0.75        93\n",
      "                RemandInstructions       0.67      0.55      0.60        22\n",
      "\n",
      "                          accuracy                           0.68       822\n",
      "                         macro avg       0.56      0.55      0.51       822\n",
      "                      weighted avg       0.71      0.68      0.68       822\n",
      "\n"
     ]
    }
   ],
   "source": [
    "tfidf_clf_nb = GaussianNB()\n",
    "tfidf_clf_nb = tfidf_clf_nb.fit(tfidf_train_X, tfidf_train_y)\n",
    "print('TFIDF GaussianNB TRAIN:\\n'+classification_report(train_spans_labels, tfidf_clf_nb.predict(tfidf_train_X)))\n",
    "print('TFIDF GaussianNB DEV:\\n'+classification_report(val_spans_labels, tfidf_clf_nb.predict(tfidf_dev_X)))\n",
    "print('TFIDF GaussianNB TEST:\\n'+classification_report(test_spans_labels, tfidf_clf_nb.predict(tfidf_test_X)))"
   ]
  },
  {
   "cell_type": "code",
   "execution_count": 64,
   "id": "094aa1b5",
   "metadata": {
    "scrolled": true
   },
   "outputs": [
    {
     "name": "stdout",
     "output_type": "stream",
     "text": [
      "TFIDF LogisticRegression TRAIN:\n",
      "                                    precision    recall  f1-score   support\n",
      "\n",
      "                        CaseFooter       0.97      0.95      0.96        88\n",
      "                        CaseHeader       0.98      0.96      0.97        82\n",
      "                         CaseIssue       0.91      0.92      0.92        77\n",
      "                          Citation       0.97      0.99      0.98      1019\n",
      "                   ConclusionOfLaw       0.88      0.77      0.82       169\n",
      "                          Evidence       0.82      0.98      0.89      2067\n",
      "EvidenceBased/Intermediate Finding       0.83      0.73      0.77       682\n",
      "            EvidenceBasedReasoning       0.88      0.50      0.64       526\n",
      "                            Header       0.98      0.97      0.98       718\n",
      "                       LegalPolicy       0.81      0.17      0.29        98\n",
      "                         LegalRule       0.85      0.91      0.88       849\n",
      "              PolicyBasedReasoning       0.00      0.00      0.00        25\n",
      "                         Procedure       0.93      0.90      0.92       838\n",
      "                RemandInstructions       0.91      0.84      0.88       364\n",
      "\n",
      "                          accuracy                           0.88      7602\n",
      "                         macro avg       0.84      0.76      0.78      7602\n",
      "                      weighted avg       0.88      0.88      0.87      7602\n",
      "\n",
      "TFIDF LogisticRegression DEV:\n",
      "                                    precision    recall  f1-score   support\n",
      "\n",
      "                        CaseFooter       1.00      1.00      1.00         9\n",
      "                        CaseHeader       1.00      1.00      1.00         9\n",
      "                         CaseIssue       1.00      1.00      1.00         9\n",
      "                          Citation       0.99      0.95      0.97       102\n",
      "                   ConclusionOfLaw       0.88      0.82      0.85        17\n",
      "                          Evidence       0.73      0.95      0.82       244\n",
      "EvidenceBased/Intermediate Finding       0.63      0.67      0.65        54\n",
      "            EvidenceBasedReasoning       0.67      0.16      0.26        86\n",
      "                            Header       1.00      0.97      0.99        79\n",
      "                       LegalPolicy       0.50      0.50      0.50         2\n",
      "                         LegalRule       0.85      0.92      0.88        73\n",
      "                         Procedure       0.96      0.90      0.93        94\n",
      "                RemandInstructions       0.93      0.71      0.81        38\n",
      "\n",
      "                          accuracy                           0.83       816\n",
      "                         macro avg       0.86      0.81      0.82       816\n",
      "                      weighted avg       0.83      0.83      0.81       816\n",
      "\n",
      "TFIDF LogisticRegression TEST:\n",
      "                                    precision    recall  f1-score   support\n",
      "\n",
      "                        CaseFooter       1.00      1.00      1.00         9\n",
      "                        CaseHeader       1.00      0.90      0.95        10\n",
      "                         CaseIssue       0.90      1.00      0.95         9\n",
      "                          Citation       0.93      0.93      0.93       134\n",
      "                   ConclusionOfLaw       0.76      0.72      0.74        18\n",
      "                          Evidence       0.73      0.93      0.82       214\n",
      "EvidenceBased/Intermediate Finding       0.62      0.52      0.56        62\n",
      "            EvidenceBasedReasoning       0.33      0.14      0.19        51\n",
      "                            Header       0.95      0.91      0.93        80\n",
      "                       LegalPolicy       0.50      0.09      0.15        11\n",
      "                         LegalRule       0.77      0.80      0.79       106\n",
      "              PolicyBasedReasoning       0.00      0.00      0.00         3\n",
      "                         Procedure       0.88      0.88      0.88        93\n",
      "                RemandInstructions       0.87      0.59      0.70        22\n",
      "\n",
      "                          accuracy                           0.80       822\n",
      "                         macro avg       0.73      0.67      0.69       822\n",
      "                      weighted avg       0.78      0.80      0.78       822\n",
      "\n"
     ]
    },
    {
     "name": "stderr",
     "output_type": "stream",
     "text": [
      "/opt/anaconda3/envs/ldsi/lib/python3.8/site-packages/sklearn/metrics/_classification.py:1245: UndefinedMetricWarning: Precision and F-score are ill-defined and being set to 0.0 in labels with no predicted samples. Use `zero_division` parameter to control this behavior.\n",
      "  _warn_prf(average, modifier, msg_start, len(result))\n",
      "/opt/anaconda3/envs/ldsi/lib/python3.8/site-packages/sklearn/metrics/_classification.py:1245: UndefinedMetricWarning: Precision and F-score are ill-defined and being set to 0.0 in labels with no predicted samples. Use `zero_division` parameter to control this behavior.\n",
      "  _warn_prf(average, modifier, msg_start, len(result))\n",
      "/opt/anaconda3/envs/ldsi/lib/python3.8/site-packages/sklearn/metrics/_classification.py:1245: UndefinedMetricWarning: Precision and F-score are ill-defined and being set to 0.0 in labels with no predicted samples. Use `zero_division` parameter to control this behavior.\n",
      "  _warn_prf(average, modifier, msg_start, len(result))\n",
      "/opt/anaconda3/envs/ldsi/lib/python3.8/site-packages/sklearn/metrics/_classification.py:1245: UndefinedMetricWarning: Precision and F-score are ill-defined and being set to 0.0 in labels with no predicted samples. Use `zero_division` parameter to control this behavior.\n",
      "  _warn_prf(average, modifier, msg_start, len(result))\n",
      "/opt/anaconda3/envs/ldsi/lib/python3.8/site-packages/sklearn/metrics/_classification.py:1245: UndefinedMetricWarning: Precision and F-score are ill-defined and being set to 0.0 in labels with no predicted samples. Use `zero_division` parameter to control this behavior.\n",
      "  _warn_prf(average, modifier, msg_start, len(result))\n",
      "/opt/anaconda3/envs/ldsi/lib/python3.8/site-packages/sklearn/metrics/_classification.py:1245: UndefinedMetricWarning: Precision and F-score are ill-defined and being set to 0.0 in labels with no predicted samples. Use `zero_division` parameter to control this behavior.\n",
      "  _warn_prf(average, modifier, msg_start, len(result))\n"
     ]
    }
   ],
   "source": [
    "tfidf_clf_lr = LogisticRegression(max_iter=150)\n",
    "tfidf_clf_lr = tfidf_clf_lr.fit(tfidf_train_X, tfidf_train_y)\n",
    "print('TFIDF LogisticRegression TRAIN:\\n'+classification_report(train_spans_labels, tfidf_clf_lr.predict(tfidf_train_X)))\n",
    "print('TFIDF LogisticRegression DEV:\\n'+classification_report(val_spans_labels, tfidf_clf_lr.predict(tfidf_dev_X)))\n",
    "print('TFIDF LogisticRegression TEST:\\n'+classification_report(test_spans_labels, tfidf_clf_lr.predict(tfidf_test_X)))"
   ]
  },
  {
   "cell_type": "markdown",
   "id": "4ec08758",
   "metadata": {},
   "source": [
    "retrain on train and dev set"
   ]
  },
  {
   "cell_type": "code",
   "execution_count": 257,
   "id": "0c3d3a2c",
   "metadata": {},
   "outputs": [
    {
     "name": "stdout",
     "output_type": "stream",
     "text": [
      "(8418, 26840)\n"
     ]
    }
   ],
   "source": [
    "tfidf_train_dev_X = np.append(tfidf_train_X, tfidf_dev_X, axis=0)\n",
    "tfidf_train_dev_y = np.append(tfidf_train_y, tfidf_dev_y, axis=0)\n",
    "print(tfidf_train_dev_X.shape)"
   ]
  },
  {
   "cell_type": "code",
   "execution_count": 258,
   "id": "a1fd3de4",
   "metadata": {
    "scrolled": true
   },
   "outputs": [
    {
     "name": "stdout",
     "output_type": "stream",
     "text": [
      "TFIDF LogisticRegression TRAIN:\n",
      "                                    precision    recall  f1-score   support\n",
      "\n",
      "                        CaseFooter       0.97      0.96      0.96        97\n",
      "                        CaseHeader       0.98      0.97      0.97        91\n",
      "                         CaseIssue       0.92      0.93      0.92        86\n",
      "                          Citation       0.97      0.99      0.98      1121\n",
      "                   ConclusionOfLaw       0.88      0.78      0.83       186\n",
      "                          Evidence       0.82      0.98      0.89      2311\n",
      "EvidenceBased/Intermediate Finding       0.84      0.72      0.78       736\n",
      "            EvidenceBasedReasoning       0.85      0.52      0.65       612\n",
      "                            Header       0.99      0.97      0.98       797\n",
      "                       LegalPolicy       0.79      0.19      0.31       100\n",
      "                         LegalRule       0.86      0.92      0.89       922\n",
      "              PolicyBasedReasoning       0.00      0.00      0.00        25\n",
      "                         Procedure       0.93      0.91      0.92       932\n",
      "                RemandInstructions       0.92      0.84      0.88       402\n",
      "\n",
      "                          accuracy                           0.89      8418\n",
      "                         macro avg       0.84      0.76      0.78      8418\n",
      "                      weighted avg       0.88      0.89      0.88      8418\n",
      "\n",
      "TFIDF LogisticRegression TEST:\n",
      "                                    precision    recall  f1-score   support\n",
      "\n",
      "                        CaseFooter       1.00      1.00      1.00         9\n",
      "                        CaseHeader       1.00      0.90      0.95        10\n",
      "                         CaseIssue       1.00      1.00      1.00         9\n",
      "                          Citation       0.94      0.93      0.94       134\n",
      "                   ConclusionOfLaw       0.78      0.78      0.78        18\n",
      "                          Evidence       0.74      0.94      0.83       214\n",
      "EvidenceBased/Intermediate Finding       0.66      0.47      0.55        62\n",
      "            EvidenceBasedReasoning       0.35      0.18      0.23        51\n",
      "                            Header       0.95      0.91      0.93        80\n",
      "                       LegalPolicy       0.50      0.09      0.15        11\n",
      "                         LegalRule       0.77      0.81      0.79       106\n",
      "              PolicyBasedReasoning       0.00      0.00      0.00         3\n",
      "                         Procedure       0.86      0.88      0.87        93\n",
      "                RemandInstructions       0.87      0.59      0.70        22\n",
      "\n",
      "                          accuracy                           0.80       822\n",
      "                         macro avg       0.74      0.68      0.69       822\n",
      "                      weighted avg       0.79      0.80      0.79       822\n",
      "\n"
     ]
    },
    {
     "name": "stderr",
     "output_type": "stream",
     "text": [
      "/opt/anaconda3/envs/ldsi/lib/python3.8/site-packages/sklearn/metrics/_classification.py:1245: UndefinedMetricWarning: Precision and F-score are ill-defined and being set to 0.0 in labels with no predicted samples. Use `zero_division` parameter to control this behavior.\n",
      "  _warn_prf(average, modifier, msg_start, len(result))\n",
      "/opt/anaconda3/envs/ldsi/lib/python3.8/site-packages/sklearn/metrics/_classification.py:1245: UndefinedMetricWarning: Precision and F-score are ill-defined and being set to 0.0 in labels with no predicted samples. Use `zero_division` parameter to control this behavior.\n",
      "  _warn_prf(average, modifier, msg_start, len(result))\n",
      "/opt/anaconda3/envs/ldsi/lib/python3.8/site-packages/sklearn/metrics/_classification.py:1245: UndefinedMetricWarning: Precision and F-score are ill-defined and being set to 0.0 in labels with no predicted samples. Use `zero_division` parameter to control this behavior.\n",
      "  _warn_prf(average, modifier, msg_start, len(result))\n",
      "/opt/anaconda3/envs/ldsi/lib/python3.8/site-packages/sklearn/metrics/_classification.py:1245: UndefinedMetricWarning: Precision and F-score are ill-defined and being set to 0.0 in labels with no predicted samples. Use `zero_division` parameter to control this behavior.\n",
      "  _warn_prf(average, modifier, msg_start, len(result))\n",
      "/opt/anaconda3/envs/ldsi/lib/python3.8/site-packages/sklearn/metrics/_classification.py:1245: UndefinedMetricWarning: Precision and F-score are ill-defined and being set to 0.0 in labels with no predicted samples. Use `zero_division` parameter to control this behavior.\n",
      "  _warn_prf(average, modifier, msg_start, len(result))\n",
      "/opt/anaconda3/envs/ldsi/lib/python3.8/site-packages/sklearn/metrics/_classification.py:1245: UndefinedMetricWarning: Precision and F-score are ill-defined and being set to 0.0 in labels with no predicted samples. Use `zero_division` parameter to control this behavior.\n",
      "  _warn_prf(average, modifier, msg_start, len(result))\n"
     ]
    }
   ],
   "source": [
    "tfidf_clf_lr = LogisticRegression(max_iter=150)\n",
    "tfidf_clf_lr = tfidf_clf_lr.fit(tfidf_train_dev_X, tfidf_train_dev_y)\n",
    "print('TFIDF LogisticRegression TRAIN:\\n'+classification_report(tfidf_train_dev_y, tfidf_clf_lr.predict(tfidf_train_dev_X)))\n",
    "print('TFIDF LogisticRegression TEST:\\n'+classification_report(test_spans_labels, tfidf_clf_lr.predict(tfidf_test_X)))"
   ]
  },
  {
   "cell_type": "code",
   "execution_count": 153,
   "id": "0db909fc",
   "metadata": {
    "scrolled": true
   },
   "outputs": [
    {
     "name": "stdout",
     "output_type": "stream",
     "text": [
      "TFIDF RandomForest TRAIN:\n",
      "                                    precision    recall  f1-score   support\n",
      "\n",
      "                        CaseFooter       1.00      0.92      0.96        88\n",
      "                        CaseHeader       0.98      0.98      0.98        82\n",
      "                         CaseIssue       0.95      0.79      0.87        77\n",
      "                          Citation       0.98      0.94      0.96      1019\n",
      "                   ConclusionOfLaw       1.00      0.01      0.02       169\n",
      "                          Evidence       0.41      1.00      0.58      2067\n",
      "EvidenceBased/Intermediate Finding       0.88      0.20      0.32       682\n",
      "            EvidenceBasedReasoning       1.00      0.02      0.03       526\n",
      "                            Header       1.00      0.50      0.67       718\n",
      "                       LegalPolicy       1.00      0.07      0.13        98\n",
      "                         LegalRule       0.95      0.51      0.67       849\n",
      "              PolicyBasedReasoning       0.00      0.00      0.00        25\n",
      "                         Procedure       1.00      0.38      0.55       838\n",
      "                RemandInstructions       1.00      0.10      0.19       364\n",
      "\n",
      "                          accuracy                           0.60      7602\n",
      "                         macro avg       0.87      0.46      0.49      7602\n",
      "                      weighted avg       0.81      0.60      0.56      7602\n",
      "\n",
      "TFIDF RandomForest DEV:\n",
      "                                    precision    recall  f1-score   support\n",
      "\n",
      "                        CaseFooter       1.00      1.00      1.00         9\n",
      "                        CaseHeader       1.00      1.00      1.00         9\n",
      "                         CaseIssue       1.00      0.78      0.88         9\n",
      "                          Citation       0.97      0.89      0.93       102\n",
      "                   ConclusionOfLaw       0.00      0.00      0.00        17\n",
      "                          Evidence       0.45      1.00      0.62       244\n",
      "EvidenceBased/Intermediate Finding       0.96      0.41      0.57        54\n",
      "            EvidenceBasedReasoning       0.00      0.00      0.00        86\n",
      "                            Header       1.00      0.52      0.68        79\n",
      "                       LegalPolicy       1.00      0.50      0.67         2\n",
      "                         LegalRule       0.96      0.60      0.74        73\n",
      "                         Procedure       1.00      0.39      0.56        94\n",
      "                RemandInstructions       1.00      0.05      0.10        38\n",
      "\n",
      "                          accuracy                           0.62       816\n",
      "                         macro avg       0.79      0.55      0.60       816\n",
      "                      weighted avg       0.70      0.62      0.57       816\n",
      "\n",
      "TFIDF RandomForest TEST:\n",
      "                                    precision    recall  f1-score   support\n",
      "\n",
      "                        CaseFooter       1.00      1.00      1.00         9\n",
      "                        CaseHeader       1.00      0.90      0.95        10\n",
      "                         CaseIssue       1.00      0.89      0.94         9\n",
      "                          Citation       0.92      0.93      0.93       134\n",
      "                   ConclusionOfLaw       0.00      0.00      0.00        18\n",
      "                          Evidence       0.41      0.99      0.58       214\n",
      "EvidenceBased/Intermediate Finding       0.87      0.21      0.34        62\n",
      "            EvidenceBasedReasoning       0.00      0.00      0.00        51\n",
      "                            Header       1.00      0.49      0.66        80\n",
      "                       LegalPolicy       0.00      0.00      0.00        11\n",
      "                         LegalRule       0.92      0.43      0.59       106\n",
      "              PolicyBasedReasoning       0.00      0.00      0.00         3\n",
      "                         Procedure       0.92      0.37      0.52        93\n",
      "                RemandInstructions       1.00      0.14      0.24        22\n",
      "\n",
      "                          accuracy                           0.60       822\n",
      "                         macro avg       0.65      0.45      0.48       822\n",
      "                      weighted avg       0.70      0.60      0.57       822\n",
      "\n"
     ]
    },
    {
     "name": "stderr",
     "output_type": "stream",
     "text": [
      "/opt/anaconda3/envs/ldsi/lib/python3.8/site-packages/sklearn/metrics/_classification.py:1245: UndefinedMetricWarning: Precision and F-score are ill-defined and being set to 0.0 in labels with no predicted samples. Use `zero_division` parameter to control this behavior.\n",
      "  _warn_prf(average, modifier, msg_start, len(result))\n",
      "/opt/anaconda3/envs/ldsi/lib/python3.8/site-packages/sklearn/metrics/_classification.py:1245: UndefinedMetricWarning: Precision and F-score are ill-defined and being set to 0.0 in labels with no predicted samples. Use `zero_division` parameter to control this behavior.\n",
      "  _warn_prf(average, modifier, msg_start, len(result))\n",
      "/opt/anaconda3/envs/ldsi/lib/python3.8/site-packages/sklearn/metrics/_classification.py:1245: UndefinedMetricWarning: Precision and F-score are ill-defined and being set to 0.0 in labels with no predicted samples. Use `zero_division` parameter to control this behavior.\n",
      "  _warn_prf(average, modifier, msg_start, len(result))\n",
      "/opt/anaconda3/envs/ldsi/lib/python3.8/site-packages/sklearn/metrics/_classification.py:1245: UndefinedMetricWarning: Precision and F-score are ill-defined and being set to 0.0 in labels with no predicted samples. Use `zero_division` parameter to control this behavior.\n",
      "  _warn_prf(average, modifier, msg_start, len(result))\n",
      "/opt/anaconda3/envs/ldsi/lib/python3.8/site-packages/sklearn/metrics/_classification.py:1245: UndefinedMetricWarning: Precision and F-score are ill-defined and being set to 0.0 in labels with no predicted samples. Use `zero_division` parameter to control this behavior.\n",
      "  _warn_prf(average, modifier, msg_start, len(result))\n",
      "/opt/anaconda3/envs/ldsi/lib/python3.8/site-packages/sklearn/metrics/_classification.py:1245: UndefinedMetricWarning: Precision and F-score are ill-defined and being set to 0.0 in labels with no predicted samples. Use `zero_division` parameter to control this behavior.\n",
      "  _warn_prf(average, modifier, msg_start, len(result))\n",
      "/opt/anaconda3/envs/ldsi/lib/python3.8/site-packages/sklearn/metrics/_classification.py:1245: UndefinedMetricWarning: Precision and F-score are ill-defined and being set to 0.0 in labels with no predicted samples. Use `zero_division` parameter to control this behavior.\n",
      "  _warn_prf(average, modifier, msg_start, len(result))\n",
      "/opt/anaconda3/envs/ldsi/lib/python3.8/site-packages/sklearn/metrics/_classification.py:1245: UndefinedMetricWarning: Precision and F-score are ill-defined and being set to 0.0 in labels with no predicted samples. Use `zero_division` parameter to control this behavior.\n",
      "  _warn_prf(average, modifier, msg_start, len(result))\n",
      "/opt/anaconda3/envs/ldsi/lib/python3.8/site-packages/sklearn/metrics/_classification.py:1245: UndefinedMetricWarning: Precision and F-score are ill-defined and being set to 0.0 in labels with no predicted samples. Use `zero_division` parameter to control this behavior.\n",
      "  _warn_prf(average, modifier, msg_start, len(result))\n"
     ]
    }
   ],
   "source": [
    "tfidf_clf_rf = RandomForestClassifier(n_estimators=100, max_depth=15)\n",
    "tfidf_clf_rf = tfidf_clf_rf.fit(tfidf_train_X, tfidf_train_y)\n",
    "print('TFIDF RandomForest TRAIN:\\n'+classification_report(train_spans_labels, tfidf_clf_rf.predict(tfidf_train_X)))\n",
    "print('TFIDF RandomForest DEV:\\n'+classification_report(val_spans_labels, tfidf_clf_rf.predict(tfidf_dev_X)))\n",
    "print('TFIDF RandomForest TEST:\\n'+classification_report(test_spans_labels, tfidf_clf_rf.predict(tfidf_test_X)))"
   ]
  },
  {
   "cell_type": "code",
   "execution_count": 57,
   "id": "c4d1387e",
   "metadata": {
    "scrolled": true
   },
   "outputs": [
    {
     "name": "stderr",
     "output_type": "stream",
     "text": [
      "/opt/anaconda3/envs/ldsi/lib/python3.8/site-packages/sklearn/metrics/_classification.py:1245: UndefinedMetricWarning: Precision and F-score are ill-defined and being set to 0.0 in labels with no predicted samples. Use `zero_division` parameter to control this behavior.\n",
      "  _warn_prf(average, modifier, msg_start, len(result))\n",
      "/opt/anaconda3/envs/ldsi/lib/python3.8/site-packages/sklearn/metrics/_classification.py:1245: UndefinedMetricWarning: Precision and F-score are ill-defined and being set to 0.0 in labels with no predicted samples. Use `zero_division` parameter to control this behavior.\n",
      "  _warn_prf(average, modifier, msg_start, len(result))\n",
      "/opt/anaconda3/envs/ldsi/lib/python3.8/site-packages/sklearn/metrics/_classification.py:1245: UndefinedMetricWarning: Precision and F-score are ill-defined and being set to 0.0 in labels with no predicted samples. Use `zero_division` parameter to control this behavior.\n",
      "  _warn_prf(average, modifier, msg_start, len(result))\n"
     ]
    },
    {
     "name": "stdout",
     "output_type": "stream",
     "text": [
      "TFIDF SVM TRAIN:\n",
      "                                    precision    recall  f1-score   support\n",
      "\n",
      "                        CaseFooter       0.00      0.00      0.00        88\n",
      "                        CaseHeader       0.00      0.00      0.00        82\n",
      "                         CaseIssue       0.00      0.00      0.00        77\n",
      "                          Citation       0.00      0.00      0.00      1019\n",
      "                   ConclusionOfLaw       0.00      0.00      0.00       169\n",
      "                          Evidence       0.27      1.00      0.43      2067\n",
      "EvidenceBased/Intermediate Finding       0.00      0.00      0.00       682\n",
      "            EvidenceBasedReasoning       0.00      0.00      0.00       526\n",
      "                            Header       0.00      0.00      0.00       718\n",
      "                       LegalPolicy       0.00      0.00      0.00        98\n",
      "                         LegalRule       0.00      0.00      0.00       849\n",
      "              PolicyBasedReasoning       0.00      0.00      0.00        25\n",
      "                         Procedure       0.00      0.00      0.00       838\n",
      "                RemandInstructions       0.00      0.00      0.00       364\n",
      "\n",
      "                          accuracy                           0.27      7602\n",
      "                         macro avg       0.02      0.07      0.03      7602\n",
      "                      weighted avg       0.07      0.27      0.12      7602\n",
      "\n",
      "TFIDF SVM TEST:\n",
      "                                    precision    recall  f1-score   support\n",
      "\n",
      "                        CaseFooter       0.00      0.00      0.00         9\n",
      "                        CaseHeader       0.00      0.00      0.00        10\n",
      "                         CaseIssue       0.00      0.00      0.00         9\n",
      "                          Citation       0.00      0.00      0.00       134\n",
      "                   ConclusionOfLaw       0.00      0.00      0.00        18\n",
      "                          Evidence       0.26      1.00      0.41       214\n",
      "EvidenceBased/Intermediate Finding       0.00      0.00      0.00        62\n",
      "            EvidenceBasedReasoning       0.00      0.00      0.00        51\n",
      "                            Header       0.00      0.00      0.00        80\n",
      "                       LegalPolicy       0.00      0.00      0.00        11\n",
      "                         LegalRule       0.00      0.00      0.00       106\n",
      "              PolicyBasedReasoning       0.00      0.00      0.00         3\n",
      "                         Procedure       0.00      0.00      0.00        93\n",
      "                RemandInstructions       0.00      0.00      0.00        22\n",
      "\n",
      "                          accuracy                           0.26       822\n",
      "                         macro avg       0.02      0.07      0.03       822\n",
      "                      weighted avg       0.07      0.26      0.11       822\n",
      "\n"
     ]
    },
    {
     "name": "stderr",
     "output_type": "stream",
     "text": [
      "/opt/anaconda3/envs/ldsi/lib/python3.8/site-packages/sklearn/metrics/_classification.py:1245: UndefinedMetricWarning: Precision and F-score are ill-defined and being set to 0.0 in labels with no predicted samples. Use `zero_division` parameter to control this behavior.\n",
      "  _warn_prf(average, modifier, msg_start, len(result))\n",
      "/opt/anaconda3/envs/ldsi/lib/python3.8/site-packages/sklearn/metrics/_classification.py:1245: UndefinedMetricWarning: Precision and F-score are ill-defined and being set to 0.0 in labels with no predicted samples. Use `zero_division` parameter to control this behavior.\n",
      "  _warn_prf(average, modifier, msg_start, len(result))\n",
      "/opt/anaconda3/envs/ldsi/lib/python3.8/site-packages/sklearn/metrics/_classification.py:1245: UndefinedMetricWarning: Precision and F-score are ill-defined and being set to 0.0 in labels with no predicted samples. Use `zero_division` parameter to control this behavior.\n",
      "  _warn_prf(average, modifier, msg_start, len(result))\n"
     ]
    }
   ],
   "source": [
    "tfidf_clf_svm = SVC(gamma='auto')\n",
    "tfidf_clf_svm = tfidf_clf_svm.fit(tfidf_train_X, tfidf_train_y)\n",
    "print('TFIDF SVM TRAIN:\\n'+classification_report(train_spans_labels, tfidf_clf_svm.predict(tfidf_train_X)))\n",
    "print('TFIDF SVM TEST:\\n'+classification_report(test_spans_labels, tfidf_clf_svm.predict(tfidf_test_X)))"
   ]
  },
  {
   "cell_type": "code",
   "execution_count": 170,
   "id": "e41480cc",
   "metadata": {
    "scrolled": true
   },
   "outputs": [
    {
     "name": "stdout",
     "output_type": "stream",
     "text": [
      "TFIDF DecisionTree TRAIN:\n",
      "                                    precision    recall  f1-score   support\n",
      "\n",
      "                        CaseFooter       0.99      0.97      0.98        88\n",
      "                        CaseHeader       0.99      0.96      0.98        82\n",
      "                         CaseIssue       1.00      0.99      0.99        77\n",
      "                          Citation       0.99      0.99      0.99      1019\n",
      "                   ConclusionOfLaw       0.93      0.85      0.89       169\n",
      "                          Evidence       0.76      0.95      0.85      2067\n",
      "EvidenceBased/Intermediate Finding       0.92      0.63      0.75       682\n",
      "            EvidenceBasedReasoning       0.64      0.56      0.59       526\n",
      "                            Header       0.95      0.99      0.97       718\n",
      "                       LegalPolicy       0.98      0.57      0.72        98\n",
      "                         LegalRule       0.84      0.80      0.82       849\n",
      "              PolicyBasedReasoning       1.00      0.44      0.61        25\n",
      "                         Procedure       0.95      0.89      0.92       838\n",
      "                RemandInstructions       0.94      0.73      0.82       364\n",
      "\n",
      "                          accuracy                           0.86      7602\n",
      "                         macro avg       0.92      0.81      0.85      7602\n",
      "                      weighted avg       0.87      0.86      0.86      7602\n",
      "\n",
      "TFIDF DecisionTree DEV:\n",
      "                                    precision    recall  f1-score   support\n",
      "\n",
      "                        CaseFooter       0.90      1.00      0.95         9\n",
      "                        CaseHeader       1.00      1.00      1.00         9\n",
      "                         CaseIssue       1.00      0.89      0.94         9\n",
      "                          Citation       0.98      0.97      0.98       102\n",
      "                   ConclusionOfLaw       0.81      0.76      0.79        17\n",
      "                          Evidence       0.74      0.91      0.82       244\n",
      "EvidenceBased/Intermediate Finding       0.54      0.50      0.52        54\n",
      "            EvidenceBasedReasoning       0.56      0.36      0.44        86\n",
      "                            Header       0.97      0.99      0.98        79\n",
      "                       LegalPolicy       0.50      0.50      0.50         2\n",
      "                         LegalRule       0.74      0.70      0.72        73\n",
      "                         Procedure       0.91      0.84      0.87        94\n",
      "                RemandInstructions       0.70      0.55      0.62        38\n",
      "\n",
      "                          accuracy                           0.79       816\n",
      "                         macro avg       0.80      0.77      0.78       816\n",
      "                      weighted avg       0.79      0.79      0.79       816\n",
      "\n",
      "TFIDF DecisionTree TEST:\n",
      "                                    precision    recall  f1-score   support\n",
      "\n",
      "                        CaseFooter       0.90      1.00      0.95         9\n",
      "                        CaseHeader       1.00      0.90      0.95        10\n",
      "                         CaseIssue       0.89      0.89      0.89         9\n",
      "                          Citation       0.96      0.97      0.96       134\n",
      "                   ConclusionOfLaw       0.67      0.67      0.67        18\n",
      "                          Evidence       0.66      0.81      0.73       214\n",
      "EvidenceBased/Intermediate Finding       0.42      0.31      0.36        62\n",
      "            EvidenceBasedReasoning       0.22      0.22      0.22        51\n",
      "                            Header       0.87      0.99      0.92        80\n",
      "                       LegalPolicy       0.33      0.09      0.14        11\n",
      "                         LegalRule       0.71      0.59      0.65       106\n",
      "              PolicyBasedReasoning       0.00      0.00      0.00         3\n",
      "                         Procedure       0.87      0.77      0.82        93\n",
      "                RemandInstructions       0.67      0.55      0.60        22\n",
      "\n",
      "                          accuracy                           0.73       822\n",
      "                         macro avg       0.65      0.62      0.63       822\n",
      "                      weighted avg       0.72      0.73      0.72       822\n",
      "\n"
     ]
    }
   ],
   "source": [
    "tfidf_clf_dt = tree.DecisionTreeClassifier(max_depth=15)\n",
    "tfidf_clf_dt = tfidf_clf_dt.fit(tfidf_train_X, tfidf_train_y)\n",
    "print('TFIDF DecisionTree TRAIN:\\n'+classification_report(train_spans_labels, tfidf_clf_dt.predict(tfidf_train_X)))\n",
    "print('TFIDF DecisionTree DEV:\\n'+classification_report(val_spans_labels, tfidf_clf_dt.predict(tfidf_dev_X)))\n",
    "print('TFIDF DecisionTree TEST:\\n'+classification_report(test_spans_labels, tfidf_clf_dt.predict(tfidf_test_X)))"
   ]
  },
  {
   "cell_type": "code",
   "execution_count": 172,
   "id": "fbcccc4b",
   "metadata": {
    "scrolled": true
   },
   "outputs": [
    {
     "name": "stderr",
     "output_type": "stream",
     "text": [
      "/opt/anaconda3/envs/ldsi/lib/python3.8/site-packages/sklearn/metrics/_classification.py:1245: UndefinedMetricWarning: Precision and F-score are ill-defined and being set to 0.0 in labels with no predicted samples. Use `zero_division` parameter to control this behavior.\n",
      "  _warn_prf(average, modifier, msg_start, len(result))\n",
      "/opt/anaconda3/envs/ldsi/lib/python3.8/site-packages/sklearn/metrics/_classification.py:1245: UndefinedMetricWarning: Precision and F-score are ill-defined and being set to 0.0 in labels with no predicted samples. Use `zero_division` parameter to control this behavior.\n",
      "  _warn_prf(average, modifier, msg_start, len(result))\n",
      "/opt/anaconda3/envs/ldsi/lib/python3.8/site-packages/sklearn/metrics/_classification.py:1245: UndefinedMetricWarning: Precision and F-score are ill-defined and being set to 0.0 in labels with no predicted samples. Use `zero_division` parameter to control this behavior.\n",
      "  _warn_prf(average, modifier, msg_start, len(result))\n"
     ]
    },
    {
     "name": "stdout",
     "output_type": "stream",
     "text": [
      "TFIDF MLP TRAIN:\n",
      "                                    precision    recall  f1-score   support\n",
      "\n",
      "                        CaseFooter       0.96      0.97      0.96        88\n",
      "                        CaseHeader       0.98      0.96      0.97        82\n",
      "                         CaseIssue       0.95      0.94      0.94        77\n",
      "                          Citation       0.98      1.00      0.99      1019\n",
      "                   ConclusionOfLaw       0.86      0.88      0.87       169\n",
      "                          Evidence       0.92      0.98      0.95      2067\n",
      "EvidenceBased/Intermediate Finding       0.87      0.86      0.87       682\n",
      "            EvidenceBasedReasoning       0.87      0.77      0.82       526\n",
      "                            Header       0.99      0.98      0.99       718\n",
      "                       LegalPolicy       0.84      0.28      0.42        98\n",
      "                         LegalRule       0.91      0.94      0.92       849\n",
      "              PolicyBasedReasoning       0.00      0.00      0.00        25\n",
      "                         Procedure       0.97      0.93      0.95       838\n",
      "                RemandInstructions       0.92      0.94      0.93       364\n",
      "\n",
      "                          accuracy                           0.93      7602\n",
      "                         macro avg       0.86      0.82      0.83      7602\n",
      "                      weighted avg       0.93      0.93      0.93      7602\n",
      "\n",
      "TFIDF MLP DEV:\n",
      "                                    precision    recall  f1-score   support\n",
      "\n",
      "                        CaseFooter       1.00      1.00      1.00         9\n",
      "                        CaseHeader       1.00      1.00      1.00         9\n",
      "                         CaseIssue       0.82      1.00      0.90         9\n",
      "                          Citation       0.99      0.93      0.96       102\n",
      "                   ConclusionOfLaw       0.87      0.76      0.81        17\n",
      "                          Evidence       0.76      0.92      0.83       244\n",
      "EvidenceBased/Intermediate Finding       0.60      0.72      0.66        54\n",
      "            EvidenceBasedReasoning       0.52      0.26      0.34        86\n",
      "                            Header       1.00      0.97      0.99        79\n",
      "                       LegalPolicy       0.33      0.50      0.40         2\n",
      "                         LegalRule       0.89      0.90      0.90        73\n",
      "                         Procedure       0.95      0.85      0.90        94\n",
      "                RemandInstructions       0.77      0.71      0.74        38\n",
      "\n",
      "                          accuracy                           0.82       816\n",
      "                         macro avg       0.81      0.81      0.80       816\n",
      "                      weighted avg       0.82      0.82      0.81       816\n",
      "\n",
      "TFIDF MLP TEST:\n",
      "                                    precision    recall  f1-score   support\n",
      "\n",
      "                        CaseFooter       1.00      1.00      1.00         9\n",
      "                        CaseHeader       1.00      0.90      0.95        10\n",
      "                         CaseIssue       0.90      1.00      0.95         9\n",
      "                          Citation       0.96      0.93      0.95       134\n",
      "                   ConclusionOfLaw       0.74      0.78      0.76        18\n",
      "                          Evidence       0.77      0.89      0.83       214\n",
      "EvidenceBased/Intermediate Finding       0.56      0.60      0.58        62\n",
      "            EvidenceBasedReasoning       0.23      0.18      0.20        51\n",
      "                            Header       0.95      0.94      0.94        80\n",
      "                       LegalPolicy       0.50      0.09      0.15        11\n",
      "                         LegalRule       0.81      0.82      0.82       106\n",
      "              PolicyBasedReasoning       0.00      0.00      0.00         3\n",
      "                         Procedure       0.89      0.84      0.86        93\n",
      "                RemandInstructions       0.81      0.59      0.68        22\n",
      "\n",
      "                          accuracy                           0.80       822\n",
      "                         macro avg       0.72      0.68      0.69       822\n",
      "                      weighted avg       0.79      0.80      0.79       822\n",
      "\n"
     ]
    },
    {
     "name": "stderr",
     "output_type": "stream",
     "text": [
      "/opt/anaconda3/envs/ldsi/lib/python3.8/site-packages/sklearn/metrics/_classification.py:1245: UndefinedMetricWarning: Precision and F-score are ill-defined and being set to 0.0 in labels with no predicted samples. Use `zero_division` parameter to control this behavior.\n",
      "  _warn_prf(average, modifier, msg_start, len(result))\n",
      "/opt/anaconda3/envs/ldsi/lib/python3.8/site-packages/sklearn/metrics/_classification.py:1245: UndefinedMetricWarning: Precision and F-score are ill-defined and being set to 0.0 in labels with no predicted samples. Use `zero_division` parameter to control this behavior.\n",
      "  _warn_prf(average, modifier, msg_start, len(result))\n",
      "/opt/anaconda3/envs/ldsi/lib/python3.8/site-packages/sklearn/metrics/_classification.py:1245: UndefinedMetricWarning: Precision and F-score are ill-defined and being set to 0.0 in labels with no predicted samples. Use `zero_division` parameter to control this behavior.\n",
      "  _warn_prf(average, modifier, msg_start, len(result))\n"
     ]
    }
   ],
   "source": [
    "from sklearn.neural_network import MLPClassifier\n",
    "\n",
    "tfidf_clf_mlp = MLPClassifier(random_state=1, early_stopping=True, max_iter=300).fit(tfidf_train_X, tfidf_train_y)\n",
    "print('TFIDF MLP TRAIN:\\n'+classification_report(train_spans_labels, tfidf_clf_mlp.predict(tfidf_train_X)))\n",
    "print('TFIDF MLP DEV:\\n'+classification_report(val_spans_labels, tfidf_clf_mlp.predict(tfidf_dev_X)))\n",
    "print('TFIDF MLP TEST:\\n'+classification_report(test_spans_labels, tfidf_clf_mlp.predict(tfidf_test_X)))"
   ]
  },
  {
   "cell_type": "markdown",
   "id": "2456652e",
   "metadata": {},
   "source": [
    "retrain on train and dev set"
   ]
  },
  {
   "cell_type": "code",
   "execution_count": 259,
   "id": "db8a70bc",
   "metadata": {
    "scrolled": true
   },
   "outputs": [
    {
     "name": "stdout",
     "output_type": "stream",
     "text": [
      "TFIDF MLP TRAIN:\n",
      "                                    precision    recall  f1-score   support\n",
      "\n",
      "                        CaseFooter       0.95      0.97      0.96        97\n",
      "                        CaseHeader       0.98      0.97      0.97        91\n",
      "                         CaseIssue       0.92      0.94      0.93        86\n",
      "                          Citation       0.98      0.99      0.99      1121\n",
      "                   ConclusionOfLaw       0.86      0.87      0.86       186\n",
      "                          Evidence       0.92      0.98      0.95      2311\n",
      "EvidenceBased/Intermediate Finding       0.89      0.84      0.87       736\n",
      "            EvidenceBasedReasoning       0.86      0.77      0.82       612\n",
      "                            Header       0.99      0.98      0.98       797\n",
      "                       LegalPolicy       0.80      0.35      0.49       100\n",
      "                         LegalRule       0.91      0.94      0.92       922\n",
      "              PolicyBasedReasoning       0.00      0.00      0.00        25\n",
      "                         Procedure       0.97      0.95      0.96       932\n",
      "                RemandInstructions       0.93      0.92      0.92       402\n",
      "\n",
      "                          accuracy                           0.93      8418\n",
      "                         macro avg       0.85      0.82      0.83      8418\n",
      "                      weighted avg       0.93      0.93      0.93      8418\n",
      "\n",
      "TFIDF MLP TEST:\n",
      "                                    precision    recall  f1-score   support\n",
      "\n",
      "                        CaseFooter       1.00      1.00      1.00         9\n",
      "                        CaseHeader       1.00      0.90      0.95        10\n",
      "                         CaseIssue       0.90      1.00      0.95         9\n",
      "                          Citation       0.94      0.93      0.94       134\n",
      "                   ConclusionOfLaw       0.74      0.78      0.76        18\n",
      "                          Evidence       0.77      0.90      0.83       214\n",
      "EvidenceBased/Intermediate Finding       0.56      0.52      0.54        62\n",
      "            EvidenceBasedReasoning       0.27      0.22      0.24        51\n",
      "                            Header       0.95      0.94      0.94        80\n",
      "                       LegalPolicy       0.50      0.09      0.15        11\n",
      "                         LegalRule       0.79      0.80      0.80       106\n",
      "              PolicyBasedReasoning       0.00      0.00      0.00         3\n",
      "                         Procedure       0.88      0.86      0.87        93\n",
      "                RemandInstructions       0.87      0.59      0.70        22\n",
      "\n",
      "                          accuracy                           0.80       822\n",
      "                         macro avg       0.73      0.68      0.69       822\n",
      "                      weighted avg       0.79      0.80      0.79       822\n",
      "\n"
     ]
    },
    {
     "name": "stderr",
     "output_type": "stream",
     "text": [
      "/opt/anaconda3/envs/ldsi/lib/python3.8/site-packages/sklearn/metrics/_classification.py:1245: UndefinedMetricWarning: Precision and F-score are ill-defined and being set to 0.0 in labels with no predicted samples. Use `zero_division` parameter to control this behavior.\n",
      "  _warn_prf(average, modifier, msg_start, len(result))\n",
      "/opt/anaconda3/envs/ldsi/lib/python3.8/site-packages/sklearn/metrics/_classification.py:1245: UndefinedMetricWarning: Precision and F-score are ill-defined and being set to 0.0 in labels with no predicted samples. Use `zero_division` parameter to control this behavior.\n",
      "  _warn_prf(average, modifier, msg_start, len(result))\n",
      "/opt/anaconda3/envs/ldsi/lib/python3.8/site-packages/sklearn/metrics/_classification.py:1245: UndefinedMetricWarning: Precision and F-score are ill-defined and being set to 0.0 in labels with no predicted samples. Use `zero_division` parameter to control this behavior.\n",
      "  _warn_prf(average, modifier, msg_start, len(result))\n",
      "/opt/anaconda3/envs/ldsi/lib/python3.8/site-packages/sklearn/metrics/_classification.py:1245: UndefinedMetricWarning: Precision and F-score are ill-defined and being set to 0.0 in labels with no predicted samples. Use `zero_division` parameter to control this behavior.\n",
      "  _warn_prf(average, modifier, msg_start, len(result))\n",
      "/opt/anaconda3/envs/ldsi/lib/python3.8/site-packages/sklearn/metrics/_classification.py:1245: UndefinedMetricWarning: Precision and F-score are ill-defined and being set to 0.0 in labels with no predicted samples. Use `zero_division` parameter to control this behavior.\n",
      "  _warn_prf(average, modifier, msg_start, len(result))\n",
      "/opt/anaconda3/envs/ldsi/lib/python3.8/site-packages/sklearn/metrics/_classification.py:1245: UndefinedMetricWarning: Precision and F-score are ill-defined and being set to 0.0 in labels with no predicted samples. Use `zero_division` parameter to control this behavior.\n",
      "  _warn_prf(average, modifier, msg_start, len(result))\n"
     ]
    }
   ],
   "source": [
    "tfidf_clf_mlp = MLPClassifier(random_state=1, early_stopping=True, max_iter=300).fit(tfidf_train_dev_X, tfidf_train_dev_y)\n",
    "print('TFIDF MLP TRAIN:\\n'+classification_report(tfidf_train_dev_y, tfidf_clf_mlp.predict(tfidf_train_dev_X)))\n",
    "print('TFIDF MLP TEST:\\n'+classification_report(test_spans_labels, tfidf_clf_mlp.predict(tfidf_test_X)))"
   ]
  },
  {
   "cell_type": "markdown",
   "id": "7b6ad65c",
   "metadata": {},
   "source": [
    "### Train with word embedding"
   ]
  },
  {
   "cell_type": "code",
   "execution_count": 174,
   "id": "dedc8389",
   "metadata": {
    "scrolled": true
   },
   "outputs": [
    {
     "name": "stdout",
     "output_type": "stream",
     "text": [
      "Embedding GaussianNB TRAIN:\n",
      "                                    precision    recall  f1-score   support\n",
      "\n",
      "                        CaseFooter       1.00      0.75      0.86        88\n",
      "                        CaseHeader       0.97      0.94      0.96        82\n",
      "                         CaseIssue       0.86      0.95      0.90        77\n",
      "                          Citation       0.97      0.90      0.94      1019\n",
      "                   ConclusionOfLaw       0.45      0.63      0.53       169\n",
      "                          Evidence       0.83      0.63      0.71      2067\n",
      "EvidenceBased/Intermediate Finding       0.30      0.22      0.26       682\n",
      "            EvidenceBasedReasoning       0.23      0.50      0.31       526\n",
      "                            Header       0.77      0.74      0.75       718\n",
      "                       LegalPolicy       0.13      0.39      0.19        98\n",
      "                         LegalRule       0.68      0.52      0.59       849\n",
      "              PolicyBasedReasoning       0.06      0.64      0.10        25\n",
      "                         Procedure       0.59      0.44      0.50       838\n",
      "                RemandInstructions       0.55      0.63      0.58       364\n",
      "\n",
      "                          accuracy                           0.60      7602\n",
      "                         macro avg       0.60      0.63      0.58      7602\n",
      "                      weighted avg       0.68      0.60      0.63      7602\n",
      "\n",
      "Embedding GaussianNB DEV:\n",
      "                                    precision    recall  f1-score   support\n",
      "\n",
      "                        CaseFooter       1.00      1.00      1.00         9\n",
      "                        CaseHeader       1.00      1.00      1.00         9\n",
      "                         CaseIssue       1.00      1.00      1.00         9\n",
      "                          Citation       1.00      0.89      0.94       102\n",
      "                   ConclusionOfLaw       0.52      0.76      0.62        17\n",
      "                          Evidence       0.84      0.62      0.72       244\n",
      "EvidenceBased/Intermediate Finding       0.19      0.17      0.18        54\n",
      "            EvidenceBasedReasoning       0.32      0.50      0.39        86\n",
      "                            Header       0.76      0.73      0.75        79\n",
      "                       LegalPolicy       0.07      1.00      0.14         2\n",
      "                         LegalRule       0.69      0.62      0.65        73\n",
      "              PolicyBasedReasoning       0.00      0.00      0.00         0\n",
      "                         Procedure       0.62      0.51      0.56        94\n",
      "                RemandInstructions       0.56      0.66      0.60        38\n",
      "\n",
      "                          accuracy                           0.63       816\n",
      "                         macro avg       0.61      0.68      0.61       816\n",
      "                      weighted avg       0.70      0.63      0.65       816\n",
      "\n"
     ]
    },
    {
     "name": "stderr",
     "output_type": "stream",
     "text": [
      "/opt/anaconda3/envs/ldsi/lib/python3.8/site-packages/sklearn/metrics/_classification.py:1245: UndefinedMetricWarning: Recall and F-score are ill-defined and being set to 0.0 in labels with no true samples. Use `zero_division` parameter to control this behavior.\n",
      "  _warn_prf(average, modifier, msg_start, len(result))\n",
      "/opt/anaconda3/envs/ldsi/lib/python3.8/site-packages/sklearn/metrics/_classification.py:1245: UndefinedMetricWarning: Recall and F-score are ill-defined and being set to 0.0 in labels with no true samples. Use `zero_division` parameter to control this behavior.\n",
      "  _warn_prf(average, modifier, msg_start, len(result))\n",
      "/opt/anaconda3/envs/ldsi/lib/python3.8/site-packages/sklearn/metrics/_classification.py:1245: UndefinedMetricWarning: Recall and F-score are ill-defined and being set to 0.0 in labels with no true samples. Use `zero_division` parameter to control this behavior.\n",
      "  _warn_prf(average, modifier, msg_start, len(result))\n"
     ]
    }
   ],
   "source": [
    "embedding_clf_nb = GaussianNB() \n",
    "embedding_clf_nb = embedding_clf_nb.fit(embedding_train_X, embedding_train_y)\n",
    "print('Embedding GaussianNB TRAIN:\\n'+classification_report(train_spans_labels, embedding_clf_nb.predict(embedding_train_X)))\n",
    "print('Embedding GaussianNB DEV:\\n'+classification_report(val_spans_labels, embedding_clf_nb.predict(embedding_dev_X)))"
   ]
  },
  {
   "cell_type": "code",
   "execution_count": 93,
   "id": "037765b6",
   "metadata": {
    "scrolled": true
   },
   "outputs": [
    {
     "name": "stdout",
     "output_type": "stream",
     "text": [
      "Embedding LogisticRegression TRAIN:\n",
      "                                    precision    recall  f1-score   support\n",
      "\n",
      "                        CaseFooter       0.98      0.97      0.97        88\n",
      "                        CaseHeader       0.98      0.98      0.98        82\n",
      "                         CaseIssue       0.94      0.99      0.96        77\n",
      "                          Citation       0.98      0.99      0.98      1019\n",
      "                   ConclusionOfLaw       0.82      0.80      0.81       169\n",
      "                          Evidence       0.80      0.90      0.84      2067\n",
      "EvidenceBased/Intermediate Finding       0.54      0.51      0.53       682\n",
      "            EvidenceBasedReasoning       0.45      0.26      0.33       526\n",
      "                            Header       0.99      0.99      0.99       718\n",
      "                       LegalPolicy       0.61      0.36      0.45        98\n",
      "                         LegalRule       0.75      0.82      0.78       849\n",
      "              PolicyBasedReasoning       1.00      0.12      0.21        25\n",
      "                         Procedure       0.88      0.86      0.87       838\n",
      "                RemandInstructions       0.83      0.79      0.81       364\n",
      "\n",
      "                          accuracy                           0.81      7602\n",
      "                         macro avg       0.82      0.74      0.75      7602\n",
      "                      weighted avg       0.80      0.81      0.80      7602\n",
      "\n",
      "Embedding LogisticRegression DEV:\n",
      "                                    precision    recall  f1-score   support\n",
      "\n",
      "                        CaseFooter       1.00      1.00      1.00         9\n",
      "                        CaseHeader       1.00      1.00      1.00         9\n",
      "                         CaseIssue       1.00      0.89      0.94         9\n",
      "                          Citation       0.99      0.98      0.99       102\n",
      "                   ConclusionOfLaw       0.73      0.94      0.82        17\n",
      "                          Evidence       0.80      0.92      0.86       244\n",
      "EvidenceBased/Intermediate Finding       0.55      0.59      0.57        54\n",
      "            EvidenceBasedReasoning       0.53      0.23      0.32        86\n",
      "                            Header       0.99      0.97      0.98        79\n",
      "                       LegalPolicy       0.50      0.50      0.50         2\n",
      "                         LegalRule       0.74      0.88      0.80        73\n",
      "                         Procedure       0.97      0.89      0.93        94\n",
      "                RemandInstructions       0.86      0.82      0.84        38\n",
      "\n",
      "                          accuracy                           0.83       816\n",
      "                         macro avg       0.82      0.82      0.81       816\n",
      "                      weighted avg       0.82      0.83      0.81       816\n",
      "\n"
     ]
    },
    {
     "name": "stderr",
     "output_type": "stream",
     "text": [
      "/opt/anaconda3/envs/ldsi/lib/python3.8/site-packages/sklearn/linear_model/_logistic.py:763: ConvergenceWarning: lbfgs failed to converge (status=1):\n",
      "STOP: TOTAL NO. of ITERATIONS REACHED LIMIT.\n",
      "\n",
      "Increase the number of iterations (max_iter) or scale the data as shown in:\n",
      "    https://scikit-learn.org/stable/modules/preprocessing.html\n",
      "Please also refer to the documentation for alternative solver options:\n",
      "    https://scikit-learn.org/stable/modules/linear_model.html#logistic-regression\n",
      "  n_iter_i = _check_optimize_result(\n"
     ]
    }
   ],
   "source": [
    "embedding_clf_lr = LogisticRegression(max_iter=250)\n",
    "embedding_clf_lr = embedding_clf_lr.fit(embedding_train_X, embedding_train_y)\n",
    "print('Embedding LogisticRegression TRAIN:\\n'+classification_report(train_spans_labels, embedding_clf_lr.predict(embedding_train_X)))\n",
    "print('Embedding LogisticRegression DEV:\\n'+classification_report(val_spans_labels, embedding_clf_lr.predict(embedding_dev_X)))"
   ]
  },
  {
   "cell_type": "code",
   "execution_count": 94,
   "id": "11f26092",
   "metadata": {
    "scrolled": true
   },
   "outputs": [
    {
     "name": "stdout",
     "output_type": "stream",
     "text": [
      "Embedding LogisticRegression TEST:\n",
      "                                    precision    recall  f1-score   support\n",
      "\n",
      "                        CaseFooter       0.75      1.00      0.86         9\n",
      "                        CaseHeader       1.00      0.90      0.95        10\n",
      "                         CaseIssue       1.00      1.00      1.00         9\n",
      "                          Citation       0.96      0.92      0.94       134\n",
      "                   ConclusionOfLaw       0.68      0.72      0.70        18\n",
      "                          Evidence       0.81      0.87      0.84       214\n",
      "EvidenceBased/Intermediate Finding       0.47      0.61      0.54        62\n",
      "            EvidenceBasedReasoning       0.32      0.16      0.21        51\n",
      "                            Header       0.98      0.99      0.98        80\n",
      "                       LegalPolicy       0.25      0.18      0.21        11\n",
      "                         LegalRule       0.78      0.78      0.78       106\n",
      "              PolicyBasedReasoning       0.00      0.00      0.00         3\n",
      "                         Procedure       0.87      0.87      0.87        93\n",
      "                RemandInstructions       0.81      0.77      0.79        22\n",
      "\n",
      "                          accuracy                           0.80       822\n",
      "                         macro avg       0.69      0.70      0.69       822\n",
      "                      weighted avg       0.79      0.80      0.79       822\n",
      "\n"
     ]
    },
    {
     "name": "stderr",
     "output_type": "stream",
     "text": [
      "/opt/anaconda3/envs/ldsi/lib/python3.8/site-packages/sklearn/metrics/_classification.py:1245: UndefinedMetricWarning: Precision and F-score are ill-defined and being set to 0.0 in labels with no predicted samples. Use `zero_division` parameter to control this behavior.\n",
      "  _warn_prf(average, modifier, msg_start, len(result))\n",
      "/opt/anaconda3/envs/ldsi/lib/python3.8/site-packages/sklearn/metrics/_classification.py:1245: UndefinedMetricWarning: Precision and F-score are ill-defined and being set to 0.0 in labels with no predicted samples. Use `zero_division` parameter to control this behavior.\n",
      "  _warn_prf(average, modifier, msg_start, len(result))\n",
      "/opt/anaconda3/envs/ldsi/lib/python3.8/site-packages/sklearn/metrics/_classification.py:1245: UndefinedMetricWarning: Precision and F-score are ill-defined and being set to 0.0 in labels with no predicted samples. Use `zero_division` parameter to control this behavior.\n",
      "  _warn_prf(average, modifier, msg_start, len(result))\n"
     ]
    }
   ],
   "source": [
    "print('Embedding LogisticRegression TEST:\\n'+classification_report(test_spans_labels, embedding_clf_lr.predict(embedding_test_X)))"
   ]
  },
  {
   "cell_type": "code",
   "execution_count": 95,
   "id": "4c2537e4",
   "metadata": {
    "scrolled": true
   },
   "outputs": [
    {
     "name": "stderr",
     "output_type": "stream",
     "text": [
      "/opt/anaconda3/envs/ldsi/lib/python3.8/site-packages/sklearn/metrics/_classification.py:1245: UndefinedMetricWarning: Precision and F-score are ill-defined and being set to 0.0 in labels with no predicted samples. Use `zero_division` parameter to control this behavior.\n",
      "  _warn_prf(average, modifier, msg_start, len(result))\n",
      "/opt/anaconda3/envs/ldsi/lib/python3.8/site-packages/sklearn/metrics/_classification.py:1245: UndefinedMetricWarning: Precision and F-score are ill-defined and being set to 0.0 in labels with no predicted samples. Use `zero_division` parameter to control this behavior.\n",
      "  _warn_prf(average, modifier, msg_start, len(result))\n",
      "/opt/anaconda3/envs/ldsi/lib/python3.8/site-packages/sklearn/metrics/_classification.py:1245: UndefinedMetricWarning: Precision and F-score are ill-defined and being set to 0.0 in labels with no predicted samples. Use `zero_division` parameter to control this behavior.\n",
      "  _warn_prf(average, modifier, msg_start, len(result))\n"
     ]
    },
    {
     "name": "stdout",
     "output_type": "stream",
     "text": [
      "Embedding SVM TRAIN:\n",
      "                                    precision    recall  f1-score   support\n",
      "\n",
      "                        CaseFooter       0.95      0.95      0.95        88\n",
      "                        CaseHeader       0.98      0.98      0.98        82\n",
      "                         CaseIssue       0.91      0.97      0.94        77\n",
      "                          Citation       0.97      0.99      0.98      1019\n",
      "                   ConclusionOfLaw       0.85      0.81      0.83       169\n",
      "                          Evidence       0.78      0.95      0.86      2067\n",
      "EvidenceBased/Intermediate Finding       0.60      0.62      0.61       682\n",
      "            EvidenceBasedReasoning       0.64      0.17      0.28       526\n",
      "                            Header       0.99      0.99      0.99       718\n",
      "                       LegalPolicy       0.74      0.23      0.36        98\n",
      "                         LegalRule       0.79      0.87      0.83       849\n",
      "              PolicyBasedReasoning       0.00      0.00      0.00        25\n",
      "                         Procedure       0.90      0.85      0.87       838\n",
      "                RemandInstructions       0.88      0.78      0.83       364\n",
      "\n",
      "                          accuracy                           0.83      7602\n",
      "                         macro avg       0.79      0.73      0.74      7602\n",
      "                      weighted avg       0.82      0.83      0.81      7602\n",
      "\n",
      "Embedding SVM TEST:\n",
      "                                    precision    recall  f1-score   support\n",
      "\n",
      "                        CaseFooter       1.00      1.00      1.00         9\n",
      "                        CaseHeader       1.00      0.90      0.95        10\n",
      "                         CaseIssue       1.00      1.00      1.00         9\n",
      "                          Citation       0.94      0.99      0.96       134\n",
      "                   ConclusionOfLaw       0.75      0.83      0.79        18\n",
      "                          Evidence       0.82      0.90      0.86       214\n",
      "EvidenceBased/Intermediate Finding       0.51      0.60      0.55        62\n",
      "            EvidenceBasedReasoning       0.24      0.08      0.12        51\n",
      "                            Header       0.94      0.99      0.96        80\n",
      "                       LegalPolicy       0.33      0.09      0.14        11\n",
      "                         LegalRule       0.74      0.80      0.77       106\n",
      "              PolicyBasedReasoning       0.00      0.00      0.00         3\n",
      "                         Procedure       0.88      0.87      0.88        93\n",
      "                RemandInstructions       0.88      0.68      0.77        22\n",
      "\n",
      "                          accuracy                           0.81       822\n",
      "                         macro avg       0.72      0.69      0.70       822\n",
      "                      weighted avg       0.79      0.81      0.80       822\n",
      "\n"
     ]
    },
    {
     "name": "stderr",
     "output_type": "stream",
     "text": [
      "/opt/anaconda3/envs/ldsi/lib/python3.8/site-packages/sklearn/metrics/_classification.py:1245: UndefinedMetricWarning: Precision and F-score are ill-defined and being set to 0.0 in labels with no predicted samples. Use `zero_division` parameter to control this behavior.\n",
      "  _warn_prf(average, modifier, msg_start, len(result))\n",
      "/opt/anaconda3/envs/ldsi/lib/python3.8/site-packages/sklearn/metrics/_classification.py:1245: UndefinedMetricWarning: Precision and F-score are ill-defined and being set to 0.0 in labels with no predicted samples. Use `zero_division` parameter to control this behavior.\n",
      "  _warn_prf(average, modifier, msg_start, len(result))\n",
      "/opt/anaconda3/envs/ldsi/lib/python3.8/site-packages/sklearn/metrics/_classification.py:1245: UndefinedMetricWarning: Precision and F-score are ill-defined and being set to 0.0 in labels with no predicted samples. Use `zero_division` parameter to control this behavior.\n",
      "  _warn_prf(average, modifier, msg_start, len(result))\n"
     ]
    }
   ],
   "source": [
    "embedding_clf_svm = SVC(gamma='auto')\n",
    "embedding_clf_svm = embedding_clf_svm.fit(embedding_train_X, embedding_train_y)\n",
    "print('Embedding SVM TRAIN:\\n'+classification_report(train_spans_labels, embedding_clf_svm.predict(embedding_train_X)))\n",
    "print('Embedding SVM TEST:\\n'+classification_report(test_spans_labels, embedding_clf_svm.predict(embedding_test_X)))"
   ]
  },
  {
   "cell_type": "code",
   "execution_count": 107,
   "id": "02b6ca96",
   "metadata": {
    "scrolled": true
   },
   "outputs": [
    {
     "name": "stdout",
     "output_type": "stream",
     "text": [
      "Embedding RandomForest TRAIN:\n",
      "                                    precision    recall  f1-score   support\n",
      "\n",
      "                        CaseFooter       0.99      1.00      0.99        88\n",
      "                        CaseHeader       1.00      0.99      0.99        82\n",
      "                         CaseIssue       1.00      1.00      1.00        77\n",
      "                          Citation       1.00      1.00      1.00      1019\n",
      "                   ConclusionOfLaw       0.98      0.99      0.99       169\n",
      "                          Evidence       0.96      1.00      0.98      2067\n",
      "EvidenceBased/Intermediate Finding       0.98      0.97      0.98       682\n",
      "            EvidenceBasedReasoning       1.00      0.90      0.95       526\n",
      "                            Header       1.00      1.00      1.00       718\n",
      "                       LegalPolicy       1.00      0.86      0.92        98\n",
      "                         LegalRule       0.97      0.99      0.98       849\n",
      "              PolicyBasedReasoning       1.00      0.76      0.86        25\n",
      "                         Procedure       1.00      0.97      0.99       838\n",
      "                RemandInstructions       0.99      0.97      0.98       364\n",
      "\n",
      "                          accuracy                           0.98      7602\n",
      "                         macro avg       0.99      0.96      0.97      7602\n",
      "                      weighted avg       0.98      0.98      0.98      7602\n",
      "\n",
      "Embedding RandomForest DEV:\n",
      "                                    precision    recall  f1-score   support\n",
      "\n",
      "                        CaseFooter       1.00      1.00      1.00         9\n",
      "                        CaseHeader       1.00      1.00      1.00         9\n",
      "                         CaseIssue       1.00      1.00      1.00         9\n",
      "                          Citation       1.00      0.99      1.00       102\n",
      "                   ConclusionOfLaw       0.86      0.71      0.77        17\n",
      "                          Evidence       0.73      0.96      0.83       244\n",
      "EvidenceBased/Intermediate Finding       0.52      0.65      0.58        54\n",
      "            EvidenceBasedReasoning       0.78      0.08      0.15        86\n",
      "                            Header       1.00      0.96      0.98        79\n",
      "                       LegalPolicy       1.00      1.00      1.00         2\n",
      "                         LegalRule       0.78      0.88      0.83        73\n",
      "                         Procedure       0.94      0.88      0.91        94\n",
      "                RemandInstructions       0.93      0.68      0.79        38\n",
      "\n",
      "                          accuracy                           0.82       816\n",
      "                         macro avg       0.89      0.83      0.83       816\n",
      "                      weighted avg       0.83      0.82      0.79       816\n",
      "\n",
      "Embedding RandomForest TEST:\n",
      "                                    precision    recall  f1-score   support\n",
      "\n",
      "                        CaseFooter       1.00      1.00      1.00         9\n",
      "                        CaseHeader       1.00      0.90      0.95        10\n",
      "                         CaseIssue       1.00      1.00      1.00         9\n",
      "                          Citation       0.98      0.92      0.95       134\n",
      "                   ConclusionOfLaw       0.68      0.72      0.70        18\n",
      "                          Evidence       0.74      0.94      0.83       214\n",
      "EvidenceBased/Intermediate Finding       0.43      0.50      0.46        62\n",
      "            EvidenceBasedReasoning       0.40      0.04      0.07        51\n",
      "                            Header       0.95      0.99      0.97        80\n",
      "                       LegalPolicy       0.67      0.18      0.29        11\n",
      "                         LegalRule       0.71      0.75      0.73       106\n",
      "              PolicyBasedReasoning       0.00      0.00      0.00         3\n",
      "                         Procedure       0.86      0.87      0.87        93\n",
      "                RemandInstructions       0.83      0.45      0.59        22\n",
      "\n",
      "                          accuracy                           0.79       822\n",
      "                         macro avg       0.73      0.66      0.67       822\n",
      "                      weighted avg       0.77      0.79      0.76       822\n",
      "\n"
     ]
    },
    {
     "name": "stderr",
     "output_type": "stream",
     "text": [
      "/opt/anaconda3/envs/ldsi/lib/python3.8/site-packages/sklearn/metrics/_classification.py:1245: UndefinedMetricWarning: Precision and F-score are ill-defined and being set to 0.0 in labels with no predicted samples. Use `zero_division` parameter to control this behavior.\n",
      "  _warn_prf(average, modifier, msg_start, len(result))\n",
      "/opt/anaconda3/envs/ldsi/lib/python3.8/site-packages/sklearn/metrics/_classification.py:1245: UndefinedMetricWarning: Precision and F-score are ill-defined and being set to 0.0 in labels with no predicted samples. Use `zero_division` parameter to control this behavior.\n",
      "  _warn_prf(average, modifier, msg_start, len(result))\n",
      "/opt/anaconda3/envs/ldsi/lib/python3.8/site-packages/sklearn/metrics/_classification.py:1245: UndefinedMetricWarning: Precision and F-score are ill-defined and being set to 0.0 in labels with no predicted samples. Use `zero_division` parameter to control this behavior.\n",
      "  _warn_prf(average, modifier, msg_start, len(result))\n"
     ]
    }
   ],
   "source": [
    "embedding_clf_rf = RandomForestClassifier(n_estimators=100, max_depth=15)\n",
    "embedding_clf_rf = embedding_clf_rf.fit(embedding_train_X, embedding_train_y)\n",
    "print('Embedding RandomForest TRAIN:\\n'+classification_report(train_spans_labels, embedding_clf_rf.predict(embedding_train_X)))\n",
    "print('Embedding RandomForest DEV:\\n'+classification_report(val_spans_labels, embedding_clf_rf.predict(embedding_dev_X)))\n",
    "print('Embedding RandomForest TEST:\\n'+classification_report(test_spans_labels, embedding_clf_rf.predict(embedding_test_X)))"
   ]
  },
  {
   "cell_type": "markdown",
   "id": "d6c828ce",
   "metadata": {},
   "source": [
    "retrain on train and dev set"
   ]
  },
  {
   "cell_type": "code",
   "execution_count": 260,
   "id": "f22788cb",
   "metadata": {},
   "outputs": [
    {
     "name": "stdout",
     "output_type": "stream",
     "text": [
      "(8418, 102)\n"
     ]
    }
   ],
   "source": [
    "embedding_train_dev_X = np.append(embedding_train_X, embedding_dev_X, axis=0)\n",
    "embedding_train_dev_y = np.append(embedding_train_y, embedding_dev_y, axis=0)\n",
    "print(embedding_train_dev_X.shape)"
   ]
  },
  {
   "cell_type": "code",
   "execution_count": 262,
   "id": "c10b880c",
   "metadata": {
    "scrolled": true
   },
   "outputs": [
    {
     "name": "stdout",
     "output_type": "stream",
     "text": [
      "Embedding RandomForest TRAIN:\n",
      "                                    precision    recall  f1-score   support\n",
      "\n",
      "                        CaseFooter       1.00      0.99      0.99        97\n",
      "                        CaseHeader       0.99      1.00      0.99        91\n",
      "                         CaseIssue       1.00      1.00      1.00        86\n",
      "                          Citation       1.00      1.00      1.00      1121\n",
      "                   ConclusionOfLaw       0.98      0.97      0.97       186\n",
      "                          Evidence       0.95      1.00      0.97      2311\n",
      "EvidenceBased/Intermediate Finding       0.98      0.96      0.97       736\n",
      "            EvidenceBasedReasoning       1.00      0.89      0.94       612\n",
      "                            Header       1.00      1.00      1.00       797\n",
      "                       LegalPolicy       1.00      0.82      0.90       100\n",
      "                         LegalRule       0.97      0.99      0.98       922\n",
      "              PolicyBasedReasoning       1.00      0.72      0.84        25\n",
      "                         Procedure       0.99      0.97      0.98       932\n",
      "                RemandInstructions       0.98      0.96      0.97       402\n",
      "\n",
      "                          accuracy                           0.98      8418\n",
      "                         macro avg       0.99      0.95      0.97      8418\n",
      "                      weighted avg       0.98      0.98      0.98      8418\n",
      "\n",
      "Embedding RandomForest TEST:\n",
      "                                    precision    recall  f1-score   support\n",
      "\n",
      "                        CaseFooter       1.00      1.00      1.00         9\n",
      "                        CaseHeader       1.00      0.90      0.95        10\n",
      "                         CaseIssue       1.00      1.00      1.00         9\n",
      "                          Citation       0.96      0.93      0.94       134\n",
      "                   ConclusionOfLaw       0.74      0.78      0.76        18\n",
      "                          Evidence       0.75      0.94      0.84       214\n",
      "EvidenceBased/Intermediate Finding       0.49      0.47      0.48        62\n",
      "            EvidenceBasedReasoning       0.38      0.10      0.16        51\n",
      "                            Header       0.98      0.99      0.98        80\n",
      "                       LegalPolicy       0.50      0.09      0.15        11\n",
      "                         LegalRule       0.71      0.77      0.74       106\n",
      "              PolicyBasedReasoning       0.00      0.00      0.00         3\n",
      "                         Procedure       0.87      0.89      0.88        93\n",
      "                RemandInstructions       0.86      0.55      0.67        22\n",
      "\n",
      "                          accuracy                           0.80       822\n",
      "                         macro avg       0.73      0.67      0.68       822\n",
      "                      weighted avg       0.78      0.80      0.78       822\n",
      "\n"
     ]
    },
    {
     "name": "stderr",
     "output_type": "stream",
     "text": [
      "/opt/anaconda3/envs/ldsi/lib/python3.8/site-packages/sklearn/metrics/_classification.py:1245: UndefinedMetricWarning: Precision and F-score are ill-defined and being set to 0.0 in labels with no predicted samples. Use `zero_division` parameter to control this behavior.\n",
      "  _warn_prf(average, modifier, msg_start, len(result))\n",
      "/opt/anaconda3/envs/ldsi/lib/python3.8/site-packages/sklearn/metrics/_classification.py:1245: UndefinedMetricWarning: Precision and F-score are ill-defined and being set to 0.0 in labels with no predicted samples. Use `zero_division` parameter to control this behavior.\n",
      "  _warn_prf(average, modifier, msg_start, len(result))\n",
      "/opt/anaconda3/envs/ldsi/lib/python3.8/site-packages/sklearn/metrics/_classification.py:1245: UndefinedMetricWarning: Precision and F-score are ill-defined and being set to 0.0 in labels with no predicted samples. Use `zero_division` parameter to control this behavior.\n",
      "  _warn_prf(average, modifier, msg_start, len(result))\n"
     ]
    }
   ],
   "source": [
    "embedding_clf_rf = RandomForestClassifier(n_estimators=100, max_depth=15)\n",
    "embedding_clf_rf = embedding_clf_rf.fit(embedding_train_dev_X, embedding_train_dev_y)\n",
    "print('Embedding RandomForest TRAIN:\\n'+classification_report(embedding_train_dev_y, embedding_clf_rf.predict(embedding_train_dev_X)))\n",
    "print('Embedding RandomForest TEST:\\n'+classification_report(test_spans_labels, embedding_clf_rf.predict(embedding_test_X)))"
   ]
  },
  {
   "cell_type": "code",
   "execution_count": 177,
   "id": "3ba45eb5",
   "metadata": {
    "scrolled": true
   },
   "outputs": [
    {
     "name": "stdout",
     "output_type": "stream",
     "text": [
      "Embedding DecisionTree TRAIN:\n",
      "                                    precision    recall  f1-score   support\n",
      "\n",
      "                        CaseFooter       0.99      1.00      0.99        88\n",
      "                        CaseHeader       1.00      0.99      0.99        82\n",
      "                         CaseIssue       1.00      1.00      1.00        77\n",
      "                          Citation       1.00      1.00      1.00      1019\n",
      "                   ConclusionOfLaw       1.00      1.00      1.00       169\n",
      "                          Evidence       1.00      1.00      1.00      2067\n",
      "EvidenceBased/Intermediate Finding       1.00      1.00      1.00       682\n",
      "            EvidenceBasedReasoning       1.00      1.00      1.00       526\n",
      "                            Header       1.00      1.00      1.00       718\n",
      "                       LegalPolicy       1.00      1.00      1.00        98\n",
      "                         LegalRule       1.00      1.00      1.00       849\n",
      "              PolicyBasedReasoning       1.00      1.00      1.00        25\n",
      "                         Procedure       1.00      1.00      1.00       838\n",
      "                RemandInstructions       1.00      1.00      1.00       364\n",
      "\n",
      "                          accuracy                           1.00      7602\n",
      "                         macro avg       1.00      1.00      1.00      7602\n",
      "                      weighted avg       1.00      1.00      1.00      7602\n",
      "\n",
      "Embedding DecisionTree TEST:\n",
      "                                    precision    recall  f1-score   support\n",
      "\n",
      "                        CaseFooter       1.00      1.00      1.00         9\n",
      "                        CaseHeader       1.00      0.90      0.95        10\n",
      "                         CaseIssue       1.00      0.78      0.88         9\n",
      "                          Citation       0.95      0.91      0.93       134\n",
      "                   ConclusionOfLaw       0.52      0.61      0.56        18\n",
      "                          Evidence       0.73      0.73      0.73       214\n",
      "EvidenceBased/Intermediate Finding       0.28      0.27      0.28        62\n",
      "            EvidenceBasedReasoning       0.28      0.29      0.29        51\n",
      "                            Header       0.89      0.99      0.93        80\n",
      "                       LegalPolicy       0.00      0.00      0.00        11\n",
      "                         LegalRule       0.63      0.60      0.62       106\n",
      "              PolicyBasedReasoning       0.00      0.00      0.00         3\n",
      "                         Procedure       0.74      0.72      0.73        93\n",
      "                RemandInstructions       0.44      0.55      0.49        22\n",
      "\n",
      "                          accuracy                           0.69       822\n",
      "                         macro avg       0.60      0.60      0.60       822\n",
      "                      weighted avg       0.69      0.69      0.69       822\n",
      "\n"
     ]
    }
   ],
   "source": [
    "embedding_clf_dt = tree.DecisionTreeClassifier(max_depth=27)\n",
    "embedding_clf_dt = embedding_clf_dt.fit(embedding_train_X, embedding_train_y)\n",
    "print('Embedding DecisionTree TRAIN:\\n'+classification_report(train_spans_labels, embedding_clf_dt.predict(embedding_train_X)))\n",
    "print('Embedding DecisionTree TEST:\\n'+classification_report(test_spans_labels, embedding_clf_dt.predict(embedding_test_X)))"
   ]
  },
  {
   "cell_type": "code",
   "execution_count": 178,
   "id": "3e62dc40",
   "metadata": {
    "scrolled": true
   },
   "outputs": [
    {
     "name": "stdout",
     "output_type": "stream",
     "text": [
      "Embedding MLP TRAIN:\n",
      "                                    precision    recall  f1-score   support\n",
      "\n",
      "                        CaseFooter       0.97      0.97      0.97        88\n",
      "                        CaseHeader       0.98      0.98      0.98        82\n",
      "                         CaseIssue       0.91      0.97      0.94        77\n",
      "                          Citation       0.97      0.99      0.98      1019\n",
      "                   ConclusionOfLaw       0.78      0.82      0.80       169\n",
      "                          Evidence       0.80      0.92      0.86      2067\n",
      "EvidenceBased/Intermediate Finding       0.55      0.62      0.58       682\n",
      "            EvidenceBasedReasoning       0.57      0.14      0.23       526\n",
      "                            Header       0.99      0.99      0.99       718\n",
      "                       LegalPolicy       0.70      0.36      0.47        98\n",
      "                         LegalRule       0.75      0.86      0.80       849\n",
      "              PolicyBasedReasoning       0.00      0.00      0.00        25\n",
      "                         Procedure       0.92      0.85      0.88       838\n",
      "                RemandInstructions       0.83      0.80      0.82       364\n",
      "\n",
      "                          accuracy                           0.82      7602\n",
      "                         macro avg       0.77      0.73      0.74      7602\n",
      "                      weighted avg       0.81      0.82      0.81      7602\n",
      "\n",
      "Embedding MLP DEV:\n",
      "                                    precision    recall  f1-score   support\n",
      "\n",
      "                        CaseFooter       1.00      1.00      1.00         9\n",
      "                        CaseHeader       1.00      1.00      1.00         9\n",
      "                         CaseIssue       0.90      1.00      0.95         9\n",
      "                          Citation       1.00      1.00      1.00       102\n",
      "                   ConclusionOfLaw       0.73      0.94      0.82        17\n",
      "                          Evidence       0.77      0.93      0.84       244\n",
      "EvidenceBased/Intermediate Finding       0.54      0.69      0.61        54\n",
      "            EvidenceBasedReasoning       0.50      0.08      0.14        86\n",
      "                            Header       1.00      0.97      0.99        79\n",
      "                       LegalPolicy       0.33      0.50      0.40         2\n",
      "                         LegalRule       0.73      0.89      0.80        73\n",
      "                         Procedure       0.95      0.86      0.91        94\n",
      "                RemandInstructions       0.91      0.82      0.86        38\n",
      "\n",
      "                          accuracy                           0.82       816\n",
      "                         macro avg       0.80      0.82      0.79       816\n",
      "                      weighted avg       0.81      0.82      0.79       816\n",
      "\n",
      "Embedding MLP TEST:\n",
      "                                    precision    recall  f1-score   support\n",
      "\n",
      "                        CaseFooter       1.00      1.00      1.00         9\n",
      "                        CaseHeader       1.00      0.90      0.95        10\n",
      "                         CaseIssue       1.00      1.00      1.00         9\n",
      "                          Citation       0.95      0.98      0.96       134\n",
      "                   ConclusionOfLaw       0.68      0.83      0.75        18\n",
      "                          Evidence       0.84      0.89      0.87       214\n",
      "EvidenceBased/Intermediate Finding       0.49      0.61      0.55        62\n",
      "            EvidenceBasedReasoning       0.47      0.16      0.24        51\n",
      "                            Header       0.93      0.99      0.96        80\n",
      "                       LegalPolicy       0.50      0.18      0.27        11\n",
      "                         LegalRule       0.74      0.79      0.77       106\n",
      "              PolicyBasedReasoning       0.00      0.00      0.00         3\n",
      "                         Procedure       0.88      0.86      0.87        93\n",
      "                RemandInstructions       0.76      0.73      0.74        22\n",
      "\n",
      "                          accuracy                           0.82       822\n",
      "                         macro avg       0.73      0.71      0.71       822\n",
      "                      weighted avg       0.80      0.82      0.80       822\n",
      "\n"
     ]
    },
    {
     "name": "stderr",
     "output_type": "stream",
     "text": [
      "/opt/anaconda3/envs/ldsi/lib/python3.8/site-packages/sklearn/metrics/_classification.py:1245: UndefinedMetricWarning: Precision and F-score are ill-defined and being set to 0.0 in labels with no predicted samples. Use `zero_division` parameter to control this behavior.\n",
      "  _warn_prf(average, modifier, msg_start, len(result))\n",
      "/opt/anaconda3/envs/ldsi/lib/python3.8/site-packages/sklearn/metrics/_classification.py:1245: UndefinedMetricWarning: Precision and F-score are ill-defined and being set to 0.0 in labels with no predicted samples. Use `zero_division` parameter to control this behavior.\n",
      "  _warn_prf(average, modifier, msg_start, len(result))\n",
      "/opt/anaconda3/envs/ldsi/lib/python3.8/site-packages/sklearn/metrics/_classification.py:1245: UndefinedMetricWarning: Precision and F-score are ill-defined and being set to 0.0 in labels with no predicted samples. Use `zero_division` parameter to control this behavior.\n",
      "  _warn_prf(average, modifier, msg_start, len(result))\n"
     ]
    }
   ],
   "source": [
    "embedding_clf_mlp = MLPClassifier(random_state=1, early_stopping=True, max_iter=300).fit(embedding_train_X, embedding_train_y)\n",
    "print('Embedding MLP TRAIN:\\n'+classification_report(train_spans_labels, embedding_clf_mlp.predict(embedding_train_X)))\n",
    "print('Embedding MLP DEV:\\n'+classification_report(val_spans_labels, embedding_clf_mlp.predict(embedding_dev_X)))\n",
    "print('Embedding MLP TEST:\\n'+classification_report(test_spans_labels, embedding_clf_mlp.predict(embedding_test_X)))"
   ]
  },
  {
   "cell_type": "markdown",
   "id": "859f7daf",
   "metadata": {},
   "source": [
    "### Save the best model"
   ]
  },
  {
   "cell_type": "code",
   "execution_count": 263,
   "id": "c4f75c0f",
   "metadata": {},
   "outputs": [],
   "source": [
    "# save the model to disk\n",
    "filename = './model/embedding_clf_mlp.p'\n",
    "pickle.dump(embedding_clf_mlp, open(filename, 'wb'))\n",
    " \n",
    "filename = './model/tfidf_clf_mlp.p'\n",
    "pickle.dump(tfidf_clf_mlp, open(filename, 'wb'))\n",
    "\n",
    "filename = './model/tfidf_clf_lr.p'\n",
    "pickle.dump(tfidf_clf_lr, open(filename, 'wb'))\n",
    "\n",
    "filename = './model/embedding_clf_rf.p'\n",
    "pickle.dump(embedding_clf_rf, open(filename, 'wb'))"
   ]
  },
  {
   "cell_type": "markdown",
   "id": "801a7342",
   "metadata": {},
   "source": [
    "## Phase 6: Error Analysis"
   ]
  },
  {
   "cell_type": "markdown",
   "id": "7bdd362b",
   "metadata": {},
   "source": [
    "Plot the confusion matrices for your best TFIDF and embedding-based model on the dev data and include them in the report. Pick the overall single best model and use the `prediction_errors` function to survey the model's mispredictions for what you observe in the matrix:"
   ]
  },
  {
   "cell_type": "code",
   "execution_count": 181,
   "id": "396c24b0",
   "metadata": {},
   "outputs": [],
   "source": [
    "def plot_confusion_matrix(y_true, y_pred, classes,\n",
    "                          title=None,\n",
    "                          cmap=plt.cm.Blues):\n",
    "    cm = confusion_matrix(y_true, y_pred)\n",
    "    fig, ax = plt.subplots(figsize=(8, 8))\n",
    "    im = ax.imshow(cm, interpolation='nearest', cmap=cmap)\n",
    "    ax.figure.colorbar(im, ax=ax)\n",
    "    ax.set(xticks=np.arange(cm.shape[1]),\n",
    "           yticks=np.arange(cm.shape[0]),\n",
    "           # ... and label them with the respective list entries\n",
    "           xticklabels=classes, yticklabels=classes,\n",
    "           title=title,\n",
    "           ylabel='True label',\n",
    "           xlabel='Predicted label')\n",
    "    plt.setp(ax.get_xticklabels(), rotation=45, ha=\"right\",\n",
    "             rotation_mode=\"anchor\")\n",
    "    thresh = cm.max() / 2.\n",
    "    for i in range(cm.shape[0]):\n",
    "        for j in range(cm.shape[1]):\n",
    "            ax.text(j, i, format(cm[i, j], 'd'),\n",
    "                    ha=\"center\", va=\"center\",\n",
    "                    color=\"white\" if cm[i, j] > thresh else \"black\")\n",
    "    fig.tight_layout()\n",
    "    return ax"
   ]
  },
  {
   "cell_type": "code",
   "execution_count": 273,
   "id": "6b3b5a23",
   "metadata": {},
   "outputs": [],
   "source": [
    "def prediction_errors(clf, eval_spans, mode, vectorizer, model,\n",
    "                      select_true_label=None, \n",
    "                      select_pred_label=None):\n",
    "    if mode == 'tfidf':\n",
    "        eval_X, eval_y = make_tfidf_feature_vectors_and_labels(eval_spans, vectorizer)\n",
    "    else:\n",
    "        eval_X, eval_y = make_embedding_feature_vectors_and_labels(eval_spans, model)\n",
    "        \n",
    "    eval_spans_txt = [s['txt'] for s in eval_spans]\n",
    "    eval_spans_labels = [s['type'] for s in eval_spans]\n",
    "    pred_y = clf.predict(eval_X)\n",
    "    for i in range(len(eval_spans)):\n",
    "        true_label = eval_spans_labels[i]\n",
    "        pred_label = pred_y[i]\n",
    "        if true_label != pred_label:\n",
    "            if select_true_label and true_label != select_true_label: continue\n",
    "            if select_pred_label and pred_label != select_pred_label: continue\n",
    "            doc_name = documents_by_id[eval_spans[i]['document']]['name']\n",
    "            print('sentence # '+str(i)+' / case '+doc_name+' / @'+str(eval_spans[i]['start']))\n",
    "            print('pred: '+pred_label+' / true: '+true_label)\n",
    "            print(eval_spans[i]['txt'])\n",
    "            print()"
   ]
  },
  {
   "cell_type": "code",
   "execution_count": 266,
   "id": "1eab6bf4",
   "metadata": {},
   "outputs": [
    {
     "data": {
      "image/png": "[encoded data removed]",
      "text/plain": [
       "<Figure size 576x576 with 2 Axes>"
      ]
     },
     "metadata": {
      "needs_background": "light"
     },
     "output_type": "display_data"
    }
   ],
   "source": [
    "plot_confusion_matrix(test_spans_labels, tfidf_clf_mlp.predict(tfidf_test_X), classes=list(tfidf_clf_mlp.classes_),\n",
    "                      title='Confusion matrix for TFIDF MLP')\n",
    "plt.show()"
   ]
  },
  {
   "cell_type": "code",
   "execution_count": 267,
   "id": "1d119060",
   "metadata": {},
   "outputs": [
    {
     "data": {
      "image/png": "[encoded data removed]",
      "text/plain": [
       "<Figure size 576x576 with 2 Axes>"
      ]
     },
     "metadata": {
      "needs_background": "light"
     },
     "output_type": "display_data"
    }
   ],
   "source": [
    "plot_confusion_matrix(test_spans_labels, tfidf_clf_mlp.predict(tfidf_test_X), classes=list(tfidf_clf_lr.classes_),\n",
    "                      title='Confusion matrix for TFIDF LogisticRegression')\n",
    "plt.show()"
   ]
  },
  {
   "cell_type": "code",
   "execution_count": 279,
   "id": "54a14cfe",
   "metadata": {
    "collapsed": true
   },
   "outputs": [
    {
     "name": "stdout",
     "output_type": "stream",
     "text": [
      "sentence # 257 / case 1100174.txt / @8540\n",
      "pred: EvidenceBasedReasoning / true: Evidence\n",
      "There are two medical opinions of record on the relationship \r\n",
      "between the Veteran's in-service injury and his currently \r\n",
      "diagnosed back disorder.\n",
      "\n",
      "sentence # 386 / case 1418226.txt / @5507\n",
      "pred: EvidenceBasedReasoning / true: Evidence\n",
      " There is only 'limited or suggestive' evidence of association not meeting the level of causation.\"\n",
      "\n",
      "sentence # 391 / case 1418226.txt / @6572\n",
      "pred: EvidenceBasedReasoning / true: Evidence\n",
      "There are conflicting medical opinions regarding a nexus between the Veteran's CLL and his acknowledged exposure to contaminants in the water supply where he was stationed in service.\n",
      "\n",
      "sentence # 392 / case 1418226.txt / @6757\n",
      "pred: EvidenceBasedReasoning / true: Evidence\n",
      "The VA examiner's opinion (by a family practitioner) against the claim concedes there may be a nexus, but observes that the evidence of such has not yet reached \"the level of causation\".\n",
      "\n",
      "sentence # 721 / case 1205178.txt / @7906\n",
      "pred: EvidenceBasedReasoning / true: Evidence\n",
      "The Veteran has not made the RO or the Board aware of any additional evidence that needs to be obtained in order to fairly decide his claim\n",
      "\n",
      "sentence # 722 / case 1205178.txt / @8047\n",
      "pred: EvidenceBasedReasoning / true: Evidence\n",
      "He has been given ample opportunity to present evidence and argument in support of his claim.\n",
      "\n",
      "sentence # 790 / case 1205178.txt / @19321\n",
      "pred: EvidenceBasedReasoning / true: Evidence\n",
      "There is no medical evidence correlating the Veteran's current complaints of hearing loss to an incident of his active duty service.\n",
      "\n",
      "sentence # 791 / case 1205178.txt / @19454\n",
      "pred: EvidenceBasedReasoning / true: Evidence\n",
      "Although the Veteran is competent to report in-service acoustic trauma, he is not competent to render a probative (persuasive) opinion on a medical matter. \n",
      "\n"
     ]
    }
   ],
   "source": [
    "prediction_errors(tfidf_clf_mlp,\n",
    "                  test_spans,\n",
    "                  'tfidf',\n",
    "                  spacy_tfidf_vectorizer, model,\n",
    "                  select_pred_label='EvidenceBasedReasoning',\n",
    "                  select_true_label='Evidence')"
   ]
  },
  {
   "cell_type": "code",
   "execution_count": 288,
   "id": "3dfe8bd3",
   "metadata": {
    "collapsed": true
   },
   "outputs": [
    {
     "name": "stdout",
     "output_type": "stream",
     "text": [
      "sentence # 87 / case 0831180.txt / @2383\n",
      "pred: Evidence / true: EvidenceBasedReasoning\n",
      "The credibility of that underlying history is called \r\n",
      "into question because the opinion derived from them \r\n",
      "references an inaccurate date of discharge.\n",
      "\n",
      "sentence # 88 / case 0831180.txt / @2537\n",
      "pred: Evidence / true: EvidenceBasedReasoning\n",
      "Nonetheless, the \r\n",
      "veteran has raised the possibility that his negative \r\n",
      "performance evaluations and administrative remarks show \r\n",
      "symptoms of his current mental disorder sufficient to \r\n",
      "establish chronicity.  \n",
      "\n",
      "sentence # 184 / case 0709343.txt / @18381\n",
      "pred: Evidence / true: EvidenceBasedReasoning\n",
      "However, the \r\n",
      "physician wrote in the past tense and did not provide \r\n",
      "specific details as to the date(s) of the veteran's diagnosis \r\n",
      "of malaria, nor did he relate the veteran's malaria to active \r\n",
      "service or any incident of active duty.\n",
      "\n",
      "sentence # 206 / case 0709343.txt / @22757\n",
      "pred: Evidence / true: EvidenceBasedReasoning\n",
      "(Emphasis added.)\n",
      "\n",
      "sentence # 277 / case 1100174.txt / @12693\n",
      "pred: Evidence / true: EvidenceBasedReasoning\n",
      "Rather, to \r\n",
      "the extent it is possible to discern the meaning of this partial \r\n",
      "phrase in the chiropractic treatment records, the phrase \r\n",
      "\"lifting a 200 lb weight\" seems to indicate that the injury was \r\n",
      "related to the Veteran's exercise regimen, and the evidence of \r\n",
      "record contains a statement from the Veteran's chiropractor \r\n",
      "asserting that his workouts were aggravating his spinal \r\n",
      "condition.  \n",
      "\n",
      "sentence # 488 / case 1641334.txt / @10774\n",
      "pred: Evidence / true: EvidenceBasedReasoning\n",
      "The orthopedic surgeon did not provide a rationale for the determination that the right shoulder instability and impingement represented persistent problems since an in-service injury; therefore it is not afforded any probative value.\n",
      "\n",
      "sentence # 494 / case 1641334.txt / @11722\n",
      "pred: Evidence / true: EvidenceBasedReasoning\n",
      "In its October 2015 Memorandum Decision, the Court determined that the November 2010 VA examination and corresponding opinion were inadequate; as such, the opinion rendered will not be discussed. \n",
      "\n",
      "sentence # 526 / case 1641334.txt / @15943\n",
      "pred: Evidence / true: EvidenceBasedReasoning\n",
      "This opinion, which is supported by detailed rationale that takes into consideration the Veteran's specific in-service and post-service medical history and records, to include his complaints of continual right shoulder symptoms in service and after discharge, is afforded high probative value.\n",
      "\n",
      "sentence # 534 / case 1641334.txt / @17737\n",
      "pred: Evidence / true: EvidenceBasedReasoning\n",
      " If so, it is afforded no probative value given that Dr. W. does not state that what was described is what happened in the Veteran's case; rather, Dr. W. is providing a blanket statement regarding what happens in most shoulder dislocations.  Id. \n",
      "\n",
      "sentence # 538 / case 1641334.txt / @18525\n",
      "pred: Evidence / true: EvidenceBasedReasoning\n",
      "The Board has come to this conclusion based on the fact that the Veteran was seen multiple times in service for other orthopedic conditions after    his August 1988 right shoulder dislocation, but never mentioned right shoulder problems at those times, to include when seeking treatment in November 1988 for left shoulder problems.\n",
      "\n",
      "sentence # 539 / case 1641334.txt / @18857\n",
      "pred: Evidence / true: EvidenceBasedReasoning\n",
      " In that vein, while the Board acknowledges the Veteran's March 2010 testimony that he did not want to go to sick call frequently, it would seem likely that if he was presenting to sick call for other orthopedic concerns, he would have taken the opportunity to mention significant continuing problems with his right shoulder.\n",
      "\n",
      "sentence # 541 / case 1641334.txt / @19432\n",
      "pred: Evidence / true: EvidenceBasedReasoning\n",
      "Moreover, the Board notes the Veteran was seen on multiple occasions for minor complaints such as head colds, suggesting he was not avoiding sick call except for serious illness and injuries.\n",
      "\n",
      "sentence # 542 / case 1641334.txt / @19629\n",
      "pred: Evidence / true: EvidenceBasedReasoning\n",
      "The Board notes additionally that he injured his left shoulder playing football a     few months after the right shoulder injury and a 1992 service treatment record    noted the Veteran's report of lower extremity pain after playing a basketball game, which suggests the Veteran's right shoulder did not prevent such activities, as    might be expected had the Veteran suffered from continued right shoulder problems.\n",
      "\n",
      "sentence # 628 / case 1048193.txt / @5782\n",
      "pred: Evidence / true: EvidenceBasedReasoning\n",
      "The examiner \r\n",
      "concluded that it was quite likely that the noise exposure the \r\n",
      "Veteran suffered during service was the beginning of his hearing \r\n",
      "loss, because the type and degree of his hearing loss was \r\n",
      "consistent with being noise induced.\n",
      "\n",
      "sentence # 629 / case 1048193.txt / @6152\n",
      "pred: Evidence / true: EvidenceBasedReasoning\n",
      "With respect to in-service injury, the Veteran asserts that as a \r\n",
      "loadmaster he was exposed to noisy, uninsulated, unpressurized \r\n",
      "aircraft for 2700 hours of flight time. \n",
      "\n",
      "sentence # 712 / case 1205178.txt / @6479\n",
      "pred: Evidence / true: EvidenceBasedReasoning\n",
      "Here, the record does not indicate that hearing loss may be associated with the Veteran's service and there is sufficient competent medical evidence on file as a comprehensive audiological evaluation was conducted in March 2008.\n",
      "\n",
      "sentence # 802 / case 1205178.txt / @20831\n",
      "pred: Evidence / true: EvidenceBasedReasoning\n",
      "As the Veteran has stated, and medical evidence reflects, that he did not begin to experience hearing loss during service, a finding of chronicity is refuted.\n",
      "\n",
      "sentence # 809 / case 1205178.txt / @21015\n",
      "pred: Evidence / true: EvidenceBasedReasoning\n",
      "His lay statements aside, no medical professional has opined that the Veteran's current hearing disability is the result of his active duty service. \n",
      "\n"
     ]
    }
   ],
   "source": [
    "prediction_errors(tfidf_clf_mlp,\n",
    "                  test_spans,\n",
    "                  'tfidf',\n",
    "                  spacy_tfidf_vectorizer, model,\n",
    "                  select_true_label='EvidenceBasedReasoning',\n",
    "                  select_pred_label='Evidence')"
   ]
  },
  {
   "cell_type": "code",
   "execution_count": 291,
   "id": "90374089",
   "metadata": {
    "collapsed": true
   },
   "outputs": [
    {
     "name": "stdout",
     "output_type": "stream",
     "text": [
      "sentence # 105 / case 0709343.txt / @5664\n",
      "pred: EvidenceBased/Intermediate Finding / true: Evidence\n",
      "Written notice provided \r\n",
      "in February 2003 and July 2006 fulfills the provisions of \r\n",
      "38 U.S.C.A. � 5103(a).\n",
      "\n",
      "sentence # 239 / case 1100174.txt / @6181\n",
      "pred: EvidenceBased/Intermediate Finding / true: Evidence\n",
      "The competent medical evidence of record shows that the Veteran \r\n",
      "has a currently diagnosed lower back disability. \n",
      "\n",
      "sentence # 376 / case 1418226.txt / @3462\n",
      "pred: EvidenceBased/Intermediate Finding / true: Evidence\n",
      "CLL was not manifested during service or within one year following the Veteran's discharge from active duty.\n",
      "\n",
      "sentence # 441 / case 1641334.txt / @3299\n",
      "pred: EvidenceBased/Intermediate Finding / true: Evidence\n",
      "The Board also notes that actions requested in the prior remands have been undertaken.\n",
      "\n",
      "sentence # 533 / case 1641334.txt / @17633\n",
      "pred: EvidenceBased/Intermediate Finding / true: Evidence\n",
      "It is unclear whether this addendum letter was intended to serve as rationale for the May 2016 opinion.\n",
      "\n"
     ]
    }
   ],
   "source": [
    "prediction_errors(tfidf_clf_mlp,\n",
    "                  test_spans,\n",
    "                  'tfidf',\n",
    "                  spacy_tfidf_vectorizer, model,\n",
    "                  select_true_label='Evidence',\n",
    "                  select_pred_label='EvidenceBased/Intermediate Finding')"
   ]
  },
  {
   "cell_type": "code",
   "execution_count": null,
   "id": "9d184827",
   "metadata": {},
   "outputs": [],
   "source": [
    "select_true_label='Evidence',\n",
    "                  select_pred_label='EvidenceBased/Intermediate Finding'"
   ]
  },
  {
   "cell_type": "code",
   "execution_count": 292,
   "id": "64ddc2ed",
   "metadata": {
    "collapsed": true
   },
   "outputs": [
    {
     "name": "stdout",
     "output_type": "stream",
     "text": [
      "sentence # 199 / case 0709343.txt / @21003\n",
      "pred: EvidenceBased/Intermediate Finding / true: EvidenceBasedReasoning\n",
      "When \r\n",
      "there have been relapses following the initial course of \r\n",
      "treatment, further relapses are to be expected and for some \r\n",
      "time the veteran must be given the benefit of the doubt as to \r\n",
      "unexplained fever of short duration, controlled by medication \r\n",
      "specific for malaria.  \n",
      "\n",
      "sentence # 201 / case 0709343.txt / @21619\n",
      "pred: EvidenceBased/Intermediate Finding / true: EvidenceBasedReasoning\n",
      "As to the question of whether there is a current diagnosis of \r\n",
      "malaria, to include recurrent episodes or residuals of \r\n",
      "malaria, the more recent medical opinion is of greater \r\n",
      "probative value. \n",
      "\n",
      "sentence # 275 / case 1100174.txt / @12366\n",
      "pred: EvidenceBased/Intermediate Finding / true: EvidenceBasedReasoning\n",
      "Therefore, the \r\n",
      "Veteran's credibility is not brought into question because the \r\n",
      "evidence indicates that the event he claimed to not recall did \r\n",
      "not actually occur.\n",
      "\n",
      "sentence # 276 / case 1100174.txt / @12534\n",
      "pred: EvidenceBased/Intermediate Finding / true: EvidenceBasedReasoning\n",
      "Furthermore, this notation is either \r\n",
      "incomplete or indecipherable and should not be used to discount \r\n",
      "the Veteran's testimony in the interest of fairness. \n",
      "\n",
      "sentence # 287 / case 1100174.txt / @15030\n",
      "pred: EvidenceBased/Intermediate Finding / true: EvidenceBasedReasoning\n",
      "Accordingly, the Board resolves any doubt in favor of the Veteran \r\n",
      "and finds that the evidence supports service connection for a \r\n",
      "lower back disorder.\n",
      "\n",
      "sentence # 470 / case 1641334.txt / @8145\n",
      "pred: EvidenceBased/Intermediate Finding / true: EvidenceBasedReasoning\n",
      "The question becomes whether a right shoulder disability is related to service.\n",
      "\n",
      "sentence # 480 / case 1641334.txt / @9412\n",
      "pred: EvidenceBased/Intermediate Finding / true: EvidenceBasedReasoning\n",
      "As there is no competent evidence of right shoulder arthritis in service or within     one year following the Veteran's February 1994 discharge from service, competent evidence linking the current right shoulder condition with service is required to establish service connection.\n",
      "\n",
      "sentence # 594 / case 1048193.txt / @1142\n",
      "pred: EvidenceBased/Intermediate Finding / true: EvidenceBasedReasoning\n",
      "The Board finds that VA has substantially satisfied the duties to \r\n",
      "notify and assist, as required by the Veterans Claims Assistance \r\n",
      "Act of 2000 (VCAA).\n",
      "\n",
      "sentence # 632 / case 1048193.txt / @7007\n",
      "pred: EvidenceBased/Intermediate Finding / true: EvidenceBasedReasoning\n",
      "Consequently, the Board finds the evidence of record supports \r\n",
      "service connection for the Veteran's bilateral hearing loss. \n",
      "\n",
      "sentence # 718 / case 1205178.txt / @7592\n",
      "pred: EvidenceBased/Intermediate Finding / true: EvidenceBasedReasoning\n",
      "This is not a case in which the Veteran's lay assertions, alone, can serve to establish any association between any current hearing problem and claimed in-service noise exposure. \n",
      "\n",
      "sentence # 769 / case 1205178.txt / @16139\n",
      "pred: EvidenceBased/Intermediate Finding / true: EvidenceBasedReasoning\n",
      "For example, if the record shows (a) acoustic trauma due to significant noise exposure in service and audiometric test results reflecting an upward shift in tested thresholds in service, though still not meeting the requirements for \"disability\" under 38 C.F.R. � 3.385, and (b) post-service audiometric testing produces findings meeting the requirements of 38 C.F.R. � 3.385, rating authorities must consider whether there is a medically sound basis to attribute the post-service findings to the injury in service, or whether they are more properly attributable to intercurrent causes.\n",
      "\n",
      "sentence # 806 / case 1205178.txt / @22742\n",
      "pred: EvidenceBased/Intermediate Finding / true: EvidenceBasedReasoning\n",
      "The preponderance of the evidence is against the claim and the doctrine of reasonable doubt is not for application.\n",
      "\n"
     ]
    }
   ],
   "source": [
    "prediction_errors(tfidf_clf_mlp,\n",
    "                  test_spans,\n",
    "                  'tfidf',\n",
    "                  spacy_tfidf_vectorizer, model,\n",
    "                  select_true_label='EvidenceBasedReasoning',\n",
    "                  select_pred_label='EvidenceBased/Intermediate Finding')"
   ]
  },
  {
   "cell_type": "code",
   "execution_count": null,
   "id": "b2771706",
   "metadata": {},
   "outputs": [],
   "source": []
  },
  {
   "cell_type": "code",
   "execution_count": 270,
   "id": "7aca9caf",
   "metadata": {},
   "outputs": [
    {
     "data": {
      "image/png": "[encoded data removed]",
      "text/plain": [
       "<Figure size 576x576 with 2 Axes>"
      ]
     },
     "metadata": {
      "needs_background": "light"
     },
     "output_type": "display_data"
    }
   ],
   "source": [
    "plot_confusion_matrix(test_spans_labels, embedding_clf_rf.predict(embedding_test_X), classes=list(embedding_clf_rf.classes_),\n",
    "                      title='Confusion matrix for embedding RandomForest')\n",
    "plt.show()"
   ]
  },
  {
   "cell_type": "code",
   "execution_count": 286,
   "id": "ac889df2",
   "metadata": {
    "collapsed": true
   },
   "outputs": [
    {
     "name": "stdout",
     "output_type": "stream",
     "text": [
      "sentence # 266 / case 1100174.txt / @9967\n",
      "pred: EvidenceBasedReasoning / true: Evidence\n",
      "The examiner provided the opinion that it was less \r\n",
      "likely than not that the Veteran's chronic low back had its \r\n",
      "clinical onset during service or is otherwise related to any in-\r\n",
      "service disease or injury because there was inadequate \r\n",
      "documentation to relate the Veteran's current symptomatology to \r\n",
      "any in-service disease, event, or injury.\n",
      "\n",
      "sentence # 392 / case 1418226.txt / @6757\n",
      "pred: EvidenceBasedReasoning / true: Evidence\n",
      "The VA examiner's opinion (by a family practitioner) against the claim concedes there may be a nexus, but observes that the evidence of such has not yet reached \"the level of causation\".\n",
      "\n",
      "sentence # 721 / case 1205178.txt / @7906\n",
      "pred: EvidenceBasedReasoning / true: Evidence\n",
      "The Veteran has not made the RO or the Board aware of any additional evidence that needs to be obtained in order to fairly decide his claim\n",
      "\n"
     ]
    }
   ],
   "source": [
    "prediction_errors(embedding_clf_rf,\n",
    "                  test_spans,\n",
    "                  'embedding',\n",
    "                  spacy_tfidf_vectorizer, model_cbow,\n",
    "                  select_pred_label='EvidenceBasedReasoning',\n",
    "                  select_true_label='Evidence')"
   ]
  },
  {
   "cell_type": "code",
   "execution_count": 289,
   "id": "da0f1907",
   "metadata": {
    "collapsed": true
   },
   "outputs": [
    {
     "name": "stdout",
     "output_type": "stream",
     "text": [
      "sentence # 155 / case 0709343.txt / @14174\n",
      "pred: EvidenceBased/Intermediate Finding / true: Evidence\n",
      "The veteran's malaria \r\n",
      "was not currently present or active.\n",
      "\n",
      "sentence # 727 / case 1205178.txt / @8488\n",
      "pred: EvidenceBased/Intermediate Finding / true: Evidence\n",
      "The Veteran seeks service connection for a hearing disability claimed as the result of in-service noise exposure. \n",
      "\n",
      "sentence # 791 / case 1205178.txt / @19454\n",
      "pred: EvidenceBased/Intermediate Finding / true: Evidence\n",
      "Although the Veteran is competent to report in-service acoustic trauma, he is not competent to render a probative (persuasive) opinion on a medical matter. \n",
      "\n"
     ]
    }
   ],
   "source": [
    "prediction_errors(embedding_clf_rf,\n",
    "                  test_spans,\n",
    "                  'embedding',\n",
    "                  spacy_tfidf_vectorizer, model_cbow,\n",
    "                  select_true_label='Evidence',\n",
    "                  select_pred_label='EvidenceBased/Intermediate Finding')"
   ]
  },
  {
   "cell_type": "code",
   "execution_count": null,
   "id": "069ca23a",
   "metadata": {},
   "outputs": [],
   "source": [
    "prediction_errors(embedding_clf_rf,\n",
    "                  test_spans,\n",
    "                  'tfi',\n",
    "                  spacy_tfidf_vectorizer, model,\n",
    "                  select_pred_label='EvidenceBasedReasoning',\n",
    "                  select_true_label='Evidence')"
   ]
  },
  {
   "cell_type": "code",
   "execution_count": 295,
   "id": "fdb66486",
   "metadata": {
    "collapsed": true
   },
   "outputs": [
    {
     "name": "stdout",
     "output_type": "stream",
     "text": [
      "sentence # 17 / case 1100174.txt / @1430\n",
      "pred: Evidence / true: EvidenceBased/Intermediate Finding\n",
      "The Veteran's currently diagnosed lower back disorder began \r\n",
      "during his active military service. \n",
      "\n",
      "sentence # 80 / case 0831180.txt / @1365\n",
      "pred: Evidence / true: EvidenceBased/Intermediate Finding\n",
      "Initially, the Board is unclear on the \r\n",
      "medical qualifications of a licensed professional counselor.  \n",
      "\n",
      "sentence # 82 / case 0831180.txt / @1671\n",
      "pred: Evidence / true: EvidenceBased/Intermediate Finding\n",
      "Regardless, this opinion explicitly \r\n",
      "acknowledges that it is based on a subjective history given \r\n",
      "by the veteran.\n",
      "\n",
      "sentence # 106 / case 0709343.txt / @5774\n",
      "pred: Evidence / true: EvidenceBased/Intermediate Finding\n",
      "That is, the veteran was effectively \r\n",
      "informed to submit all relevant evidence in his possession \r\n",
      "and that he received notice of the evidence needed to \r\n",
      "substantiate his claim; the avenues by which he might obtain \r\n",
      "such evidence, and the allocation of responsibilities between \r\n",
      "himself and VA in obtaining such evidence. \n",
      "\n",
      "sentence # 111 / case 0709343.txt / @6955\n",
      "pred: Evidence / true: EvidenceBased/Intermediate Finding\n",
      "To the extent that there was \r\n",
      "any timing deficiency with this notice or with the Dingess \r\n",
      "requirements, as noted above, the Dingess requirements were \r\n",
      "met by a letter sent to the veteran in July 2006, but the \r\n",
      "veteran's claim of entitlement to service connection for \r\n",
      "malaria was readjudicated in a supplemental statement of the \r\n",
      "case (SSOC) issued in November 2006. \n",
      "\n",
      "sentence # 119 / case 0709343.txt / @8836\n",
      "pred: Evidence / true: EvidenceBased/Intermediate Finding\n",
      "Significantly, the evidence does not show, nor does the \r\n",
      "appellant contend, that any notification deficiencies, either \r\n",
      "with respect to timing or content, have resulted in \r\n",
      "prejudice.\n",
      "\n",
      "sentence # 126 / case 0709343.txt / @9750\n",
      "pred: Evidence / true: EvidenceBased/Intermediate Finding\n",
      " Pursuant to the Board's \r\n",
      "March 2006 remand, the veteran was provided with an August \r\n",
      "2006 VA examination, which was very thorough in nature and \r\n",
      "that evaluation ruled out a current diagnosis of malaria, to \r\n",
      "include recurrent episodes or residuals of malaria. \n",
      "\n",
      "sentence # 180 / case 0709343.txt / @17740\n",
      "pred: Evidence / true: EvidenceBased/Intermediate Finding\n",
      "There is no contemporaneously recorded medical or \r\n",
      "laboratory evidence of malaria during active service or \r\n",
      "within the first post-service year, i.e., by February 1947.  \n",
      "\n",
      "sentence # 181 / case 0709343.txt / @17913\n",
      "pred: Evidence / true: EvidenceBased/Intermediate Finding\n",
      "In fact, physical examination of the veteran in July 1945 was \r\n",
      "completely normal. \n",
      "\n",
      "sentence # 183 / case 0709343.txt / @18147\n",
      "pred: Evidence / true: EvidenceBased/Intermediate Finding\n",
      "In this \r\n",
      "regard, the Board acknowledges that Dr. B.E.D. stated in \r\n",
      "February 2004 that the veteran had been diagnosed with \r\n",
      "malaria following several bouts of chilliness accompanied by \r\n",
      "fever and treated with anti-malarial drugs. \n",
      "\n",
      "sentence # 200 / case 0709343.txt / @21286\n",
      "pred: Evidence / true: EvidenceBased/Intermediate Finding\n",
      "However, the physician who reviewed the veteran's relevant \r\n",
      "treatment records, to include B.E.D's February 2004 \r\n",
      "assessment, examined the veteran and considered pertinent \r\n",
      "laboratory studies unequivocally concluded that there was no \r\n",
      "current medical evidence that the veteran had malarial \r\n",
      "episodes or recurrences of malaria. \n",
      "\n",
      "sentence # 254 / case 1100174.txt / @7866\n",
      "pred: Evidence / true: EvidenceBased/Intermediate Finding\n",
      " The end of this note is either indecipherable or \r\n",
      "incomplete.\n",
      "\n",
      "sentence # 264 / case 1100174.txt / @9700\n",
      "pred: Evidence / true: EvidenceBased/Intermediate Finding\n",
      "Therefore, the examiner was unable to \r\n",
      "determine the severity of the Veteran's back condition at that \r\n",
      "time and could not resolve the issue without resort to mere \r\n",
      "speculation.  \n",
      "\n",
      "sentence # 267 / case 1100174.txt / @10316\n",
      "pred: Evidence / true: EvidenceBased/Intermediate Finding\n",
      "The January 2006 VA examiner's opinion is speculative and thereby \r\n",
      "insufficient to establish the lack of a nexus between the \r\n",
      "Veteran's in-service injury and current lower back disorder. \n",
      "\n",
      "sentence # 273 / case 1100174.txt / @11553\n",
      "pred: Evidence / true: EvidenceBased/Intermediate Finding\n",
      "Furthermore, the Veteran's accounts of his back injury in service \r\n",
      "and the continuous nature of his back pain since service are \r\n",
      "credible, as the Veteran's account is corroborated by his service \r\n",
      "treatment records, he was treated for back pain in service on \r\n",
      "multiple occasions over a four year period, and he sought regular \r\n",
      "and continuous medical treatment for back pain beginning five \r\n",
      "years after discharge from service.  \n",
      "\n",
      "sentence # 274 / case 1100174.txt / @11989\n",
      "pred: Evidence / true: EvidenceBased/Intermediate Finding\n",
      "Although the Veteran reported that his lower back pain happened a \r\n",
      "month and a half prior when lifting a 200 pound weight in a March \r\n",
      "1995 chiropractic medical history assessment and denied knowledge \r\n",
      "of any employment-related injury during that period at his June \r\n",
      "2010 examination, there is no indication in the medical record \r\n",
      "that this injury was employment-related. \n",
      "\n",
      "sentence # 278 / case 1100174.txt / @13099\n",
      "pred: Evidence / true: EvidenceBased/Intermediate Finding\n",
      "Additionally, although the March 1995 treatment record could be \r\n",
      "read to say that all of the Veteran's back symptoms began a month \r\n",
      "and a half prior to March 1995, the Board finds that this \r\n",
      "statement is consistent with the Veteran's testimony regarding \r\n",
      "the severe worsening of his ongoing back pain in 1994, which he \r\n",
      "testified caused him to seek treatment.  \n",
      "\n",
      "sentence # 362 / case 1418226.txt / @1636\n",
      "pred: Evidence / true: EvidenceBased/Intermediate Finding\n",
      "2.  It is reasonably shown that the Veteran's CLL is related to his exposure to contaminated water at Camp Lejeune.\n",
      "\n",
      "sentence # 428 / case 1641334.txt / @1874\n",
      "pred: Evidence / true: EvidenceBased/Intermediate Finding\n",
      "Arthritis of the right shoulder was not shown in service or for many years thereafter, and the most probative evidence indicates the Veteran's current right shoulder disabilities are not related to service.\n",
      "\n",
      "sentence # 537 / case 1641334.txt / @18350\n",
      "pred: Evidence / true: EvidenceBased/Intermediate Finding\n",
      "The Board has considered the Veteran's reports of continual right shoulder symptoms and dislocations following the 1988 injury, but finds such assertions are not persuasive.\n",
      "\n",
      "sentence # 724 / case 1205178.txt / @8335\n",
      "pred: Evidence / true: EvidenceBased/Intermediate Finding\n",
      "The Board additionally finds that general due process considerations have been complied with by VA.\n",
      "\n"
     ]
    }
   ],
   "source": [
    "prediction_errors(embedding_clf_rf,\n",
    "                  test_spans,\n",
    "                  'embedding',\n",
    "                  spacy_tfidf_vectorizer, model_cbow,\n",
    "                  select_pred_label='Evidence',\n",
    "                  select_true_label='EvidenceBased/Intermediate Finding')"
   ]
  },
  {
   "cell_type": "code",
   "execution_count": 290,
   "id": "b6f86339",
   "metadata": {},
   "outputs": [
    {
     "name": "stdout",
     "output_type": "stream",
     "text": [
      "sentence # 155 / case 0709343.txt / @14174\n",
      "pred: EvidenceBased/Intermediate Finding / true: Evidence\n",
      "The veteran's malaria \r\n",
      "was not currently present or active.\n",
      "\n",
      "sentence # 727 / case 1205178.txt / @8488\n",
      "pred: EvidenceBased/Intermediate Finding / true: Evidence\n",
      "The Veteran seeks service connection for a hearing disability claimed as the result of in-service noise exposure. \n",
      "\n",
      "sentence # 791 / case 1205178.txt / @19454\n",
      "pred: EvidenceBased/Intermediate Finding / true: Evidence\n",
      "Although the Veteran is competent to report in-service acoustic trauma, he is not competent to render a probative (persuasive) opinion on a medical matter. \n",
      "\n"
     ]
    }
   ],
   "source": [
    "prediction_errors(embedding_clf_rf,\n",
    "                  test_spans,\n",
    "                  'embedding',\n",
    "                  spacy_tfidf_vectorizer, model_cbow,\n",
    "                  select_true_label='Evidence',\n",
    "                  select_pred_label='EvidenceBased/Intermediate Finding')"
   ]
  },
  {
   "cell_type": "code",
   "execution_count": 298,
   "id": "64c4ea4a",
   "metadata": {
    "collapsed": true
   },
   "outputs": [
    {
     "name": "stdout",
     "output_type": "stream",
     "text": [
      "sentence # 109 / case 0709343.txt / @6556\n",
      "pred: Citation / true: PolicyBasedReasoning\n",
      "The Board recognizes that, according to Pelegrini v. \r\n",
      "Principi, 18 Vet. App. 112, 119-20 (2004), proper VCAA notice \r\n",
      "must \"precede an initial unfavorable [agency of original \r\n",
      "jurisdiction (AOJ)] decision on a service-connection claim.\"  \n",
      "\n",
      "sentence # 197 / case 0709343.txt / @20540\n",
      "pred: EvidenceBased/Intermediate Finding / true: PolicyBasedReasoning\n",
      "The Board is cognizant that, under 38 C.F.R. � 4.88 (2006), \r\n",
      "it is critical to recognize the nature of the disease is \r\n",
      "question.\n",
      "\n",
      "sentence # 209 / case 0709343.txt / @23085\n",
      "pred: LegalRule / true: PolicyBasedReasoning\n",
      " In making this determination, the \r\n",
      "Board has considered the provisions of 38 U.S.C.A. � 5107(b), \r\n",
      "but there is not such a state of approximate balance of the \r\n",
      "positive evidence with the negative evidence to otherwise \r\n",
      "warrant a favorable decision. \n",
      "\n"
     ]
    }
   ],
   "source": [
    "prediction_errors(embedding_clf_rf,\n",
    "                  test_spans,\n",
    "                  'embedding',\n",
    "                  spacy_tfidf_vectorizer, model_cbow,\n",
    "                  select_true_label='PolicyBasedReasoning',)"
   ]
  },
  {
   "cell_type": "code",
   "execution_count": 299,
   "id": "a696a07c",
   "metadata": {
    "collapsed": true
   },
   "outputs": [
    {
     "name": "stdout",
     "output_type": "stream",
     "text": [
      "sentence # 67 / case 0831180.txt / @3101\n",
      "pred: Evidence / true: RemandInstructions\n",
      "The veteran's claims folder \r\n",
      "should be made available to and \r\n",
      "reviewed by the examiner.\n",
      "\n",
      "sentence # 69 / case 0831180.txt / @3423\n",
      "pred: Evidence / true: RemandInstructions\n",
      "Additionally, the \r\n",
      "examiner should review the veteran's \r\n",
      "personnel records and provide an \r\n",
      "opinion as to whether the behavior \r\n",
      "described therein evinces symptoms of \r\n",
      "any current mental disorder.\n",
      "\n",
      "sentence # 318 / case 0836575.txt / @3032\n",
      "pred: ConclusionOfLaw / true: RemandInstructions\n",
      "Accordingly, the case is REMANDED for the following action:\n",
      "\n",
      "sentence # 320 / case 0836575.txt / @3207\n",
      "pred: EvidenceBased/Intermediate Finding / true: RemandInstructions\n",
      "This \r\n",
      "letter should address VA's duties to \r\n",
      "notify and assist the veteran with \r\n",
      "regard to direct service connection and \r\n",
      "secondary service connection.  \n",
      "\n",
      "sentence # 321 / case 0836575.txt / @3365\n",
      "pred: Evidence / true: RemandInstructions\n",
      "Specifically, the letter should: \n",
      "\n",
      "sentence # 322 / case 0836575.txt / @3402\n",
      "pred: LegalRule / true: RemandInstructions\n",
      "Notify the veteran of any information, \r\n",
      "and any medical or lay evidence, not \r\n",
      "previously provided to VA that is \r\n",
      "necessary to substantiate the claim.\n",
      "\n",
      "sentence # 323 / case 0836575.txt / @3558\n",
      "pred: LegalRule / true: RemandInstructions\n",
      "As part of that notice, VA shall \r\n",
      "indicate which portion of that \r\n",
      "information and evidence, if any, is to \r\n",
      "be provided by the veteran and which \r\n",
      "portion, if any, VA, in accordance with \r\n",
      "section 5103A will attempt to obtain on \r\n",
      "behalf of the veteran.\n",
      "\n",
      "sentence # 324 / case 0836575.txt / @3817\n",
      "pred: LegalRule / true: RemandInstructions\n",
      "When VA receives a complete or \r\n",
      "substantially complete application for \r\n",
      "benefits, it will notify the veteran of \r\n",
      "any information and medical or lay \r\n",
      "evidence that is necessary to \r\n",
      "substantiate the claim.\n",
      "\n",
      "sentence # 326 / case 0836575.txt / @4213\n",
      "pred: Citation / true: RemandInstructions\n",
      "2.  The veteran should also be provided \r\n",
      "with a notice letter providing him with \r\n",
      "information regarding how VA determines \r\n",
      "disability ratings and effective dates, \r\n",
      "consistent with the holding in \r\n",
      "Dingess/Hartman v. Nicholson, 19 Vet. \r\n",
      "App. 473 (2006).\n",
      "\n",
      "sentence # 658 / case 1638605.txt / @2086\n",
      "pred: Evidence / true: RemandInstructions\n",
      "The AOJ should review the case again based on the additional evidence and argument submitted by the Veteran's in August 2016 along with all the evidence of record.\n",
      "\n"
     ]
    }
   ],
   "source": [
    "prediction_errors(embedding_clf_rf,\n",
    "                  test_spans,\n",
    "                  'embedding',\n",
    "                  spacy_tfidf_vectorizer, model_cbow,\n",
    "                  select_true_label='RemandInstructions',)"
   ]
  },
  {
   "cell_type": "code",
   "execution_count": null,
   "id": "65ce6e6b",
   "metadata": {},
   "outputs": [],
   "source": []
  },
  {
   "cell_type": "markdown",
   "id": "f8ebade6",
   "metadata": {},
   "source": [
    "# Appendix"
   ]
  },
  {
   "cell_type": "markdown",
   "id": "e90fadab",
   "metadata": {},
   "source": [
    "### Change Models in luima_sbd"
   ]
  },
  {
   "cell_type": "markdown",
   "id": "f53d91a6",
   "metadata": {},
   "source": [
    "SIMPLE_MODEL = '20180904.crfsuite'"
   ]
  },
  {
   "cell_type": "code",
   "execution_count": 58,
   "id": "19a04d1e",
   "metadata": {},
   "outputs": [
    {
     "name": "stdout",
     "output_type": "stream",
     "text": [
      "Error Metrics - strict:\n",
      "+-------+--------------------+--------------------+--------------------+\n",
      "| Label |     Precision      |       Recall       |      F1-score      |\n",
      "+-------+--------------------+--------------------+--------------------+\n",
      "|   S   | 0.7827216628775576 | 0.9409161894846434 | 0.8545594232019385 |\n",
      "|   E   | 0.5092562520298798 | 0.6121014964216005 | 0.5559626521687743 |\n",
      "|   I   | 0.9965824996914895 | 0.9935124656103134 | 0.9950451146460011 |\n",
      "+-------+--------------------+--------------------+--------------------+\n",
      "Error Metrics - lenient:\n",
      "+-------+--------------------+--------------------+--------------------+\n",
      "| Label |     Precision      |       Recall       |      F1-score      |\n",
      "+-------+--------------------+--------------------+--------------------+\n",
      "|   S   | 0.8216953556349464 | 0.9877667881311817 | 0.8971100998758939 |\n",
      "|   E   | 0.8146584388870846 | 0.9791802212101497 | 0.8893747783949888 |\n",
      "|   I   | 1.0030880906981094 | 0.9999980157411257 | 1.001540669756618  |\n",
      "+-------+--------------------+--------------------+--------------------+\n",
      "Error Metrics - sentence level:\n",
      "+--------------------+--------------------+------------------+\n",
      "|     Precision      |       Recall       |     F1-score     |\n",
      "+--------------------+--------------------+------------------+\n",
      "| 0.7085683874401277 | 0.8656697009102731 | 0.77928007023705 |\n",
      "+--------------------+--------------------+------------------+\n"
     ]
    }
   ],
   "source": [
    "from luima_sbd.sbd_utils import text2sentences\n",
    "simple_segmenter = text2sentences\n",
    "\n",
    "simple_seg_results = get_luima_results (documents_by_id, train_doc_id, simple_segmenter)\n",
    "simple_seg_labels = make_seg_labels(documents_by_id, train_doc_id, simple_seg_results)\n",
    "print('Error Metrics - strict:')\n",
    "error_metrics(get_label_sequence(anno_seg_labels), get_label_sequence(simple_seg_labels), strict)\n",
    "print('Error Metrics - lenient:')\n",
    "error_metrics(get_label_sequence(anno_seg_labels), get_label_sequence(simple_seg_labels), lenient)\n",
    "print('Error Metrics - sentence level:')\n",
    "luima_sentence_level_evaluation(train_spans, simple_segmenter)"
   ]
  },
  {
   "cell_type": "markdown",
   "id": "492f57fb",
   "metadata": {},
   "source": [
    "INTEGRATING_MODEL = 'sbd_INT.crfsuite'"
   ]
  },
  {
   "cell_type": "code",
   "execution_count": 57,
   "id": "4ff30f8e",
   "metadata": {},
   "outputs": [
    {
     "name": "stdout",
     "output_type": "stream",
     "text": [
      "Error Metrics - strict:\n",
      "+-------+---------------------+---------------------+---------------------+\n",
      "| Label |      Precision      |        Recall       |       F1-score      |\n",
      "+-------+---------------------+---------------------+---------------------+\n",
      "|   S   |  0.8287461773700305 | 0.07053617907339928 | 0.13000719597025667 |\n",
      "|   E   | 0.46788990825688076 | 0.03981782693558881 |  0.0733900947355798 |\n",
      "|   I   |  0.9857915017113603 |  0.9995436204588996 |  0.9926199316527147 |\n",
      "+-------+---------------------+---------------------+---------------------+\n",
      "Error Metrics - lenient:\n",
      "+-------+--------------------+---------------------+---------------------+\n",
      "| Label |     Precision      |        Recall       |       F1-score      |\n",
      "+-------+--------------------+---------------------+---------------------+\n",
      "|   S   | 0.8990825688073395 | 0.07652264445601249 | 0.14104101703046293 |\n",
      "|   E   | 0.8149847094801224 |  0.069355888093689  |  0.1278330735100132 |\n",
      "|   I   | 0.9862396452425357 |  0.9999980157411257 |  0.9930711794069442 |\n",
      "+-------+--------------------+---------------------+---------------------+\n",
      "Error Metrics - sentence level:\n",
      "+--------------------+--------------------+--------------------+\n",
      "|     Precision      |       Recall       |      F1-score      |\n",
      "+--------------------+--------------------+--------------------+\n",
      "| 0.9822142028611934 | 0.9910273081924578 | 0.9866010745032041 |\n",
      "+--------------------+--------------------+--------------------+\n"
     ]
    }
   ],
   "source": [
    "from luima_sbd.sbd_utils import text2sentences\n",
    "int_segmenter = text2sentences\n",
    "\n",
    "int_seg_results = get_luima_results (documents_by_id, train_doc_id, int_segmenter)\n",
    "int_seg_labels = make_seg_labels(documents_by_id, train_doc_id, int_seg_results)\n",
    "print('Error Metrics - strict:')\n",
    "error_metrics(get_label_sequence(anno_seg_labels), get_label_sequence(int_seg_labels), strict)\n",
    "print('Error Metrics - lenient:')\n",
    "error_metrics(get_label_sequence(anno_seg_labels), get_label_sequence(int_seg_labels), lenient)\n",
    "print('Error Metrics - sentence level:')\n",
    "luima_sentence_level_evaluation(train_spans, int_segmenter)"
   ]
  },
  {
   "cell_type": "markdown",
   "id": "fd08323d",
   "metadata": {},
   "source": [
    "SEN_MODEL = 'sbd_SEN.crfsuite'"
   ]
  },
  {
   "cell_type": "code",
   "execution_count": 55,
   "id": "dee2d88d",
   "metadata": {},
   "outputs": [
    {
     "name": "stdout",
     "output_type": "stream",
     "text": [
      "Error Metrics - strict:\n",
      "+-------+--------------------+--------------------+--------------------+\n",
      "| Label |     Precision      |       Recall       |      F1-score      |\n",
      "+-------+--------------------+--------------------+--------------------+\n",
      "|   S   | 0.8224105461393597 | 0.5683237896928683 | 0.6721563798676313 |\n",
      "|   E   | 0.5634651600753295 | 0.3893298633702017 | 0.4604848018468642 |\n",
      "|   I   | 0.9920922856335948 | 0.996766650164247  | 0.9944239748789353 |\n",
      "+-------+--------------------+--------------------+--------------------+\n",
      "Error Metrics - lenient:\n",
      "+-------+--------------------+--------------------+--------------------+\n",
      "| Label |     Precision      |       Recall       |      F1-score      |\n",
      "+-------+--------------------+--------------------+--------------------+\n",
      "|   S   | 0.8736346516007533 | 0.6037220197813639 | 0.7140218562413422 |\n",
      "|   E   | 0.9060263653483992 | 0.626024723487313  | 0.7404386302424009 |\n",
      "|   I   | 0.9953084976330181 | 0.9999980157411257 | 0.9976477458595526 |\n",
      "+-------+--------------------+--------------------+--------------------+\n",
      "Error Metrics - sentence level:\n",
      "+--------------------+--------------------+-------------------+\n",
      "|     Precision      |       Recall       |      F1-score     |\n",
      "+--------------------+--------------------+-------------------+\n",
      "| 0.9610191082802548 | 0.9810143042912873 | 0.970913770913771 |\n",
      "+--------------------+--------------------+-------------------+\n"
     ]
    }
   ],
   "source": [
    "from luima_sbd.sbd_utils import text2sentences\n",
    "sen_segmenter = text2sentences\n",
    "\n",
    "sen_seg_results = get_luima_results (documents_by_id, train_doc_id, sen_segmenter)\n",
    "sen_seg_labels = make_seg_labels(documents_by_id, train_doc_id, sen_seg_results)\n",
    "print('Error Metrics - strict:')\n",
    "error_metrics(get_label_sequence(anno_seg_labels), get_label_sequence(sen_seg_labels), strict)\n",
    "print('Error Metrics - lenient:')\n",
    "error_metrics(get_label_sequence(anno_seg_labels), get_label_sequence(sen_seg_labels), lenient)\n",
    "print('Error Metrics - sentence level:')\n",
    "luima_sentence_level_evaluation(train_spans, sen_segmenter)"
   ]
  },
  {
   "cell_type": "markdown",
   "id": "13d1ba26",
   "metadata": {},
   "source": [
    "NSEN_MODEL = 'sbd_NSEN.crfsuite'"
   ]
  },
  {
   "cell_type": "code",
   "execution_count": 56,
   "id": "0343cea6",
   "metadata": {
    "scrolled": true
   },
   "outputs": [
    {
     "name": "stdout",
     "output_type": "stream",
     "text": [
      "Error Metrics - strict:\n",
      "+-------+--------------------+---------------------+---------------------+\n",
      "| Label |     Precision      |        Recall       |       F1-score      |\n",
      "+-------+--------------------+---------------------+---------------------+\n",
      "|   S   | 0.4579596412556054 | 0.10632483081728267 |  0.172581326573722  |\n",
      "|   E   | 0.3010089686098655 | 0.06987638256343526 | 0.11342274791424647 |\n",
      "|   I   | 0.9862562197592706 |  0.9978034254260948 |  0.9919962202866645 |\n",
      "+-------+--------------------+---------------------+---------------------+\n",
      "Error Metrics - lenient:\n",
      "+-------+---------------------+---------------------+--------------------+\n",
      "| Label |      Precision      |        Recall       |      F1-score      |\n",
      "+-------+---------------------+---------------------+--------------------+\n",
      "|   S   | 0.48934977578475336 | 0.11361270171785529 | 0.1844106463878327 |\n",
      "|   E   |  0.5330717488789237 | 0.12374756018217306 | 0.200865983736403  |\n",
      "|   I   |  0.988425412901796  |  0.9999980157411257 | 0.994178038109808  |\n",
      "+-------+---------------------+---------------------+--------------------+\n",
      "Error Metrics - sentence level:\n",
      "+-------------------+--------------------+--------------------+\n",
      "|     Precision     |       Recall       |      F1-score      |\n",
      "+-------------------+--------------------+--------------------+\n",
      "| 0.908676923076923 | 0.9600780234070221 | 0.9336705659184319 |\n",
      "+-------------------+--------------------+--------------------+\n"
     ]
    }
   ],
   "source": [
    "from luima_sbd.sbd_utils import text2sentences\n",
    "nsen_segmenter = text2sentences\n",
    "\n",
    "nsen_seg_results = get_luima_results (documents_by_id, train_doc_id, nsen_segmenter)\n",
    "nsen_seg_labels = make_seg_labels(documents_by_id, train_doc_id, nsen_seg_results)\n",
    "print('Error Metrics - strict:')\n",
    "error_metrics(get_label_sequence(anno_seg_labels), get_label_sequence(nsen_seg_labels), strict)\n",
    "print('Error Metrics - lenient:')\n",
    "error_metrics(get_label_sequence(anno_seg_labels), get_label_sequence(nsen_seg_labels), lenient)\n",
    "print('Error Metrics - sentence level:')\n",
    "luima_sentence_level_evaluation(train_spans, nsen_segmenter)"
   ]
  },
  {
   "cell_type": "markdown",
   "id": "c597c7b2",
   "metadata": {},
   "source": [
    "### unlabeled corpus seg by luima int_model"
   ]
  },
  {
   "cell_type": "code",
   "execution_count": 73,
   "id": "9bca73c7",
   "metadata": {},
   "outputs": [],
   "source": [
    "sents_of_unlabeled_data = seg_unlabeled_data(unlabeled_data, luima_segmenter)"
   ]
  },
  {
   "cell_type": "code",
   "execution_count": 74,
   "id": "9a3c659c",
   "metadata": {},
   "outputs": [
    {
     "data": {
      "text/plain": [
       "277586"
      ]
     },
     "execution_count": 74,
     "metadata": {},
     "output_type": "execute_result"
    }
   ],
   "source": [
    "len(sents_of_unlabeled_data)"
   ]
  },
  {
   "cell_type": "code",
   "execution_count": null,
   "id": "c64169f1",
   "metadata": {},
   "outputs": [],
   "source": []
  },
  {
   "cell_type": "markdown",
   "id": "43debf3e",
   "metadata": {},
   "source": [
    "### TFIDF tuning"
   ]
  },
  {
   "cell_type": "code",
   "execution_count": 165,
   "id": "9345bf83",
   "metadata": {
    "collapsed": true
   },
   "outputs": [
    {
     "name": "stdout",
     "output_type": "stream",
     "text": [
      "TFIDF DecisionTree TRAIN:\n",
      "                                    precision    recall  f1-score   support\n",
      "\n",
      "                        CaseFooter       0.99      0.93      0.96        88\n",
      "                        CaseHeader       0.99      0.96      0.98        82\n",
      "                         CaseIssue       0.99      0.97      0.98        77\n",
      "                          Citation       0.99      0.97      0.98      1019\n",
      "                   ConclusionOfLaw       0.93      0.46      0.61       169\n",
      "                          Evidence       0.65      0.90      0.76      2067\n",
      "EvidenceBased/Intermediate Finding       0.48      0.51      0.49       682\n",
      "            EvidenceBasedReasoning       0.76      0.10      0.17       526\n",
      "                            Header       0.89      0.99      0.94       718\n",
      "                       LegalPolicy       0.93      0.26      0.40        98\n",
      "                         LegalRule       0.70      0.57      0.63       849\n",
      "              PolicyBasedReasoning       1.00      0.08      0.15        25\n",
      "                         Procedure       0.85      0.81      0.83       838\n",
      "                RemandInstructions       0.69      0.58      0.63       364\n",
      "\n",
      "                          accuracy                           0.75      7602\n",
      "                         macro avg       0.85      0.65      0.68      7602\n",
      "                      weighted avg       0.76      0.75      0.73      7602\n",
      "\n",
      "TFIDF DecisionTree DEV:\n",
      "                                    precision    recall  f1-score   support\n",
      "\n",
      "                        CaseFooter       0.90      1.00      0.95         9\n",
      "                        CaseHeader       1.00      1.00      1.00         9\n",
      "                         CaseIssue       1.00      1.00      1.00         9\n",
      "                          Citation       0.99      0.90      0.94       102\n",
      "                   ConclusionOfLaw       1.00      0.53      0.69        17\n",
      "                          Evidence       0.68      0.92      0.78       244\n",
      "EvidenceBased/Intermediate Finding       0.37      0.61      0.46        54\n",
      "            EvidenceBasedReasoning       0.62      0.06      0.11        86\n",
      "                            Header       0.91      1.00      0.95        79\n",
      "                       LegalPolicy       0.00      0.00      0.00         2\n",
      "                         LegalRule       0.70      0.62      0.66        73\n",
      "                         Procedure       0.93      0.80      0.86        94\n",
      "                RemandInstructions       0.79      0.50      0.61        38\n",
      "\n",
      "                          accuracy                           0.75       816\n",
      "                         macro avg       0.76      0.69      0.69       816\n",
      "                      weighted avg       0.76      0.75      0.72       816\n",
      "\n"
     ]
    },
    {
     "name": "stderr",
     "output_type": "stream",
     "text": [
      "/opt/anaconda3/envs/ldsi/lib/python3.8/site-packages/sklearn/metrics/_classification.py:1245: UndefinedMetricWarning: Precision and F-score are ill-defined and being set to 0.0 in labels with no predicted samples. Use `zero_division` parameter to control this behavior.\n",
      "  _warn_prf(average, modifier, msg_start, len(result))\n",
      "/opt/anaconda3/envs/ldsi/lib/python3.8/site-packages/sklearn/metrics/_classification.py:1245: UndefinedMetricWarning: Precision and F-score are ill-defined and being set to 0.0 in labels with no predicted samples. Use `zero_division` parameter to control this behavior.\n",
      "  _warn_prf(average, modifier, msg_start, len(result))\n",
      "/opt/anaconda3/envs/ldsi/lib/python3.8/site-packages/sklearn/metrics/_classification.py:1245: UndefinedMetricWarning: Precision and F-score are ill-defined and being set to 0.0 in labels with no predicted samples. Use `zero_division` parameter to control this behavior.\n",
      "  _warn_prf(average, modifier, msg_start, len(result))\n"
     ]
    }
   ],
   "source": [
    "tfidf_clf_dt = tree.DecisionTreeClassifier(max_depth=10)\n",
    "tfidf_clf_dt = tfidf_clf_dt.fit(tfidf_train_X, tfidf_train_y)\n",
    "print('TFIDF DecisionTree TRAIN:\\n'+classification_report(train_spans_labels, tfidf_clf_dt.predict(tfidf_train_X)))\n",
    "print('TFIDF DecisionTree DEV:\\n'+classification_report(val_spans_labels, tfidf_clf_dt.predict(tfidf_dev_X)))"
   ]
  },
  {
   "cell_type": "code",
   "execution_count": 168,
   "id": "2a22f36e",
   "metadata": {
    "collapsed": true
   },
   "outputs": [
    {
     "name": "stdout",
     "output_type": "stream",
     "text": [
      "TFIDF DecisionTree TRAIN:\n",
      "                                    precision    recall  f1-score   support\n",
      "\n",
      "                        CaseFooter       0.99      0.97      0.98        88\n",
      "                        CaseHeader       0.99      0.96      0.98        82\n",
      "                         CaseIssue       1.00      0.99      0.99        77\n",
      "                          Citation       1.00      0.99      0.99      1019\n",
      "                   ConclusionOfLaw       0.92      0.86      0.89       169\n",
      "                          Evidence       0.76      0.95      0.85      2067\n",
      "EvidenceBased/Intermediate Finding       0.92      0.62      0.74       682\n",
      "            EvidenceBasedReasoning       0.64      0.55      0.59       526\n",
      "                            Header       0.95      0.99      0.97       718\n",
      "                       LegalPolicy       0.98      0.58      0.73        98\n",
      "                         LegalRule       0.84      0.80      0.82       849\n",
      "              PolicyBasedReasoning       1.00      0.44      0.61        25\n",
      "                         Procedure       0.96      0.89      0.92       838\n",
      "                RemandInstructions       0.94      0.73      0.82       364\n",
      "\n",
      "                          accuracy                           0.86      7602\n",
      "                         macro avg       0.92      0.81      0.85      7602\n",
      "                      weighted avg       0.87      0.86      0.86      7602\n",
      "\n",
      "TFIDF DecisionTree DEV:\n",
      "                                    precision    recall  f1-score   support\n",
      "\n",
      "                        CaseFooter       0.90      1.00      0.95         9\n",
      "                        CaseHeader       1.00      1.00      1.00         9\n",
      "                         CaseIssue       1.00      0.89      0.94         9\n",
      "                          Citation       0.99      0.97      0.98       102\n",
      "                   ConclusionOfLaw       0.72      0.76      0.74        17\n",
      "                          Evidence       0.74      0.91      0.82       244\n",
      "EvidenceBased/Intermediate Finding       0.57      0.56      0.56        54\n",
      "            EvidenceBasedReasoning       0.56      0.35      0.43        86\n",
      "                            Header       0.97      0.99      0.98        79\n",
      "                       LegalPolicy       0.50      0.50      0.50         2\n",
      "                         LegalRule       0.74      0.71      0.73        73\n",
      "                         Procedure       0.93      0.83      0.88        94\n",
      "                RemandInstructions       0.71      0.53      0.61        38\n",
      "\n",
      "                          accuracy                           0.80       816\n",
      "                         macro avg       0.79      0.77      0.78       816\n",
      "                      weighted avg       0.79      0.80      0.79       816\n",
      "\n"
     ]
    }
   ],
   "source": [
    "tfidf_clf_dt = tree.DecisionTreeClassifier(max_depth=15)\n",
    "tfidf_clf_dt = tfidf_clf_dt.fit(tfidf_train_X, tfidf_train_y)\n",
    "print('TFIDF DecisionTree TRAIN:\\n'+classification_report(train_spans_labels, tfidf_clf_dt.predict(tfidf_train_X)))\n",
    "print('TFIDF DecisionTree DEV:\\n'+classification_report(val_spans_labels, tfidf_clf_dt.predict(tfidf_dev_X)))\n",
    "#print('TFIDF DecisionTree TEST:\\n'+classification_report(test_spans_labels, tfidf_clf_dt.predict(tfidf_test_X)))"
   ]
  },
  {
   "cell_type": "code",
   "execution_count": 166,
   "id": "8d68b2d7",
   "metadata": {
    "collapsed": true
   },
   "outputs": [
    {
     "name": "stdout",
     "output_type": "stream",
     "text": [
      "TFIDF DecisionTree TRAIN:\n",
      "                                    precision    recall  f1-score   support\n",
      "\n",
      "                        CaseFooter       0.99      0.98      0.98        88\n",
      "                        CaseHeader       0.99      0.96      0.98        82\n",
      "                         CaseIssue       1.00      0.99      0.99        77\n",
      "                          Citation       1.00      1.00      1.00      1019\n",
      "                   ConclusionOfLaw       1.00      0.93      0.96       169\n",
      "                          Evidence       0.84      0.98      0.91      2067\n",
      "EvidenceBased/Intermediate Finding       0.97      0.80      0.88       682\n",
      "            EvidenceBasedReasoning       0.86      0.75      0.80       526\n",
      "                            Header       0.98      1.00      0.99       718\n",
      "                       LegalPolicy       0.99      0.74      0.85        98\n",
      "                         LegalRule       0.93      0.92      0.92       849\n",
      "              PolicyBasedReasoning       1.00      0.72      0.84        25\n",
      "                         Procedure       0.99      0.93      0.96       838\n",
      "                RemandInstructions       0.99      0.85      0.92       364\n",
      "\n",
      "                          accuracy                           0.93      7602\n",
      "                         macro avg       0.97      0.90      0.93      7602\n",
      "                      weighted avg       0.93      0.93      0.93      7602\n",
      "\n",
      "TFIDF DecisionTree DEV:\n",
      "                                    precision    recall  f1-score   support\n",
      "\n",
      "                        CaseFooter       0.90      1.00      0.95         9\n",
      "                        CaseHeader       1.00      1.00      1.00         9\n",
      "                         CaseIssue       1.00      0.89      0.94         9\n",
      "                          Citation       0.97      0.97      0.97       102\n",
      "                   ConclusionOfLaw       0.75      0.71      0.73        17\n",
      "                          Evidence       0.76      0.90      0.82       244\n",
      "EvidenceBased/Intermediate Finding       0.53      0.61      0.57        54\n",
      "            EvidenceBasedReasoning       0.59      0.35      0.44        86\n",
      "                            Header       0.99      0.97      0.98        79\n",
      "                       LegalPolicy       0.25      0.50      0.33         2\n",
      "                         LegalRule       0.68      0.70      0.69        73\n",
      "                         Procedure       0.93      0.84      0.88        94\n",
      "                RemandInstructions       0.78      0.55      0.65        38\n",
      "\n",
      "                          accuracy                           0.79       816\n",
      "                         macro avg       0.78      0.77      0.77       816\n",
      "                      weighted avg       0.79      0.79      0.79       816\n",
      "\n"
     ]
    }
   ],
   "source": [
    "tfidf_clf_dt = tree.DecisionTreeClassifier(max_depth=20)\n",
    "tfidf_clf_dt = tfidf_clf_dt.fit(tfidf_train_X, tfidf_train_y)\n",
    "print('TFIDF DecisionTree TRAIN:\\n'+classification_report(train_spans_labels, tfidf_clf_dt.predict(tfidf_train_X)))\n",
    "print('TFIDF DecisionTree DEV:\\n'+classification_report(val_spans_labels, tfidf_clf_dt.predict(tfidf_dev_X)))"
   ]
  },
  {
   "cell_type": "code",
   "execution_count": 167,
   "id": "2c4e2521",
   "metadata": {
    "collapsed": true
   },
   "outputs": [
    {
     "name": "stdout",
     "output_type": "stream",
     "text": [
      "TFIDF DecisionTree TRAIN:\n",
      "                                    precision    recall  f1-score   support\n",
      "\n",
      "                        CaseFooter       0.99      1.00      0.99        88\n",
      "                        CaseHeader       0.99      0.99      0.99        82\n",
      "                         CaseIssue       1.00      0.99      0.99        77\n",
      "                          Citation       1.00      1.00      1.00      1019\n",
      "                   ConclusionOfLaw       0.99      0.98      0.98       169\n",
      "                          Evidence       0.95      0.99      0.97      2067\n",
      "EvidenceBased/Intermediate Finding       0.98      0.95      0.96       682\n",
      "            EvidenceBasedReasoning       0.96      0.93      0.95       526\n",
      "                            Header       1.00      1.00      1.00       718\n",
      "                       LegalPolicy       1.00      0.92      0.96        98\n",
      "                         LegalRule       0.99      0.98      0.98       849\n",
      "              PolicyBasedReasoning       1.00      0.92      0.96        25\n",
      "                         Procedure       1.00      0.98      0.99       838\n",
      "                RemandInstructions       1.00      0.97      0.99       364\n",
      "\n",
      "                          accuracy                           0.98      7602\n",
      "                         macro avg       0.99      0.97      0.98      7602\n",
      "                      weighted avg       0.98      0.98      0.98      7602\n",
      "\n",
      "TFIDF DecisionTree DEV:\n",
      "                                    precision    recall  f1-score   support\n",
      "\n",
      "                        CaseFooter       0.90      1.00      0.95         9\n",
      "                        CaseHeader       1.00      1.00      1.00         9\n",
      "                         CaseIssue       1.00      0.89      0.94         9\n",
      "                          Citation       0.99      0.97      0.98       102\n",
      "                   ConclusionOfLaw       0.72      0.76      0.74        17\n",
      "                          Evidence       0.76      0.82      0.79       244\n",
      "EvidenceBased/Intermediate Finding       0.43      0.59      0.50        54\n",
      "            EvidenceBasedReasoning       0.51      0.29      0.37        86\n",
      "                            Header       0.97      0.96      0.97        79\n",
      "                       LegalPolicy       0.12      0.50      0.20         2\n",
      "                         LegalRule       0.68      0.73      0.70        73\n",
      "                         Procedure       0.85      0.82      0.83        94\n",
      "                RemandInstructions       0.70      0.55      0.62        38\n",
      "\n",
      "                          accuracy                           0.76       816\n",
      "                         macro avg       0.74      0.76      0.74       816\n",
      "                      weighted avg       0.77      0.76      0.76       816\n",
      "\n"
     ]
    }
   ],
   "source": [
    "tfidf_clf_dt = tree.DecisionTreeClassifier(max_depth=30)\n",
    "tfidf_clf_dt = tfidf_clf_dt.fit(tfidf_train_X, tfidf_train_y)\n",
    "print('TFIDF DecisionTree TRAIN:\\n'+classification_report(train_spans_labels, tfidf_clf_dt.predict(tfidf_train_X)))\n",
    "print('TFIDF DecisionTree DEV:\\n'+classification_report(val_spans_labels, tfidf_clf_dt.predict(tfidf_dev_X)))"
   ]
  },
  {
   "cell_type": "markdown",
   "id": "f911bfcd",
   "metadata": {},
   "source": [
    "### Emdedding tuning"
   ]
  },
  {
   "cell_type": "code",
   "execution_count": 88,
   "id": "2dcf3738",
   "metadata": {
    "collapsed": true
   },
   "outputs": [
    {
     "name": "stdout",
     "output_type": "stream",
     "text": [
      "Embedding LogisticRegression TRAIN:\n",
      "                                    precision    recall  f1-score   support\n",
      "\n",
      "                        CaseFooter       0.97      0.95      0.96        88\n",
      "                        CaseHeader       0.98      0.96      0.97        82\n",
      "                         CaseIssue       0.90      0.99      0.94        77\n",
      "                          Citation       0.97      0.99      0.98      1019\n",
      "                   ConclusionOfLaw       0.81      0.80      0.80       169\n",
      "                          Evidence       0.80      0.90      0.84      2067\n",
      "EvidenceBased/Intermediate Finding       0.54      0.51      0.53       682\n",
      "            EvidenceBasedReasoning       0.44      0.27      0.33       526\n",
      "                            Header       0.99      0.99      0.99       718\n",
      "                       LegalPolicy       0.60      0.39      0.47        98\n",
      "                         LegalRule       0.74      0.82      0.78       849\n",
      "              PolicyBasedReasoning       0.67      0.08      0.14        25\n",
      "                         Procedure       0.89      0.85      0.87       838\n",
      "                RemandInstructions       0.82      0.78      0.80       364\n",
      "\n",
      "                          accuracy                           0.81      7602\n",
      "                         macro avg       0.79      0.73      0.74      7602\n",
      "                      weighted avg       0.80      0.81      0.80      7602\n",
      "\n",
      "Embedding LogisticRegression DEV:\n",
      "                                    precision    recall  f1-score   support\n",
      "\n",
      "                        CaseFooter       1.00      1.00      1.00         9\n",
      "                        CaseHeader       1.00      1.00      1.00         9\n",
      "                         CaseIssue       0.90      1.00      0.95         9\n",
      "                          Citation       0.99      0.99      0.99       102\n",
      "                   ConclusionOfLaw       0.84      0.94      0.89        17\n",
      "                          Evidence       0.78      0.91      0.84       244\n",
      "EvidenceBased/Intermediate Finding       0.54      0.61      0.57        54\n",
      "            EvidenceBasedReasoning       0.51      0.21      0.30        86\n",
      "                            Header       0.96      0.97      0.97        79\n",
      "                       LegalPolicy       0.33      0.50      0.40         2\n",
      "                         LegalRule       0.78      0.86      0.82        73\n",
      "                         Procedure       0.94      0.86      0.90        94\n",
      "                RemandInstructions       0.83      0.79      0.81        38\n",
      "\n",
      "                          accuracy                           0.82       816\n",
      "                         macro avg       0.80      0.82      0.80       816\n",
      "                      weighted avg       0.81      0.82      0.80       816\n",
      "\n"
     ]
    },
    {
     "name": "stderr",
     "output_type": "stream",
     "text": [
      "/opt/anaconda3/envs/ldsi/lib/python3.8/site-packages/sklearn/linear_model/_logistic.py:763: ConvergenceWarning: lbfgs failed to converge (status=1):\n",
      "STOP: TOTAL NO. of ITERATIONS REACHED LIMIT.\n",
      "\n",
      "Increase the number of iterations (max_iter) or scale the data as shown in:\n",
      "    https://scikit-learn.org/stable/modules/preprocessing.html\n",
      "Please also refer to the documentation for alternative solver options:\n",
      "    https://scikit-learn.org/stable/modules/linear_model.html#logistic-regression\n",
      "  n_iter_i = _check_optimize_result(\n"
     ]
    }
   ],
   "source": [
    "embedding_clf_lr = LogisticRegression(max_iter=100)\n",
    "embedding_clf_lr = embedding_clf_lr.fit(embedding_train_X, embedding_train_y)\n",
    "print('Embedding LogisticRegression TRAIN:\\n'+classification_report(train_spans_labels, embedding_clf_lr.predict(embedding_train_X)))\n",
    "print('Embedding LogisticRegression DEV:\\n'+classification_report(val_spans_labels, embedding_clf_lr.predict(embedding_dev_X)))"
   ]
  },
  {
   "cell_type": "code",
   "execution_count": 89,
   "id": "62ca48c6",
   "metadata": {
    "collapsed": true
   },
   "outputs": [
    {
     "name": "stdout",
     "output_type": "stream",
     "text": [
      "Embedding LogisticRegression TRAIN:\n",
      "                                    precision    recall  f1-score   support\n",
      "\n",
      "                        CaseFooter       0.98      0.98      0.98        88\n",
      "                        CaseHeader       0.98      0.98      0.98        82\n",
      "                         CaseIssue       0.93      0.99      0.96        77\n",
      "                          Citation       0.97      0.99      0.98      1019\n",
      "                   ConclusionOfLaw       0.80      0.79      0.80       169\n",
      "                          Evidence       0.80      0.90      0.84      2067\n",
      "EvidenceBased/Intermediate Finding       0.54      0.51      0.53       682\n",
      "            EvidenceBasedReasoning       0.44      0.26      0.32       526\n",
      "                            Header       0.99      0.99      0.99       718\n",
      "                       LegalPolicy       0.60      0.34      0.43        98\n",
      "                         LegalRule       0.75      0.83      0.79       849\n",
      "              PolicyBasedReasoning       0.75      0.12      0.21        25\n",
      "                         Procedure       0.88      0.85      0.86       838\n",
      "                RemandInstructions       0.83      0.79      0.81       364\n",
      "\n",
      "                          accuracy                           0.81      7602\n",
      "                         macro avg       0.80      0.74      0.75      7602\n",
      "                      weighted avg       0.80      0.81      0.80      7602\n",
      "\n",
      "Embedding LogisticRegression DEV:\n",
      "                                    precision    recall  f1-score   support\n",
      "\n",
      "                        CaseFooter       0.90      1.00      0.95         9\n",
      "                        CaseHeader       1.00      1.00      1.00         9\n",
      "                         CaseIssue       1.00      0.89      0.94         9\n",
      "                          Citation       0.99      0.99      0.99       102\n",
      "                   ConclusionOfLaw       0.76      0.94      0.84        17\n",
      "                          Evidence       0.78      0.92      0.85       244\n",
      "EvidenceBased/Intermediate Finding       0.57      0.63      0.60        54\n",
      "            EvidenceBasedReasoning       0.51      0.21      0.30        86\n",
      "                            Header       0.96      0.97      0.97        79\n",
      "                       LegalPolicy       0.50      0.50      0.50         2\n",
      "                         LegalRule       0.75      0.88      0.81        73\n",
      "                         Procedure       0.96      0.85      0.90        94\n",
      "                RemandInstructions       0.89      0.82      0.85        38\n",
      "\n",
      "                          accuracy                           0.82       816\n",
      "                         macro avg       0.81      0.82      0.81       816\n",
      "                      weighted avg       0.81      0.82      0.81       816\n",
      "\n"
     ]
    },
    {
     "name": "stderr",
     "output_type": "stream",
     "text": [
      "/opt/anaconda3/envs/ldsi/lib/python3.8/site-packages/sklearn/linear_model/_logistic.py:763: ConvergenceWarning: lbfgs failed to converge (status=1):\n",
      "STOP: TOTAL NO. of ITERATIONS REACHED LIMIT.\n",
      "\n",
      "Increase the number of iterations (max_iter) or scale the data as shown in:\n",
      "    https://scikit-learn.org/stable/modules/preprocessing.html\n",
      "Please also refer to the documentation for alternative solver options:\n",
      "    https://scikit-learn.org/stable/modules/linear_model.html#logistic-regression\n",
      "  n_iter_i = _check_optimize_result(\n"
     ]
    }
   ],
   "source": [
    "embedding_clf_lr = LogisticRegression(max_iter=150)\n",
    "embedding_clf_lr = embedding_clf_lr.fit(embedding_train_X, embedding_train_y)\n",
    "print('Embedding LogisticRegression TRAIN:\\n'+classification_report(train_spans_labels, embedding_clf_lr.predict(embedding_train_X)))\n",
    "print('Embedding LogisticRegression DEV:\\n'+classification_report(val_spans_labels, embedding_clf_lr.predict(embedding_dev_X)))"
   ]
  },
  {
   "cell_type": "code",
   "execution_count": 104,
   "id": "ddee43e9",
   "metadata": {
    "collapsed": true
   },
   "outputs": [
    {
     "name": "stdout",
     "output_type": "stream",
     "text": [
      "Embedding RandomForest TRAIN:\n",
      "                                    precision    recall  f1-score   support\n",
      "\n",
      "                        CaseFooter       1.00      0.97      0.98        88\n",
      "                        CaseHeader       0.99      0.99      0.99        82\n",
      "                         CaseIssue       1.00      0.99      0.99        77\n",
      "                          Citation       1.00      1.00      1.00      1019\n",
      "                   ConclusionOfLaw       0.96      0.89      0.93       169\n",
      "                          Evidence       0.86      0.99      0.92      2067\n",
      "EvidenceBased/Intermediate Finding       0.88      0.84      0.86       682\n",
      "            EvidenceBasedReasoning       0.99      0.62      0.76       526\n",
      "                            Header       1.00      1.00      1.00       718\n",
      "                       LegalPolicy       0.98      0.44      0.61        98\n",
      "                         LegalRule       0.89      0.97      0.92       849\n",
      "              PolicyBasedReasoning       1.00      0.16      0.28        25\n",
      "                         Procedure       0.98      0.93      0.96       838\n",
      "                RemandInstructions       0.97      0.88      0.92       364\n",
      "\n",
      "                          accuracy                           0.93      7602\n",
      "                         macro avg       0.96      0.83      0.86      7602\n",
      "                      weighted avg       0.93      0.93      0.92      7602\n",
      "\n",
      "Embedding RandomForest DEV:\n",
      "                                    precision    recall  f1-score   support\n",
      "\n",
      "                        CaseFooter       1.00      1.00      1.00         9\n",
      "                        CaseHeader       1.00      1.00      1.00         9\n",
      "                         CaseIssue       1.00      1.00      1.00         9\n",
      "                          Citation       1.00      0.99      1.00       102\n",
      "                   ConclusionOfLaw       0.86      0.71      0.77        17\n",
      "                          Evidence       0.71      0.97      0.82       244\n",
      "EvidenceBased/Intermediate Finding       0.58      0.59      0.59        54\n",
      "            EvidenceBasedReasoning       1.00      0.06      0.11        86\n",
      "                            Header       1.00      0.96      0.98        79\n",
      "                       LegalPolicy       0.50      1.00      0.67         2\n",
      "                         LegalRule       0.74      0.88      0.80        73\n",
      "                         Procedure       0.94      0.88      0.91        94\n",
      "                RemandInstructions       0.96      0.61      0.74        38\n",
      "\n",
      "                          accuracy                           0.81       816\n",
      "                         macro avg       0.87      0.82      0.80       816\n",
      "                      weighted avg       0.85      0.81      0.78       816\n",
      "\n"
     ]
    }
   ],
   "source": [
    "embedding_clf_rf = RandomForestClassifier(n_estimators=100, max_depth=12)\n",
    "embedding_clf_rf = embedding_clf_rf.fit(embedding_train_X, embedding_train_y)\n",
    "print('Embedding RandomForest TRAIN:\\n'+classification_report(train_spans_labels, embedding_clf_rf.predict(embedding_train_X)))\n",
    "print('Embedding RandomForest DEV:\\n'+classification_report(val_spans_labels, embedding_clf_rf.predict(embedding_dev_X)))"
   ]
  },
  {
   "cell_type": "code",
   "execution_count": 103,
   "id": "db798095",
   "metadata": {
    "collapsed": true
   },
   "outputs": [
    {
     "name": "stdout",
     "output_type": "stream",
     "text": [
      "Embedding RandomForest TRAIN:\n",
      "                                    precision    recall  f1-score   support\n",
      "\n",
      "                        CaseFooter       1.00      0.99      0.99        88\n",
      "                        CaseHeader       0.99      1.00      0.99        82\n",
      "                         CaseIssue       1.00      1.00      1.00        77\n",
      "                          Citation       1.00      1.00      1.00      1019\n",
      "                   ConclusionOfLaw       0.98      0.97      0.98       169\n",
      "                          Evidence       0.95      1.00      0.98      2067\n",
      "EvidenceBased/Intermediate Finding       0.98      0.96      0.97       682\n",
      "            EvidenceBasedReasoning       1.00      0.89      0.94       526\n",
      "                            Header       1.00      1.00      1.00       718\n",
      "                       LegalPolicy       1.00      0.81      0.89        98\n",
      "                         LegalRule       0.96      0.99      0.98       849\n",
      "              PolicyBasedReasoning       1.00      0.80      0.89        25\n",
      "                         Procedure       1.00      0.97      0.99       838\n",
      "                RemandInstructions       0.99      0.97      0.98       364\n",
      "\n",
      "                          accuracy                           0.98      7602\n",
      "                         macro avg       0.99      0.95      0.97      7602\n",
      "                      weighted avg       0.98      0.98      0.98      7602\n",
      "\n",
      "Embedding RandomForest DEV:\n",
      "                                    precision    recall  f1-score   support\n",
      "\n",
      "                        CaseFooter       1.00      1.00      1.00         9\n",
      "                        CaseHeader       1.00      1.00      1.00         9\n",
      "                         CaseIssue       1.00      1.00      1.00         9\n",
      "                          Citation       1.00      0.99      1.00       102\n",
      "                   ConclusionOfLaw       0.85      0.65      0.73        17\n",
      "                          Evidence       0.73      0.96      0.83       244\n",
      "EvidenceBased/Intermediate Finding       0.53      0.67      0.59        54\n",
      "            EvidenceBasedReasoning       0.70      0.08      0.15        86\n",
      "                            Header       1.00      0.96      0.98        79\n",
      "                       LegalPolicy       1.00      1.00      1.00         2\n",
      "                         LegalRule       0.78      0.92      0.84        73\n",
      "                         Procedure       0.95      0.87      0.91        94\n",
      "                RemandInstructions       0.92      0.63      0.75        38\n",
      "\n",
      "                          accuracy                           0.82       816\n",
      "                         macro avg       0.88      0.83      0.83       816\n",
      "                      weighted avg       0.82      0.82      0.79       816\n",
      "\n"
     ]
    }
   ],
   "source": [
    "embedding_clf_rf = RandomForestClassifier(n_estimators=100, max_depth=15)\n",
    "embedding_clf_rf = embedding_clf_rf.fit(embedding_train_X, embedding_train_y)\n",
    "print('Embedding RandomForest TRAIN:\\n'+classification_report(train_spans_labels, embedding_clf_rf.predict(embedding_train_X)))\n",
    "print('Embedding RandomForest DEV:\\n'+classification_report(val_spans_labels, embedding_clf_rf.predict(embedding_dev_X)))"
   ]
  },
  {
   "cell_type": "code",
   "execution_count": 105,
   "id": "bda6fb3e",
   "metadata": {
    "collapsed": true
   },
   "outputs": [
    {
     "name": "stdout",
     "output_type": "stream",
     "text": [
      "Embedding RandomForest TRAIN:\n",
      "                                    precision    recall  f1-score   support\n",
      "\n",
      "                        CaseFooter       1.00      0.99      0.99        88\n",
      "                        CaseHeader       0.99      1.00      0.99        82\n",
      "                         CaseIssue       1.00      1.00      1.00        77\n",
      "                          Citation       1.00      1.00      1.00      1019\n",
      "                   ConclusionOfLaw       1.00      1.00      1.00       169\n",
      "                          Evidence       0.98      1.00      0.99      2067\n",
      "EvidenceBased/Intermediate Finding       1.00      0.98      0.99       682\n",
      "            EvidenceBasedReasoning       1.00      0.96      0.98       526\n",
      "                            Header       1.00      1.00      1.00       718\n",
      "                       LegalPolicy       1.00      0.97      0.98        98\n",
      "                         LegalRule       0.99      0.99      0.99       849\n",
      "              PolicyBasedReasoning       1.00      1.00      1.00        25\n",
      "                         Procedure       1.00      0.99      0.99       838\n",
      "                RemandInstructions       0.99      0.99      0.99       364\n",
      "\n",
      "                          accuracy                           0.99      7602\n",
      "                         macro avg       1.00      0.99      0.99      7602\n",
      "                      weighted avg       0.99      0.99      0.99      7602\n",
      "\n",
      "Embedding RandomForest DEV:\n",
      "                                    precision    recall  f1-score   support\n",
      "\n",
      "                        CaseFooter       1.00      1.00      1.00         9\n",
      "                        CaseHeader       1.00      1.00      1.00         9\n",
      "                         CaseIssue       1.00      1.00      1.00         9\n",
      "                          Citation       0.99      0.99      0.99       102\n",
      "                   ConclusionOfLaw       0.83      0.59      0.69        17\n",
      "                          Evidence       0.72      0.97      0.83       244\n",
      "EvidenceBased/Intermediate Finding       0.58      0.61      0.59        54\n",
      "            EvidenceBasedReasoning       0.57      0.09      0.16        86\n",
      "                            Header       1.00      0.96      0.98        79\n",
      "                       LegalPolicy       0.67      1.00      0.80         2\n",
      "                         LegalRule       0.76      0.88      0.82        73\n",
      "                         Procedure       0.95      0.89      0.92        94\n",
      "                RemandInstructions       0.96      0.63      0.76        38\n",
      "\n",
      "                          accuracy                           0.81       816\n",
      "                         macro avg       0.85      0.82      0.81       816\n",
      "                      weighted avg       0.81      0.81      0.79       816\n",
      "\n"
     ]
    }
   ],
   "source": [
    "embedding_clf_rf = RandomForestClassifier(n_estimators=100, max_depth=17)\n",
    "embedding_clf_rf = embedding_clf_rf.fit(embedding_train_X, embedding_train_y)\n",
    "print('Embedding RandomForest TRAIN:\\n'+classification_report(train_spans_labels, embedding_clf_rf.predict(embedding_train_X)))\n",
    "print('Embedding RandomForest DEV:\\n'+classification_report(val_spans_labels, embedding_clf_rf.predict(embedding_dev_X)))"
   ]
  },
  {
   "cell_type": "markdown",
   "id": "82e7399a",
   "metadata": {},
   "source": [
    "### CRF"
   ]
  },
  {
   "cell_type": "code",
   "execution_count": 141,
   "id": "a56c97ad",
   "metadata": {},
   "outputs": [],
   "source": [
    "train_by_doc = [(s for s in train_spans if s['document']==doc_id)for doc_id in train_doc_id]\n",
    "val_by_doc = [(s for s in val_spans if s['document']==doc_id)for doc_id in val_doc_id]\n",
    "test_by_doc = [(s for s in test_spans if s['document']==doc_id)for doc_id in test_doc_id]"
   ]
  },
  {
   "cell_type": "code",
   "execution_count": 194,
   "id": "2713d302",
   "metadata": {},
   "outputs": [],
   "source": [
    "num_tokens = np.array([len(s['tokens_spacy']) for s in train_spans])\n",
    "mean = np.mean(num_tokens)\n",
    "std = np.std(num_tokens)"
   ]
  },
  {
   "cell_type": "code",
   "execution_count": 192,
   "id": "faa788f7",
   "metadata": {},
   "outputs": [
    {
     "name": "stdout",
     "output_type": "stream",
     "text": [
      "21.543278084714547\n",
      "16.051778645153245\n"
     ]
    }
   ],
   "source": [
    "print(mean)\n",
    "print(std)"
   ]
  },
  {
   "cell_type": "code",
   "execution_count": 143,
   "id": "0e91ba7f",
   "metadata": {},
   "outputs": [],
   "source": [
    "def make_crf_embedding_features_and_labels(docs, model):\n",
    "    X, x = [], []\n",
    "    Y, y = [], []\n",
    "    for doc in docs:\n",
    "        for s in doc:\n",
    "            tokens = s['tokens_spacy']\n",
    "            embedding = 0\n",
    "            for t in tokens:\n",
    "                embedding = embedding + model.get_word_vector(t)\n",
    "            embedding = embedding/len(tokens)\n",
    "            start_normalized = s['start_normalized']\n",
    "            num_tokens_normalized = (len(tokens)-mean)/std\n",
    "            \n",
    "            temp = {}\n",
    "            for i, value in enumerate(embedding):\n",
    "                temp['embedding{}'.format(i)]=value\n",
    "            temp['start_normalized'] = start_normalized\n",
    "            temp['num_tokens_normalized'] = num_tokens_normalized\n",
    "            x.append(temp)\n",
    "            y.append(s['type'])\n",
    "        X.append(x)\n",
    "        Y.append(y)\n",
    "    return X, Y"
   ]
  },
  {
   "cell_type": "code",
   "execution_count": 144,
   "id": "87e48406",
   "metadata": {},
   "outputs": [],
   "source": [
    "model = model_cbow\n",
    "embedding_train_crf_X, embedding_train_crf_y = make_crf_embedding_features_and_labels(train_by_doc, model)\n",
    "embedding_dev_crf_X, embedding_dev_crf_y = make_crf_embedding_features_and_labels(val_by_doc, model)\n",
    "embedding_test_crf_X, embedding_test_crf_y = make_crf_embedding_features_and_labels(test_by_doc, model)"
   ]
  },
  {
   "cell_type": "code",
   "execution_count": 145,
   "id": "f08cda70",
   "metadata": {
    "collapsed": true
   },
   "outputs": [
    {
     "data": {
      "text/plain": [
       "{'embedding0': -3.173502,\n",
       " 'embedding1': 1.2340724,\n",
       " 'embedding2': -1.6006254,\n",
       " 'embedding3': 0.53549105,\n",
       " 'embedding4': 0.33005765,\n",
       " 'embedding5': -1.1178182,\n",
       " 'embedding6': 0.51504135,\n",
       " 'embedding7': -1.7267102,\n",
       " 'embedding8': -0.20423292,\n",
       " 'embedding9': -2.1178398,\n",
       " 'embedding10': 0.27733684,\n",
       " 'embedding11': 0.36930895,\n",
       " 'embedding12': -1.1288037,\n",
       " 'embedding13': -0.096231565,\n",
       " 'embedding14': -1.8704205,\n",
       " 'embedding15': 1.559106,\n",
       " 'embedding16': -0.45986122,\n",
       " 'embedding17': 0.33987123,\n",
       " 'embedding18': -0.31783867,\n",
       " 'embedding19': 0.65953314,\n",
       " 'embedding20': -0.37326312,\n",
       " 'embedding21': 0.47081232,\n",
       " 'embedding22': 0.449467,\n",
       " 'embedding23': -0.19055781,\n",
       " 'embedding24': 0.40410703,\n",
       " 'embedding25': -1.338053,\n",
       " 'embedding26': 0.26926005,\n",
       " 'embedding27': 0.17706165,\n",
       " 'embedding28': -0.025374383,\n",
       " 'embedding29': 1.0843482,\n",
       " 'embedding30': 1.2601892,\n",
       " 'embedding31': 1.1890724,\n",
       " 'embedding32': 0.23650797,\n",
       " 'embedding33': 0.065915056,\n",
       " 'embedding34': 0.57429755,\n",
       " 'embedding35': -0.9493773,\n",
       " 'embedding36': -2.3486686,\n",
       " 'embedding37': 0.38212228,\n",
       " 'embedding38': -2.024293,\n",
       " 'embedding39': 0.14990023,\n",
       " 'embedding40': -0.59077364,\n",
       " 'embedding41': -2.9793727,\n",
       " 'embedding42': -0.5077963,\n",
       " 'embedding43': 0.78052235,\n",
       " 'embedding44': -1.2372729,\n",
       " 'embedding45': 1.172259,\n",
       " 'embedding46': -0.08700744,\n",
       " 'embedding47': 1.671383,\n",
       " 'embedding48': 0.5404133,\n",
       " 'embedding49': -0.76972646,\n",
       " 'embedding50': 0.6308452,\n",
       " 'embedding51': -0.12230289,\n",
       " 'embedding52': -1.8387718,\n",
       " 'embedding53': -1.3715556,\n",
       " 'embedding54': 0.04608178,\n",
       " 'embedding55': 1.0151695,\n",
       " 'embedding56': 1.0959094,\n",
       " 'embedding57': -0.3574615,\n",
       " 'embedding58': -0.8988683,\n",
       " 'embedding59': 0.5701345,\n",
       " 'embedding60': -1.1008035,\n",
       " 'embedding61': 0.10464625,\n",
       " 'embedding62': 2.4437723,\n",
       " 'embedding63': -0.26595813,\n",
       " 'embedding64': 0.36394882,\n",
       " 'embedding65': 1.6078906,\n",
       " 'embedding66': 0.7689066,\n",
       " 'embedding67': 0.60368955,\n",
       " 'embedding68': -0.11349408,\n",
       " 'embedding69': 0.40501362,\n",
       " 'embedding70': -1.5320094,\n",
       " 'embedding71': 1.809583,\n",
       " 'embedding72': 0.152783,\n",
       " 'embedding73': 0.47994038,\n",
       " 'embedding74': -0.7372855,\n",
       " 'embedding75': 1.1152817,\n",
       " 'embedding76': -3.748373,\n",
       " 'embedding77': -0.25933155,\n",
       " 'embedding78': 2.029048,\n",
       " 'embedding79': 0.4063702,\n",
       " 'embedding80': 1.5071034,\n",
       " 'embedding81': -0.29995236,\n",
       " 'embedding82': -0.24235876,\n",
       " 'embedding83': 0.25844508,\n",
       " 'embedding84': -0.4940865,\n",
       " 'embedding85': 2.0081553,\n",
       " 'embedding86': 0.55168045,\n",
       " 'embedding87': 1.3871851,\n",
       " 'embedding88': 2.339692,\n",
       " 'embedding89': 2.2041533,\n",
       " 'embedding90': -0.16779462,\n",
       " 'embedding91': 1.8210871,\n",
       " 'embedding92': 0.22930154,\n",
       " 'embedding93': 1.7515523,\n",
       " 'embedding94': 0.9553747,\n",
       " 'embedding95': 1.2688417,\n",
       " 'embedding96': 4.4536147,\n",
       " 'embedding97': -2.5217109,\n",
       " 'embedding98': -1.0446448,\n",
       " 'embedding99': 0.51537347,\n",
       " 'start_normalized': 0.0,\n",
       " 'num_tokens_normalized': -0.3453373116622383}"
      ]
     },
     "execution_count": 145,
     "metadata": {},
     "output_type": "execute_result"
    }
   ],
   "source": [
    "embedding_train_crf_X[0][0]"
   ]
  },
  {
   "cell_type": "code",
   "execution_count": 146,
   "id": "91c6b402",
   "metadata": {
    "collapsed": true
   },
   "outputs": [
    {
     "name": "stdout",
     "output_type": "stream",
     "text": [
      "Embedding CRF test:\n",
      "                                    precision    recall  f1-score   support\n",
      "\n",
      "                        CaseHeader       1.00      1.00      1.00        81\n",
      "                         Procedure       0.50      0.88      0.64       648\n",
      "                            Header       0.86      0.86      0.86       567\n",
      "                         CaseIssue       1.00      1.00      1.00        81\n",
      "                          Citation       1.00      1.00      1.00       162\n",
      "                        CaseFooter       1.00      1.00      1.00        81\n",
      "EvidenceBased/Intermediate Finding       0.00      0.00      0.00       162\n",
      "                          Evidence       0.00      0.00      0.00       243\n",
      "                         LegalRule       1.00      1.00      1.00       243\n",
      "                RemandInstructions       1.00      0.50      0.67       162\n",
      "\n",
      "                          accuracy                           0.73      2430\n",
      "                         macro avg       0.74      0.72      0.72      2430\n",
      "                      weighted avg       0.67      0.73      0.68      2430\n",
      "\n"
     ]
    },
    {
     "name": "stderr",
     "output_type": "stream",
     "text": [
      "/opt/anaconda3/envs/ldsi/lib/python3.8/site-packages/sklearn/utils/validation.py:70: FutureWarning: Pass labels=['CaseHeader', 'Procedure', 'Header', 'CaseIssue', 'Citation', 'CaseFooter', 'EvidenceBased/Intermediate Finding', 'Evidence', 'LegalRule', 'RemandInstructions'] as keyword args. From version 1.0 (renaming of 0.25) passing these as positional arguments will result in an error\n",
      "  warnings.warn(f\"Pass {args_msg} as keyword args. From version \"\n",
      "/opt/anaconda3/envs/ldsi/lib/python3.8/site-packages/sklearn/metrics/_classification.py:1245: UndefinedMetricWarning: Precision and F-score are ill-defined and being set to 0.0 in labels with no predicted samples. Use `zero_division` parameter to control this behavior.\n",
      "  _warn_prf(average, modifier, msg_start, len(result))\n",
      "/opt/anaconda3/envs/ldsi/lib/python3.8/site-packages/sklearn/metrics/_classification.py:1245: UndefinedMetricWarning: Precision and F-score are ill-defined and being set to 0.0 in labels with no predicted samples. Use `zero_division` parameter to control this behavior.\n",
      "  _warn_prf(average, modifier, msg_start, len(result))\n",
      "/opt/anaconda3/envs/ldsi/lib/python3.8/site-packages/sklearn/metrics/_classification.py:1245: UndefinedMetricWarning: Precision and F-score are ill-defined and being set to 0.0 in labels with no predicted samples. Use `zero_division` parameter to control this behavior.\n",
      "  _warn_prf(average, modifier, msg_start, len(result))\n"
     ]
    }
   ],
   "source": [
    "import sklearn_crfsuite\n",
    "from sklearn_crfsuite import metrics\n",
    "\n",
    "embedding_clf_crf = sklearn_crfsuite.CRF(algorithm='lbfgs', \n",
    "                                     c1=0.1,\n",
    "                                     c2=0.1,\n",
    "                                     max_iterations=150,\n",
    "                                     all_possible_transitions=True)\n",
    "\n",
    "embedding_clf_crf = embedding_clf_crf.fit(embedding_train_crf_X, embedding_train_crf_y)\n",
    "labels = list(embedding_clf_crf.classes_)\n",
    "sorted_labels = sorted(\n",
    "    labels,\n",
    "    key=lambda name: (name[1:], name[0])\n",
    ")\n",
    "y_pred = embedding_clf_crf.predict(embedding_dev_crf_X)\n",
    "print('Embedding CRF test:')\n",
    "print(metrics.flat_classification_report(embedding_dev_crf_y, y_pred, labels=sorted_labels, digits=2))"
   ]
  }
 ],
 "metadata": {
  "kernelspec": {
   "display_name": "Python 3",
   "language": "python",
   "name": "python3"
  },
  "language_info": {
   "codemirror_mode": {
    "name": "ipython",
    "version": 3
   },
   "file_extension": ".py",
   "mimetype": "text/x-python",
   "name": "python",
   "nbconvert_exporter": "python",
   "pygments_lexer": "ipython3",
   "version": "3.8.2"
  }
 },
 "nbformat": 4,
 "nbformat_minor": 5
}
